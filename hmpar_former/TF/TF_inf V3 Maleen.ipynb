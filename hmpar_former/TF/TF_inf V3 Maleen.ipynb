{
 "cells": [
  {
   "cell_type": "code",
   "execution_count": 1,
   "id": "033b1eb5-8e73-46fa-97e8-30208fb91eb4",
   "metadata": {},
   "outputs": [],
   "source": [
    "import torch\n",
    "import torch.nn as nn\n",
    "import torch.optim as optim\n",
    "import torch.utils.data as data\n",
    "import torch.nn.functional as F\n",
    "import pandas as pd\n",
    "import numpy as np\n",
    "import matplotlib.pyplot as plt\n",
    "import math\n",
    "import copy\n",
    "import sys\n",
    "from torch.utils.data import DataLoader, TensorDataset, Subset\n",
    "from sklearn.model_selection import train_test_split\n",
    "from embedding_layers import SkeletalInputEmbedding\n",
    "from encoder_layers import TransformerEncoder\n",
    "from decoder_layers import TransformerDecoder\n",
    "import TF_helper_functions as hf\n",
    "import pickle\n",
    "import ipyvolume as ipv\n",
    "import numpy as np\n",
    "import ipywidgets as widgets\n",
    "from IPython.display import display\n"
   ]
  },
  {
   "cell_type": "code",
   "execution_count": 2,
   "id": "4bb28bfa-65b6-4023-a035-35036b5aa2c7",
   "metadata": {},
   "outputs": [],
   "source": [
    "datapath='/home/maleen/research_data/Transformers/datasets/khoa_datasets/'\n",
    "# Base path and file information\n",
    "base_name='24_09_08_training_norm'\n",
    "\n",
    "weights_path='/home/maleen/research_data/Transformers/models/TF_tokenised/24_09_08_v3_best_model.pth'\n",
    "\n",
    "filename=datapath+base_name+'.pkl'\n",
    "\n",
    "datasetnum=1\n",
    "\n",
    "def load_results_from_pickle(filename):\n",
    "    with open(filename, 'rb') as f:\n",
    "        return pickle.load(f)\n",
    "\n",
    "def process_all_datasets(results, input_length=60, predict_length=60):\n",
    "    all_X_pos, all_X_vel, all_X_acc = [], [], []\n",
    "    all_Y_pos, all_Y_vel, all_Y_acc = [], [], []\n",
    "    discarded_frames = {}\n",
    "\n",
    "    for i in range(1, datasetnum+1):  # Assuming you have 6 datasets\n",
    "        dataset_key = f'dataset{i}'\n",
    "        norm_pos = results[f'{dataset_key}_normpos']\n",
    "        norm_vel = results[f'{dataset_key}_normvel']\n",
    "        norm_acc = results[f'{dataset_key}_normacc']\n",
    "\n",
    "        # Generate sequences for this dataset\n",
    "        X_pos, X_vel, X_acc, Y_pos, Y_vel, Y_acc = hf.generate_sequences(norm_pos, norm_vel, norm_acc, input_length, predict_length)\n",
    "        \n",
    "        all_X_pos.append(X_pos)\n",
    "        all_X_vel.append(X_vel)\n",
    "        all_X_acc.append(X_acc)\n",
    "        all_Y_pos.append(Y_pos)\n",
    "        all_Y_vel.append(Y_vel)\n",
    "        all_Y_acc.append(Y_acc)\n",
    "\n",
    "        # Calculate discarded frames\n",
    "        total_frames = norm_pos.shape[0]\n",
    "        used_frames = X_pos.shape[0] + input_length + predict_length - 1\n",
    "        discarded = total_frames - used_frames\n",
    "        discarded_frames[dataset_key] = discarded\n",
    "\n",
    "    # Combine sequences from all datasets\n",
    "    combined_X_pos = np.concatenate(all_X_pos)\n",
    "    combined_X_vel = np.concatenate(all_X_vel)\n",
    "    combined_X_acc = np.concatenate(all_X_acc)\n",
    "    combined_Y_pos = np.concatenate(all_Y_pos)\n",
    "    combined_Y_vel = np.concatenate(all_Y_vel)\n",
    "    combined_Y_acc = np.concatenate(all_Y_acc)\n",
    "\n",
    "    return (combined_X_pos, combined_X_vel, combined_X_acc, \n",
    "            combined_Y_pos, combined_Y_vel, combined_Y_acc, \n",
    "            discarded_frames)\n",
    "\n",
    "\n"
   ]
  },
  {
   "cell_type": "code",
   "execution_count": 8,
   "id": "15b76f69",
   "metadata": {},
   "outputs": [
    {
     "name": "stdout",
     "output_type": "stream",
     "text": [
      "Combined sequences shapes:\n",
      "X_pos shape: (3515, 30, 6, 3)\n",
      "X_vel shape: (3515, 30, 6, 3)\n",
      "X_acc shape: (3515, 30, 6, 3)\n",
      "Y_pos shape: (3515, 15, 6, 3)\n",
      "Y_vel shape: (3515, 15, 6, 3)\n",
      "Y_acc shape: (3515, 15, 6, 3)\n",
      "\n",
      "Discarded frames per dataset:\n",
      "dataset1: 0 frames\n"
     ]
    }
   ],
   "source": [
    "input_length = 30\n",
    "predict_length = 15\n",
    "\n",
    "# Load the results\n",
    "results = load_results_from_pickle(filename)\n",
    "\n",
    "medians_pos = results['combined_medians_pos']\n",
    "iqrs_pos = results['combined_iqrs_pos']\n",
    "\n",
    "medians_vel = results['combined_medians_vel']\n",
    "iqrs_vel = results['combined_iqrs_vel']\n",
    "\n",
    "\n",
    "# Process all datasets and get combined sequences\n",
    "(combined_X_pos, combined_X_vel, combined_X_acc, \n",
    " combined_Y_pos, combined_Y_vel, combined_Y_acc, \n",
    " discarded_frames) = process_all_datasets(results, input_length, predict_length)\n",
    "\n",
    "print(\"Combined sequences shapes:\")\n",
    "print(f\"X_pos shape: {combined_X_pos.shape}\")\n",
    "print(f\"X_vel shape: {combined_X_vel.shape}\")\n",
    "print(f\"X_acc shape: {combined_X_acc.shape}\")\n",
    "print(f\"Y_pos shape: {combined_Y_pos.shape}\")\n",
    "print(f\"Y_vel shape: {combined_Y_vel.shape}\")\n",
    "print(f\"Y_acc shape: {combined_Y_acc.shape}\")\n",
    "\n",
    "print(\"\\nDiscarded frames per dataset:\")\n",
    "for dataset, frames in discarded_frames.items():\n",
    "    print(f\"{dataset}: {frames} frames\")\n"
   ]
  },
  {
   "cell_type": "code",
   "execution_count": 9,
   "id": "ddaae5bd-b5e7-49d4-bbd2-5e5e13c6e656",
   "metadata": {},
   "outputs": [],
   "source": [
    "def robust_normalize_data_with_clipping(data, medians_per_joint_axis, iqrs_per_joint_axis, normalized_data, clipping_percentiles=(1, 99)):\n",
    "    for joint in range(data.shape[1]):  # For each joint\n",
    "        for axis in range(data.shape[2]):  # For each axis (x, y, z)\n",
    "            joint_axis_data = data[:, joint, axis]\n",
    "            # Determine clipping thresholds based on percentiles\n",
    "            lower_threshold, upper_threshold = np.percentile(joint_axis_data, clipping_percentiles)\n",
    "            # Clip the data based on thresholds\n",
    "            clipped_values = np.clip(joint_axis_data, lower_threshold, upper_threshold)\n",
    "            # Normalize the clipped data, avoiding division by zero\n",
    "            if iqrs_per_joint_axis[joint, axis] > 0:\n",
    "                normalized_values = (clipped_values - medians_per_joint_axis[joint, axis]) / iqrs_per_joint_axis[joint, axis]\n",
    "            else:\n",
    "                normalized_values = clipped_values  # Keep original values if IQR is 0\n",
    "            # Store the normalized values\n",
    "            normalized_data[:, joint, axis] = normalized_values\n",
    "    return normalized_data\n",
    "\n",
    "def calculate_combined_statistics(data_list):\n",
    "    combined_data = np.concatenate(data_list, axis=0)\n",
    "    medians = np.median(combined_data, axis=0)\n",
    "    q75, q25 = np.percentile(combined_data, [75, 25], axis=0)\n",
    "    iqrs = q75 - q25\n",
    "    return medians, iqrs\n",
    "\n",
    "def process_datasets_with_combined_normalization(datasets, timestamps_list):\n",
    "    results = {}\n",
    "    pos_list, vel_list, acc_list = [], [], []\n",
    "\n",
    "    # First pass: calculate velocity and acceleration for each dataset\n",
    "    for i, (dataset, timestamps) in enumerate(zip(datasets, timestamps_list), 1):\n",
    "        pos, vel, acc = calculate_velocity_acceleration(dataset, timestamps)\n",
    "        pos_list.append(pos)\n",
    "        vel_list.append(vel)\n",
    "        acc_list.append(acc)\n",
    "\n",
    "    # Calculate combined statistics\n",
    "    medians_pos, iqrs_pos = calculate_combined_statistics(pos_list)\n",
    "    medians_vel, iqrs_vel = calculate_combined_statistics(vel_list)\n",
    "    medians_acc, iqrs_acc = calculate_combined_statistics(acc_list)\n",
    "\n",
    "    # Second pass: normalize each dataset using the combined statistics\n",
    "    for i, (pos, vel, acc) in enumerate(zip(pos_list, vel_list, acc_list), 1):\n",
    "        norm_pos = np.empty_like(pos)\n",
    "        norm_vel = np.empty_like(vel)\n",
    "        norm_acc = np.empty_like(acc)\n",
    "\n",
    "        norm_pos = pos #robust_normalize_data_with_clipping(pos, medians_pos, iqrs_pos, norm_pos)\n",
    "        norm_vel = robust_normalize_data_with_clipping(vel, medians_vel, iqrs_vel, norm_vel)\n",
    "        norm_acc = robust_normalize_data_with_clipping(acc, medians_acc, iqrs_acc, norm_acc)\n",
    "\n",
    "        results[f\"dataset{i}_normpos\"] = norm_pos\n",
    "        results[f\"dataset{i}_normvel\"] = norm_vel\n",
    "        results[f\"dataset{i}_normacc\"] = norm_acc\n",
    "\n",
    "        print(f\"Calculated and normalized for dataset{i}:\")\n",
    "        print(f\"  Position shape: {norm_pos.shape}\")\n",
    "        print(f\"  Velocity shape: {norm_vel.shape}\")\n",
    "        print(f\"  Acceleration shape: {norm_acc.shape}\")\n",
    "        print()\n",
    "\n",
    "    # Store the combined statistics\n",
    "    results[\"combined_medians_pos\"] = medians_pos\n",
    "    results[\"combined_iqrs_pos\"] = iqrs_pos\n",
    "    results[\"combined_medians_vel\"] = medians_vel\n",
    "    results[\"combined_iqrs_vel\"] = iqrs_vel\n",
    "    results[\"combined_medians_acc\"] = medians_acc\n",
    "    results[\"combined_iqrs_acc\"] = iqrs_acc\n",
    "\n",
    "    return results\n",
    "\n",
    "# Usage example\n",
    "\n",
    "#results = process_datasets_with_combined_normalization(datasets, timestamps_list)"
   ]
  },
  {
   "cell_type": "code",
   "execution_count": 15,
   "id": "ee8abd09",
   "metadata": {
    "notebookRunGroups": {
     "groupValue": "1"
    }
   },
   "outputs": [
    {
     "name": "stdout",
     "output_type": "stream",
     "text": [
      "broke  100\n",
      "[array(0.01080525, dtype=float32), array(0.03689691, dtype=float32), array(0.09181647, dtype=float32), array(0.08158497, dtype=float32), array(0.11127322, dtype=float32), array(0.83954144, dtype=float32), array(0.12632468, dtype=float32), array(0.611345, dtype=float32), array(0.07778462, dtype=float32), array(0.6293872, dtype=float32), array(0.08173343, dtype=float32), array(0.5936449, dtype=float32), array(0.08194836, dtype=float32), array(0.60090166, dtype=float32), array(0.08256269, dtype=float32)]\n"
     ]
    }
   ],
   "source": [
    "# Set device\n",
    "device = torch.device(\"cuda\" if torch.cuda.is_available() else \"cpu\")\n",
    "\n",
    "# Load the saved model weights\n",
    "checkpoint = torch.load(weights_path, map_location=device)\n",
    "embed_dim = 128\n",
    "num_heads = 8\n",
    "num_layers = 6\n",
    "num_joints = 6\n",
    "dropout_rate = 0.1\n",
    "autoregressiveloops=15\n",
    "batch_size = 1\n",
    "dof=3\n",
    "input_dim = num_joints * dof\n",
    "\n",
    "# Initialize the models with the same configuration as during training\n",
    "embedding = SkeletalInputEmbedding(input_dim).to(device)\n",
    "#t_embedding = TargetEmbedding(num_joints=num_joints, dof=3, embed_dim=embed_dim,device=device).to(device)\n",
    "encoder = TransformerEncoder(embed_dim, num_heads, num_layers, dropout_rate).to(device)\n",
    "decoder = TransformerDecoder(embed_dim, num_heads, num_layers, num_joints, dropout_rate).to(device)\n",
    "\n",
    "# Load state dicts\n",
    "embedding.load_state_dict(checkpoint['embedding_state_dict'])\n",
    "#t_embedding.load_state_dict(checkpoint['t_embedding_state_dict'])\n",
    "encoder.load_state_dict(checkpoint['encoder_state_dict'])\n",
    "decoder.load_state_dict(checkpoint['decoder_state_dict'])\n",
    "\n",
    "embedding.eval()\n",
    "#t_embedding.eval()\n",
    "encoder.eval()\n",
    "decoder.eval()\n",
    "\n",
    "# X_pos, X_vel, X_acc, Y_pos, Y_vel, Y_acc = generate_sequences(norm_pos, norm_vel, norm_acc, input_length, predict_length)\n",
    "\n",
    "# Convert to PyTorch tensors\n",
    "X_pos_tensor = torch.tensor(combined_X_pos, dtype=torch.float32)\n",
    "X_vel_tensor = torch.tensor(combined_X_vel, dtype=torch.float32)\n",
    "X_acc_tensor = torch.tensor(combined_X_acc, dtype=torch.float32)\n",
    "\n",
    "\n",
    "Y_pos_tensor = torch.tensor(combined_Y_pos, dtype=torch.float32)\n",
    "Y_vel_tensor = torch.tensor(combined_Y_vel, dtype=torch.float32)\n",
    "Y_acc_tensor = torch.tensor(combined_Y_acc, dtype=torch.float32)\n",
    "\n",
    "# Create the DataLoader for inference data\n",
    "dataset = TensorDataset(X_pos_tensor, X_vel_tensor, X_acc_tensor, Y_pos_tensor, Y_vel_tensor)\n",
    "inference_loader = DataLoader(dataset, batch_size=batch_size, shuffle=False)\n",
    "\n",
    "# Prepare for autoregressive decoding\n",
    "#predicted_positions = []\n",
    "\n",
    "criterion = hf.MaskedMSELoss()\n",
    "batchnum=0\n",
    "# Perform inference across all batches\n",
    "for batch in inference_loader:\n",
    "    X_pos_batch, X_vel_batch, X_acc_batch, Y_pos_batch, Y_vel_tensor = [b.to(device) for b in batch]\n",
    "    \n",
    "    predicted_positions = []\n",
    "    loss_vec=[]\n",
    "\n",
    "\n",
    "    # Encoder pass\n",
    "   \n",
    "    inputembeddings = embedding(X_pos_batch, X_vel_batch)\n",
    "    memory = encoder(inputembeddings, src_key_padding_mask=None)\n",
    "\n",
    "    \n",
    "    # Initialize the start token for decoding\n",
    "    current_pos = X_pos_batch[:, -1:, :, :]\n",
    "    current_vel= X_vel_batch[:, -1:, :, :]\n",
    "\n",
    "\n",
    "    for i in range(autoregressiveloops):\n",
    "        # Embed the current position\n",
    "        Y_expected= Y_pos_batch[:,i:i+1,:,:]\n",
    "    \n",
    "\n",
    "        # # #Running whole model\n",
    "        # if i > 0:\n",
    "        #     X_mask_batch_ar = torch.cat([X_mask_batch[:, 1:, :], current_mask], dim=1)\n",
    "        #     X_pos_batch_ar = torch.cat([X_pos_batch[:, 1:, :, :], current_pos], dim=1)\n",
    "    \n",
    "        #     src_key_padding_mask = ~X_mask_batch_ar.view(batch_size, input_length * num_joints)\n",
    "        #     input_embeddings = embedding(X_pos_batch_ar, X_mask_batch_ar)\n",
    "        #     memory = encoder(input_embeddings, src_key_padding_mask=src_key_padding_mask)\n",
    "        # ##\n",
    "        \n",
    "        current_embeddings = embedding(current_pos, current_vel)\n",
    "        \n",
    "        # Decoder pass\n",
    "        output = decoder(current_embeddings, memory, tgt_key_padding_mask=None, memory_key_padding_mask=None)\n",
    "    \n",
    "        # Update current_pos for the next prediction\n",
    "\n",
    "        old_pos= current_pos\n",
    "        current_pos = output[:, :, :, :].detach()  # only take the last timestep\n",
    "\n",
    "        #current_vel = (current_pos-old_pos)/0.2\n",
    "\n",
    "        # velocity_error=Y_vel_tensor[:, i, :, :]-current_vel\n",
    "        # vel = Y_vel_tensor[:, i, :, :].cpu() \n",
    "        # norm_vel = np.empty_like(vel)\n",
    "        # current_vel = robust_normalize_data_with_clipping(vel, medians_vel, iqrs_vel, norm_vel)\n",
    "        # current_vel.gpu()\n",
    "        \n",
    "        #current_vel = Y_vel_tensor[:, i, :, :]\n",
    "\n",
    "        ######## NOTE: KHOA CHANGED THIS\n",
    "\n",
    "        #convert to numpy\n",
    "        numpy_current_pos = current_pos.squeeze().cpu().numpy() #(6, 3) shape\n",
    "        numpy_old_pos = old_pos.squeeze().cpu().numpy() #(6, 3) shape\n",
    "\n",
    "        #denormalize to do the substraction \n",
    "        denor_current_pos = hf.reverse_normalization(numpy_current_pos, medians_pos, iqrs_pos) \n",
    "        denor_old_pos = hf.reverse_normalization(numpy_old_pos, medians_pos, iqrs_pos)\n",
    "        denor_current_vel = (denor_current_pos-denor_old_pos)/0.1 #10 Hz\n",
    "\n",
    "        \n",
    "        # normalize the velocity CHECK THIS!!\n",
    "        denor_current_vel = denor_current_vel.reshape(1, 6, 3) # reshape to (1, 6, 3) for normalization function\n",
    "        numpy_current_vel = np.empty_like(denor_current_vel)\n",
    "        numpy_current_vel = hf.robust_normalize_data_with_clipping(denor_current_vel, medians_vel, iqrs_vel, numpy_current_vel)\n",
    "        current_vel = torch.tensor(numpy_current_vel, dtype=torch.float32).to(device) # convert to tensor\n",
    "\n",
    "        #######\n",
    "        \n",
    "        predicted_positions.append(current_pos.squeeze().cpu().numpy())\n",
    "        \n",
    "        output = output.where(~torch.isnan(output), torch.zeros_like(output))\n",
    "        # masked_output = output * Xmask\n",
    "    \n",
    "        Y_expected = Y_expected.where(~torch.isnan(Y_expected), torch.zeros_like(Y_expected))\n",
    "        # masked_y_pos = Y_pos_batch * Ymask\n",
    "\n",
    "        #print(Y_expected)\n",
    "    \n",
    "        # Compute loss\n",
    "        \n",
    "        loss = criterion(output, Y_expected)\n",
    "        loss_vec.append(loss.detach().cpu().numpy())\n",
    "\n",
    "        \n",
    "    \n",
    "    batchnum=batchnum+1\n",
    "    #print(batchnum)\n",
    "    #break\n",
    "\n",
    "    if batchnum == 100:\n",
    "        print('broke ', batchnum )\n",
    "        print(loss_vec)\n",
    "        break\n",
    "# Convert the list of predicted positions to a more manageable form, e.g., a NumPy array\n",
    "predicted_positions = np.array(predicted_positions)\n",
    "\n",
    "#print(\"Predicted Positions:\", predicted_positions)\n"
   ]
  },
  {
   "cell_type": "code",
   "execution_count": 16,
   "id": "fe4a82bd",
   "metadata": {
    "scrolled": true
   },
   "outputs": [
    {
     "name": "stdout",
     "output_type": "stream",
     "text": [
      "Warning: all_data has unexpected shape: (180, 3)\n"
     ]
    },
    {
     "data": {
      "application/vnd.plotly.v1+json": {
       "config": {
        "plotlyServerURL": "https://plot.ly"
       },
       "data": [
        {
         "marker": {
          "color": "blue",
          "size": 6
         },
         "mode": "markers",
         "name": "Prediction",
         "type": "scatter3d",
         "x": [
          0
         ],
         "y": [
          0
         ],
         "z": [
          0
         ]
        },
        {
         "marker": {
          "color": "green",
          "size": 6
         },
         "mode": "markers",
         "name": "Ground Truth",
         "type": "scatter3d",
         "x": [
          0
         ],
         "y": [
          0
         ],
         "z": [
          0
         ]
        },
        {
         "line": {
          "color": "red",
          "width": 2
         },
         "mode": "lines",
         "name": "Prediction",
         "type": "scatter3d",
         "x": [
          0,
          0
         ],
         "y": [
          0,
          0
         ],
         "z": [
          0,
          0
         ]
        },
        {
         "line": {
          "color": "lime",
          "width": 2
         },
         "mode": "lines",
         "name": "Ground Truth",
         "type": "scatter3d",
         "x": [
          0,
          0
         ],
         "y": [
          0,
          0
         ],
         "z": [
          0,
          0
         ]
        },
        {
         "line": {
          "color": "red",
          "width": 2
         },
         "mode": "lines",
         "name": "Prediction",
         "type": "scatter3d",
         "x": [
          0,
          0
         ],
         "y": [
          0,
          0
         ],
         "z": [
          0,
          0
         ]
        },
        {
         "line": {
          "color": "lime",
          "width": 2
         },
         "mode": "lines",
         "name": "Ground Truth",
         "type": "scatter3d",
         "x": [
          0,
          0
         ],
         "y": [
          0,
          0
         ],
         "z": [
          0,
          0
         ]
        },
        {
         "line": {
          "color": "red",
          "width": 2
         },
         "mode": "lines",
         "name": "Prediction",
         "type": "scatter3d",
         "x": [
          0,
          0
         ],
         "y": [
          0,
          0
         ],
         "z": [
          0,
          0
         ]
        },
        {
         "line": {
          "color": "lime",
          "width": 2
         },
         "mode": "lines",
         "name": "Ground Truth",
         "type": "scatter3d",
         "x": [
          0,
          0
         ],
         "y": [
          0,
          0
         ],
         "z": [
          0,
          0
         ]
        },
        {
         "line": {
          "color": "red",
          "width": 2
         },
         "mode": "lines",
         "name": "Prediction",
         "type": "scatter3d",
         "x": [
          0,
          0
         ],
         "y": [
          0,
          0
         ],
         "z": [
          0,
          0
         ]
        },
        {
         "line": {
          "color": "lime",
          "width": 2
         },
         "mode": "lines",
         "name": "Ground Truth",
         "type": "scatter3d",
         "x": [
          0,
          0
         ],
         "y": [
          0,
          0
         ],
         "z": [
          0,
          0
         ]
        },
        {
         "line": {
          "color": "red",
          "width": 2
         },
         "mode": "lines",
         "name": "Prediction",
         "type": "scatter3d",
         "x": [
          0,
          0
         ],
         "y": [
          0,
          0
         ],
         "z": [
          0,
          0
         ]
        },
        {
         "line": {
          "color": "lime",
          "width": 2
         },
         "mode": "lines",
         "name": "Ground Truth",
         "type": "scatter3d",
         "x": [
          0,
          0
         ],
         "y": [
          0,
          0
         ],
         "z": [
          0,
          0
         ]
        }
       ],
       "frames": [
        {
         "data": [
          {
           "marker": {
            "color": "blue",
            "size": 6
           },
           "mode": "markers",
           "type": "scatter3d",
           "x": [
            -0.04543885,
            -0.17002411,
            -0.19331875,
            0.13614458,
            0.17638431,
            0.19434579
           ],
           "y": [
            0.0008290979,
            -0.0036068729,
            0.22065777,
            0.23499207,
            -0.0003229792,
            -0.20033635
           ],
           "z": [
            -0.9884547,
            -1.1692284,
            -1.2157098,
            -1.2305131,
            -1.2770967,
            -1.2484788
           ]
          },
          {
           "marker": {
            "color": "green",
            "size": 6
           },
           "mode": "markers",
           "type": "scatter3d",
           "x": [
            0.07058263287004063,
            -0.10197027794246338,
            -0.1780385697373179,
            0.14068884997093267,
            0.1647013120196969,
            0.1871604776643343
           ],
           "y": [
            0.01216101918923701,
            -0.0074789830761859966,
            0.22554454212143793,
            0.2389960735675761,
            -0.004917336663142341,
            -0.2393906416475027
           ],
           "z": [
            -1.0902892308979144,
            -1.2454464428998406,
            -1.2534873465614922,
            -1.3236151945074397,
            -1.332595825528498,
            -1.3440341990110838
           ]
          },
          {
           "line": {
            "color": "red",
            "width": 2
           },
           "mode": "lines",
           "type": "scatter3d",
           "x": [
            -0.045438848435878754,
            -0.170024111866951
           ],
           "y": [
            0.0008290978730656207,
            -0.0036068728659301996
           ],
           "z": [
            -0.9884546995162964,
            -1.169228434562683
           ]
          },
          {
           "line": {
            "color": "red",
            "width": 2
           },
           "mode": "lines",
           "type": "scatter3d",
           "x": [
            -0.170024111866951,
            -0.19331875443458557
           ],
           "y": [
            -0.0036068728659301996,
            0.22065776586532593
           ],
           "z": [
            -1.169228434562683,
            -1.2157098054885864
           ]
          },
          {
           "line": {
            "color": "red",
            "width": 2
           },
           "mode": "lines",
           "type": "scatter3d",
           "x": [
            0.13614457845687866,
            0.1763843148946762
           ],
           "y": [
            0.23499207198619843,
            -0.0003229792055208236
           ],
           "z": [
            -1.230513095855713,
            -1.2770967483520508
           ]
          },
          {
           "line": {
            "color": "red",
            "width": 2
           },
           "mode": "lines",
           "type": "scatter3d",
           "x": [
            0.1763843148946762,
            0.19434578716754913
           ],
           "y": [
            -0.0003229792055208236,
            -0.20033635199069977
           ],
           "z": [
            -1.2770967483520508,
            -1.2484787702560425
           ]
          },
          {
           "line": {
            "color": "red",
            "width": 2
           },
           "mode": "lines",
           "type": "scatter3d",
           "x": [
            -0.19331875443458557,
            0.13614457845687866
           ],
           "y": [
            0.22065776586532593,
            0.23499207198619843
           ],
           "z": [
            -1.2157098054885864,
            -1.230513095855713
           ]
          },
          {
           "line": {
            "color": "lime",
            "width": 2
           },
           "mode": "lines",
           "type": "scatter3d",
           "x": [
            0.07058263287004063,
            -0.10197027794246338
           ],
           "y": [
            0.01216101918923701,
            -0.0074789830761859966
           ],
           "z": [
            -1.0902892308979144,
            -1.2454464428998406
           ]
          },
          {
           "line": {
            "color": "lime",
            "width": 2
           },
           "mode": "lines",
           "type": "scatter3d",
           "x": [
            -0.10197027794246338,
            -0.1780385697373179
           ],
           "y": [
            -0.0074789830761859966,
            0.22554454212143793
           ],
           "z": [
            -1.2454464428998406,
            -1.2534873465614922
           ]
          },
          {
           "line": {
            "color": "lime",
            "width": 2
           },
           "mode": "lines",
           "type": "scatter3d",
           "x": [
            0.14068884997093267,
            0.1647013120196969
           ],
           "y": [
            0.2389960735675761,
            -0.004917336663142341
           ],
           "z": [
            -1.3236151945074397,
            -1.332595825528498
           ]
          },
          {
           "line": {
            "color": "lime",
            "width": 2
           },
           "mode": "lines",
           "type": "scatter3d",
           "x": [
            0.1647013120196969,
            0.1871604776643343
           ],
           "y": [
            -0.004917336663142341,
            -0.2393906416475027
           ],
           "z": [
            -1.332595825528498,
            -1.3440341990110838
           ]
          },
          {
           "line": {
            "color": "lime",
            "width": 2
           },
           "mode": "lines",
           "type": "scatter3d",
           "x": [
            -0.1780385697373179,
            0.14068884997093267
           ],
           "y": [
            0.22554454212143793,
            0.2389960735675761
           ],
           "z": [
            -1.2534873465614922,
            -1.3236151945074397
           ]
          }
         ],
         "name": "0"
        },
        {
         "data": [
          {
           "marker": {
            "color": "blue",
            "size": 6
           },
           "mode": "markers",
           "type": "scatter3d",
           "x": [
            -0.04543885,
            -0.17002411,
            -0.19331875,
            0.13614458,
            0.17638431,
            0.19434579
           ],
           "y": [
            0.0008290979,
            -0.0036068729,
            0.22065777,
            0.23499207,
            -0.0003229792,
            -0.20033635
           ],
           "z": [
            -0.9884547,
            -1.1692284,
            -1.2157098,
            -1.2305131,
            -1.2770967,
            -1.2484788
           ]
          },
          {
           "marker": {
            "color": "green",
            "size": 6
           },
           "mode": "markers",
           "type": "scatter3d",
           "x": [
            0.07058263287004063,
            -0.10197027794246338,
            -0.1780385697373179,
            0.14068884997093267,
            0.1647013120196969,
            0.1871604776643343
           ],
           "y": [
            0.01216101918923701,
            -0.0074789830761859966,
            0.22554454212143793,
            0.2389960735675761,
            -0.004917336663142341,
            -0.2393906416475027
           ],
           "z": [
            -1.0902892308979144,
            -1.2454464428998406,
            -1.2534873465614922,
            -1.3236151945074397,
            -1.332595825528498,
            -1.3440341990110838
           ]
          },
          {
           "line": {
            "color": "red",
            "width": 2
           },
           "mode": "lines",
           "type": "scatter3d",
           "x": [
            -0.045438848435878754,
            -0.170024111866951
           ],
           "y": [
            0.0008290978730656207,
            -0.0036068728659301996
           ],
           "z": [
            -0.9884546995162964,
            -1.169228434562683
           ]
          },
          {
           "line": {
            "color": "red",
            "width": 2
           },
           "mode": "lines",
           "type": "scatter3d",
           "x": [
            -0.170024111866951,
            -0.19331875443458557
           ],
           "y": [
            -0.0036068728659301996,
            0.22065776586532593
           ],
           "z": [
            -1.169228434562683,
            -1.2157098054885864
           ]
          },
          {
           "line": {
            "color": "red",
            "width": 2
           },
           "mode": "lines",
           "type": "scatter3d",
           "x": [
            0.13614457845687866,
            0.1763843148946762
           ],
           "y": [
            0.23499207198619843,
            -0.0003229792055208236
           ],
           "z": [
            -1.230513095855713,
            -1.2770967483520508
           ]
          },
          {
           "line": {
            "color": "red",
            "width": 2
           },
           "mode": "lines",
           "type": "scatter3d",
           "x": [
            0.1763843148946762,
            0.19434578716754913
           ],
           "y": [
            -0.0003229792055208236,
            -0.20033635199069977
           ],
           "z": [
            -1.2770967483520508,
            -1.2484787702560425
           ]
          },
          {
           "line": {
            "color": "red",
            "width": 2
           },
           "mode": "lines",
           "type": "scatter3d",
           "x": [
            -0.19331875443458557,
            0.13614457845687866
           ],
           "y": [
            0.22065776586532593,
            0.23499207198619843
           ],
           "z": [
            -1.2157098054885864,
            -1.230513095855713
           ]
          },
          {
           "line": {
            "color": "lime",
            "width": 2
           },
           "mode": "lines",
           "type": "scatter3d",
           "x": [
            0.07058263287004063,
            -0.10197027794246338
           ],
           "y": [
            0.01216101918923701,
            -0.0074789830761859966
           ],
           "z": [
            -1.0902892308979144,
            -1.2454464428998406
           ]
          },
          {
           "line": {
            "color": "lime",
            "width": 2
           },
           "mode": "lines",
           "type": "scatter3d",
           "x": [
            -0.10197027794246338,
            -0.1780385697373179
           ],
           "y": [
            -0.0074789830761859966,
            0.22554454212143793
           ],
           "z": [
            -1.2454464428998406,
            -1.2534873465614922
           ]
          },
          {
           "line": {
            "color": "lime",
            "width": 2
           },
           "mode": "lines",
           "type": "scatter3d",
           "x": [
            0.14068884997093267,
            0.1647013120196969
           ],
           "y": [
            0.2389960735675761,
            -0.004917336663142341
           ],
           "z": [
            -1.3236151945074397,
            -1.332595825528498
           ]
          },
          {
           "line": {
            "color": "lime",
            "width": 2
           },
           "mode": "lines",
           "type": "scatter3d",
           "x": [
            0.1647013120196969,
            0.1871604776643343
           ],
           "y": [
            -0.004917336663142341,
            -0.2393906416475027
           ],
           "z": [
            -1.332595825528498,
            -1.3440341990110838
           ]
          },
          {
           "line": {
            "color": "lime",
            "width": 2
           },
           "mode": "lines",
           "type": "scatter3d",
           "x": [
            -0.1780385697373179,
            0.14068884997093267
           ],
           "y": [
            0.22554454212143793,
            0.2389960735675761
           ],
           "z": [
            -1.2534873465614922,
            -1.3236151945074397
           ]
          }
         ],
         "name": "1"
        },
        {
         "data": [
          {
           "marker": {
            "color": "blue",
            "size": 6
           },
           "mode": "markers",
           "type": "scatter3d",
           "x": [
            -0.04543885,
            -0.17002411,
            -0.19331875,
            0.13614458,
            0.17638431,
            0.19434579
           ],
           "y": [
            0.0008290979,
            -0.0036068729,
            0.22065777,
            0.23499207,
            -0.0003229792,
            -0.20033635
           ],
           "z": [
            -0.9884547,
            -1.1692284,
            -1.2157098,
            -1.2305131,
            -1.2770967,
            -1.2484788
           ]
          },
          {
           "marker": {
            "color": "green",
            "size": 6
           },
           "mode": "markers",
           "type": "scatter3d",
           "x": [
            0.07058263287004063,
            -0.10197027794246338,
            -0.1780385697373179,
            0.14068884997093267,
            0.1647013120196969,
            0.1871604776643343
           ],
           "y": [
            0.01216101918923701,
            -0.0074789830761859966,
            0.22554454212143793,
            0.2389960735675761,
            -0.004917336663142341,
            -0.2393906416475027
           ],
           "z": [
            -1.0902892308979144,
            -1.2454464428998406,
            -1.2534873465614922,
            -1.3236151945074397,
            -1.332595825528498,
            -1.3440341990110838
           ]
          },
          {
           "line": {
            "color": "red",
            "width": 2
           },
           "mode": "lines",
           "type": "scatter3d",
           "x": [
            -0.045438848435878754,
            -0.170024111866951
           ],
           "y": [
            0.0008290978730656207,
            -0.0036068728659301996
           ],
           "z": [
            -0.9884546995162964,
            -1.169228434562683
           ]
          },
          {
           "line": {
            "color": "red",
            "width": 2
           },
           "mode": "lines",
           "type": "scatter3d",
           "x": [
            -0.170024111866951,
            -0.19331875443458557
           ],
           "y": [
            -0.0036068728659301996,
            0.22065776586532593
           ],
           "z": [
            -1.169228434562683,
            -1.2157098054885864
           ]
          },
          {
           "line": {
            "color": "red",
            "width": 2
           },
           "mode": "lines",
           "type": "scatter3d",
           "x": [
            0.13614457845687866,
            0.1763843148946762
           ],
           "y": [
            0.23499207198619843,
            -0.0003229792055208236
           ],
           "z": [
            -1.230513095855713,
            -1.2770967483520508
           ]
          },
          {
           "line": {
            "color": "red",
            "width": 2
           },
           "mode": "lines",
           "type": "scatter3d",
           "x": [
            0.1763843148946762,
            0.19434578716754913
           ],
           "y": [
            -0.0003229792055208236,
            -0.20033635199069977
           ],
           "z": [
            -1.2770967483520508,
            -1.2484787702560425
           ]
          },
          {
           "line": {
            "color": "red",
            "width": 2
           },
           "mode": "lines",
           "type": "scatter3d",
           "x": [
            -0.19331875443458557,
            0.13614457845687866
           ],
           "y": [
            0.22065776586532593,
            0.23499207198619843
           ],
           "z": [
            -1.2157098054885864,
            -1.230513095855713
           ]
          },
          {
           "line": {
            "color": "lime",
            "width": 2
           },
           "mode": "lines",
           "type": "scatter3d",
           "x": [
            0.07058263287004063,
            -0.10197027794246338
           ],
           "y": [
            0.01216101918923701,
            -0.0074789830761859966
           ],
           "z": [
            -1.0902892308979144,
            -1.2454464428998406
           ]
          },
          {
           "line": {
            "color": "lime",
            "width": 2
           },
           "mode": "lines",
           "type": "scatter3d",
           "x": [
            -0.10197027794246338,
            -0.1780385697373179
           ],
           "y": [
            -0.0074789830761859966,
            0.22554454212143793
           ],
           "z": [
            -1.2454464428998406,
            -1.2534873465614922
           ]
          },
          {
           "line": {
            "color": "lime",
            "width": 2
           },
           "mode": "lines",
           "type": "scatter3d",
           "x": [
            0.14068884997093267,
            0.1647013120196969
           ],
           "y": [
            0.2389960735675761,
            -0.004917336663142341
           ],
           "z": [
            -1.3236151945074397,
            -1.332595825528498
           ]
          },
          {
           "line": {
            "color": "lime",
            "width": 2
           },
           "mode": "lines",
           "type": "scatter3d",
           "x": [
            0.1647013120196969,
            0.1871604776643343
           ],
           "y": [
            -0.004917336663142341,
            -0.2393906416475027
           ],
           "z": [
            -1.332595825528498,
            -1.3440341990110838
           ]
          },
          {
           "line": {
            "color": "lime",
            "width": 2
           },
           "mode": "lines",
           "type": "scatter3d",
           "x": [
            -0.1780385697373179,
            0.14068884997093267
           ],
           "y": [
            0.22554454212143793,
            0.2389960735675761
           ],
           "z": [
            -1.2534873465614922,
            -1.3236151945074397
           ]
          }
         ],
         "name": "2"
        },
        {
         "data": [
          {
           "marker": {
            "color": "blue",
            "size": 6
           },
           "mode": "markers",
           "type": "scatter3d",
           "x": [
            -0.04543885,
            -0.17002411,
            -0.19331875,
            0.13614458,
            0.17638431,
            0.19434579
           ],
           "y": [
            0.0008290979,
            -0.0036068729,
            0.22065777,
            0.23499207,
            -0.0003229792,
            -0.20033635
           ],
           "z": [
            -0.9884547,
            -1.1692284,
            -1.2157098,
            -1.2305131,
            -1.2770967,
            -1.2484788
           ]
          },
          {
           "marker": {
            "color": "green",
            "size": 6
           },
           "mode": "markers",
           "type": "scatter3d",
           "x": [
            0.07058263287004063,
            -0.10197027794246338,
            -0.1780385697373179,
            0.14068884997093267,
            0.1647013120196969,
            0.1871604776643343
           ],
           "y": [
            0.01216101918923701,
            -0.0074789830761859966,
            0.22554454212143793,
            0.2389960735675761,
            -0.004917336663142341,
            -0.2393906416475027
           ],
           "z": [
            -1.0902892308979144,
            -1.2454464428998406,
            -1.2534873465614922,
            -1.3236151945074397,
            -1.332595825528498,
            -1.3440341990110838
           ]
          },
          {
           "line": {
            "color": "red",
            "width": 2
           },
           "mode": "lines",
           "type": "scatter3d",
           "x": [
            -0.045438848435878754,
            -0.170024111866951
           ],
           "y": [
            0.0008290978730656207,
            -0.0036068728659301996
           ],
           "z": [
            -0.9884546995162964,
            -1.169228434562683
           ]
          },
          {
           "line": {
            "color": "red",
            "width": 2
           },
           "mode": "lines",
           "type": "scatter3d",
           "x": [
            -0.170024111866951,
            -0.19331875443458557
           ],
           "y": [
            -0.0036068728659301996,
            0.22065776586532593
           ],
           "z": [
            -1.169228434562683,
            -1.2157098054885864
           ]
          },
          {
           "line": {
            "color": "red",
            "width": 2
           },
           "mode": "lines",
           "type": "scatter3d",
           "x": [
            0.13614457845687866,
            0.1763843148946762
           ],
           "y": [
            0.23499207198619843,
            -0.0003229792055208236
           ],
           "z": [
            -1.230513095855713,
            -1.2770967483520508
           ]
          },
          {
           "line": {
            "color": "red",
            "width": 2
           },
           "mode": "lines",
           "type": "scatter3d",
           "x": [
            0.1763843148946762,
            0.19434578716754913
           ],
           "y": [
            -0.0003229792055208236,
            -0.20033635199069977
           ],
           "z": [
            -1.2770967483520508,
            -1.2484787702560425
           ]
          },
          {
           "line": {
            "color": "red",
            "width": 2
           },
           "mode": "lines",
           "type": "scatter3d",
           "x": [
            -0.19331875443458557,
            0.13614457845687866
           ],
           "y": [
            0.22065776586532593,
            0.23499207198619843
           ],
           "z": [
            -1.2157098054885864,
            -1.230513095855713
           ]
          },
          {
           "line": {
            "color": "lime",
            "width": 2
           },
           "mode": "lines",
           "type": "scatter3d",
           "x": [
            0.07058263287004063,
            -0.10197027794246338
           ],
           "y": [
            0.01216101918923701,
            -0.0074789830761859966
           ],
           "z": [
            -1.0902892308979144,
            -1.2454464428998406
           ]
          },
          {
           "line": {
            "color": "lime",
            "width": 2
           },
           "mode": "lines",
           "type": "scatter3d",
           "x": [
            -0.10197027794246338,
            -0.1780385697373179
           ],
           "y": [
            -0.0074789830761859966,
            0.22554454212143793
           ],
           "z": [
            -1.2454464428998406,
            -1.2534873465614922
           ]
          },
          {
           "line": {
            "color": "lime",
            "width": 2
           },
           "mode": "lines",
           "type": "scatter3d",
           "x": [
            0.14068884997093267,
            0.1647013120196969
           ],
           "y": [
            0.2389960735675761,
            -0.004917336663142341
           ],
           "z": [
            -1.3236151945074397,
            -1.332595825528498
           ]
          },
          {
           "line": {
            "color": "lime",
            "width": 2
           },
           "mode": "lines",
           "type": "scatter3d",
           "x": [
            0.1647013120196969,
            0.1871604776643343
           ],
           "y": [
            -0.004917336663142341,
            -0.2393906416475027
           ],
           "z": [
            -1.332595825528498,
            -1.3440341990110838
           ]
          },
          {
           "line": {
            "color": "lime",
            "width": 2
           },
           "mode": "lines",
           "type": "scatter3d",
           "x": [
            -0.1780385697373179,
            0.14068884997093267
           ],
           "y": [
            0.22554454212143793,
            0.2389960735675761
           ],
           "z": [
            -1.2534873465614922,
            -1.3236151945074397
           ]
          }
         ],
         "name": "3"
        },
        {
         "data": [
          {
           "marker": {
            "color": "blue",
            "size": 6
           },
           "mode": "markers",
           "type": "scatter3d",
           "x": [
            -0.04543885,
            -0.17002411,
            -0.19331875,
            0.13614458,
            0.17638431,
            0.19434579
           ],
           "y": [
            0.0008290979,
            -0.0036068729,
            0.22065777,
            0.23499207,
            -0.0003229792,
            -0.20033635
           ],
           "z": [
            -0.9884547,
            -1.1692284,
            -1.2157098,
            -1.2305131,
            -1.2770967,
            -1.2484788
           ]
          },
          {
           "marker": {
            "color": "green",
            "size": 6
           },
           "mode": "markers",
           "type": "scatter3d",
           "x": [
            0.07058263287004063,
            -0.10197027794246338,
            -0.1780385697373179,
            0.14068884997093267,
            0.1647013120196969,
            0.1871604776643343
           ],
           "y": [
            0.01216101918923701,
            -0.0074789830761859966,
            0.22554454212143793,
            0.2389960735675761,
            -0.004917336663142341,
            -0.2393906416475027
           ],
           "z": [
            -1.0902892308979144,
            -1.2454464428998406,
            -1.2534873465614922,
            -1.3236151945074397,
            -1.332595825528498,
            -1.3440341990110838
           ]
          },
          {
           "line": {
            "color": "red",
            "width": 2
           },
           "mode": "lines",
           "type": "scatter3d",
           "x": [
            -0.045438848435878754,
            -0.170024111866951
           ],
           "y": [
            0.0008290978730656207,
            -0.0036068728659301996
           ],
           "z": [
            -0.9884546995162964,
            -1.169228434562683
           ]
          },
          {
           "line": {
            "color": "red",
            "width": 2
           },
           "mode": "lines",
           "type": "scatter3d",
           "x": [
            -0.170024111866951,
            -0.19331875443458557
           ],
           "y": [
            -0.0036068728659301996,
            0.22065776586532593
           ],
           "z": [
            -1.169228434562683,
            -1.2157098054885864
           ]
          },
          {
           "line": {
            "color": "red",
            "width": 2
           },
           "mode": "lines",
           "type": "scatter3d",
           "x": [
            0.13614457845687866,
            0.1763843148946762
           ],
           "y": [
            0.23499207198619843,
            -0.0003229792055208236
           ],
           "z": [
            -1.230513095855713,
            -1.2770967483520508
           ]
          },
          {
           "line": {
            "color": "red",
            "width": 2
           },
           "mode": "lines",
           "type": "scatter3d",
           "x": [
            0.1763843148946762,
            0.19434578716754913
           ],
           "y": [
            -0.0003229792055208236,
            -0.20033635199069977
           ],
           "z": [
            -1.2770967483520508,
            -1.2484787702560425
           ]
          },
          {
           "line": {
            "color": "red",
            "width": 2
           },
           "mode": "lines",
           "type": "scatter3d",
           "x": [
            -0.19331875443458557,
            0.13614457845687866
           ],
           "y": [
            0.22065776586532593,
            0.23499207198619843
           ],
           "z": [
            -1.2157098054885864,
            -1.230513095855713
           ]
          },
          {
           "line": {
            "color": "lime",
            "width": 2
           },
           "mode": "lines",
           "type": "scatter3d",
           "x": [
            0.07058263287004063,
            -0.10197027794246338
           ],
           "y": [
            0.01216101918923701,
            -0.0074789830761859966
           ],
           "z": [
            -1.0902892308979144,
            -1.2454464428998406
           ]
          },
          {
           "line": {
            "color": "lime",
            "width": 2
           },
           "mode": "lines",
           "type": "scatter3d",
           "x": [
            -0.10197027794246338,
            -0.1780385697373179
           ],
           "y": [
            -0.0074789830761859966,
            0.22554454212143793
           ],
           "z": [
            -1.2454464428998406,
            -1.2534873465614922
           ]
          },
          {
           "line": {
            "color": "lime",
            "width": 2
           },
           "mode": "lines",
           "type": "scatter3d",
           "x": [
            0.14068884997093267,
            0.1647013120196969
           ],
           "y": [
            0.2389960735675761,
            -0.004917336663142341
           ],
           "z": [
            -1.3236151945074397,
            -1.332595825528498
           ]
          },
          {
           "line": {
            "color": "lime",
            "width": 2
           },
           "mode": "lines",
           "type": "scatter3d",
           "x": [
            0.1647013120196969,
            0.1871604776643343
           ],
           "y": [
            -0.004917336663142341,
            -0.2393906416475027
           ],
           "z": [
            -1.332595825528498,
            -1.3440341990110838
           ]
          },
          {
           "line": {
            "color": "lime",
            "width": 2
           },
           "mode": "lines",
           "type": "scatter3d",
           "x": [
            -0.1780385697373179,
            0.14068884997093267
           ],
           "y": [
            0.22554454212143793,
            0.2389960735675761
           ],
           "z": [
            -1.2534873465614922,
            -1.3236151945074397
           ]
          }
         ],
         "name": "4"
        },
        {
         "data": [
          {
           "marker": {
            "color": "blue",
            "size": 6
           },
           "mode": "markers",
           "type": "scatter3d",
           "x": [
            -0.04543885,
            -0.17002411,
            -0.19331875,
            0.13614458,
            0.17638431,
            0.19434579
           ],
           "y": [
            0.0008290979,
            -0.0036068729,
            0.22065777,
            0.23499207,
            -0.0003229792,
            -0.20033635
           ],
           "z": [
            -0.9884547,
            -1.1692284,
            -1.2157098,
            -1.2305131,
            -1.2770967,
            -1.2484788
           ]
          },
          {
           "marker": {
            "color": "green",
            "size": 6
           },
           "mode": "markers",
           "type": "scatter3d",
           "x": [
            0.07058263287004063,
            -0.10197027794246338,
            -0.1780385697373179,
            0.14068884997093267,
            0.1647013120196969,
            0.1871604776643343
           ],
           "y": [
            0.01216101918923701,
            -0.0074789830761859966,
            0.22554454212143793,
            0.2389960735675761,
            -0.004917336663142341,
            -0.2393906416475027
           ],
           "z": [
            -1.0902892308979144,
            -1.2454464428998406,
            -1.2534873465614922,
            -1.3236151945074397,
            -1.332595825528498,
            -1.3440341990110838
           ]
          },
          {
           "line": {
            "color": "red",
            "width": 2
           },
           "mode": "lines",
           "type": "scatter3d",
           "x": [
            -0.045438848435878754,
            -0.170024111866951
           ],
           "y": [
            0.0008290978730656207,
            -0.0036068728659301996
           ],
           "z": [
            -0.9884546995162964,
            -1.169228434562683
           ]
          },
          {
           "line": {
            "color": "red",
            "width": 2
           },
           "mode": "lines",
           "type": "scatter3d",
           "x": [
            -0.170024111866951,
            -0.19331875443458557
           ],
           "y": [
            -0.0036068728659301996,
            0.22065776586532593
           ],
           "z": [
            -1.169228434562683,
            -1.2157098054885864
           ]
          },
          {
           "line": {
            "color": "red",
            "width": 2
           },
           "mode": "lines",
           "type": "scatter3d",
           "x": [
            0.13614457845687866,
            0.1763843148946762
           ],
           "y": [
            0.23499207198619843,
            -0.0003229792055208236
           ],
           "z": [
            -1.230513095855713,
            -1.2770967483520508
           ]
          },
          {
           "line": {
            "color": "red",
            "width": 2
           },
           "mode": "lines",
           "type": "scatter3d",
           "x": [
            0.1763843148946762,
            0.19434578716754913
           ],
           "y": [
            -0.0003229792055208236,
            -0.20033635199069977
           ],
           "z": [
            -1.2770967483520508,
            -1.2484787702560425
           ]
          },
          {
           "line": {
            "color": "red",
            "width": 2
           },
           "mode": "lines",
           "type": "scatter3d",
           "x": [
            -0.19331875443458557,
            0.13614457845687866
           ],
           "y": [
            0.22065776586532593,
            0.23499207198619843
           ],
           "z": [
            -1.2157098054885864,
            -1.230513095855713
           ]
          },
          {
           "line": {
            "color": "lime",
            "width": 2
           },
           "mode": "lines",
           "type": "scatter3d",
           "x": [
            0.07058263287004063,
            -0.10197027794246338
           ],
           "y": [
            0.01216101918923701,
            -0.0074789830761859966
           ],
           "z": [
            -1.0902892308979144,
            -1.2454464428998406
           ]
          },
          {
           "line": {
            "color": "lime",
            "width": 2
           },
           "mode": "lines",
           "type": "scatter3d",
           "x": [
            -0.10197027794246338,
            -0.1780385697373179
           ],
           "y": [
            -0.0074789830761859966,
            0.22554454212143793
           ],
           "z": [
            -1.2454464428998406,
            -1.2534873465614922
           ]
          },
          {
           "line": {
            "color": "lime",
            "width": 2
           },
           "mode": "lines",
           "type": "scatter3d",
           "x": [
            0.14068884997093267,
            0.1647013120196969
           ],
           "y": [
            0.2389960735675761,
            -0.004917336663142341
           ],
           "z": [
            -1.3236151945074397,
            -1.332595825528498
           ]
          },
          {
           "line": {
            "color": "lime",
            "width": 2
           },
           "mode": "lines",
           "type": "scatter3d",
           "x": [
            0.1647013120196969,
            0.1871604776643343
           ],
           "y": [
            -0.004917336663142341,
            -0.2393906416475027
           ],
           "z": [
            -1.332595825528498,
            -1.3440341990110838
           ]
          },
          {
           "line": {
            "color": "lime",
            "width": 2
           },
           "mode": "lines",
           "type": "scatter3d",
           "x": [
            -0.1780385697373179,
            0.14068884997093267
           ],
           "y": [
            0.22554454212143793,
            0.2389960735675761
           ],
           "z": [
            -1.2534873465614922,
            -1.3236151945074397
           ]
          }
         ],
         "name": "5"
        },
        {
         "data": [
          {
           "marker": {
            "color": "blue",
            "size": 6
           },
           "mode": "markers",
           "type": "scatter3d",
           "x": [
            -0.04543885,
            -0.17002411,
            -0.19331875,
            0.13614458,
            0.17638431,
            0.19434579
           ],
           "y": [
            0.0008290979,
            -0.0036068729,
            0.22065777,
            0.23499207,
            -0.0003229792,
            -0.20033635
           ],
           "z": [
            -0.9884547,
            -1.1692284,
            -1.2157098,
            -1.2305131,
            -1.2770967,
            -1.2484788
           ]
          },
          {
           "marker": {
            "color": "green",
            "size": 6
           },
           "mode": "markers",
           "type": "scatter3d",
           "x": [
            0.07058263287004063,
            -0.10197027794246338,
            -0.1780385697373179,
            0.14068884997093267,
            0.1647013120196969,
            0.1871604776643343
           ],
           "y": [
            0.01216101918923701,
            -0.0074789830761859966,
            0.22554454212143793,
            0.2389960735675761,
            -0.004917336663142341,
            -0.2393906416475027
           ],
           "z": [
            -1.0902892308979144,
            -1.2454464428998406,
            -1.2534873465614922,
            -1.3236151945074397,
            -1.332595825528498,
            -1.3440341990110838
           ]
          },
          {
           "line": {
            "color": "red",
            "width": 2
           },
           "mode": "lines",
           "type": "scatter3d",
           "x": [
            -0.045438848435878754,
            -0.170024111866951
           ],
           "y": [
            0.0008290978730656207,
            -0.0036068728659301996
           ],
           "z": [
            -0.9884546995162964,
            -1.169228434562683
           ]
          },
          {
           "line": {
            "color": "red",
            "width": 2
           },
           "mode": "lines",
           "type": "scatter3d",
           "x": [
            -0.170024111866951,
            -0.19331875443458557
           ],
           "y": [
            -0.0036068728659301996,
            0.22065776586532593
           ],
           "z": [
            -1.169228434562683,
            -1.2157098054885864
           ]
          },
          {
           "line": {
            "color": "red",
            "width": 2
           },
           "mode": "lines",
           "type": "scatter3d",
           "x": [
            0.13614457845687866,
            0.1763843148946762
           ],
           "y": [
            0.23499207198619843,
            -0.0003229792055208236
           ],
           "z": [
            -1.230513095855713,
            -1.2770967483520508
           ]
          },
          {
           "line": {
            "color": "red",
            "width": 2
           },
           "mode": "lines",
           "type": "scatter3d",
           "x": [
            0.1763843148946762,
            0.19434578716754913
           ],
           "y": [
            -0.0003229792055208236,
            -0.20033635199069977
           ],
           "z": [
            -1.2770967483520508,
            -1.2484787702560425
           ]
          },
          {
           "line": {
            "color": "red",
            "width": 2
           },
           "mode": "lines",
           "type": "scatter3d",
           "x": [
            -0.19331875443458557,
            0.13614457845687866
           ],
           "y": [
            0.22065776586532593,
            0.23499207198619843
           ],
           "z": [
            -1.2157098054885864,
            -1.230513095855713
           ]
          },
          {
           "line": {
            "color": "lime",
            "width": 2
           },
           "mode": "lines",
           "type": "scatter3d",
           "x": [
            0.07058263287004063,
            -0.10197027794246338
           ],
           "y": [
            0.01216101918923701,
            -0.0074789830761859966
           ],
           "z": [
            -1.0902892308979144,
            -1.2454464428998406
           ]
          },
          {
           "line": {
            "color": "lime",
            "width": 2
           },
           "mode": "lines",
           "type": "scatter3d",
           "x": [
            -0.10197027794246338,
            -0.1780385697373179
           ],
           "y": [
            -0.0074789830761859966,
            0.22554454212143793
           ],
           "z": [
            -1.2454464428998406,
            -1.2534873465614922
           ]
          },
          {
           "line": {
            "color": "lime",
            "width": 2
           },
           "mode": "lines",
           "type": "scatter3d",
           "x": [
            0.14068884997093267,
            0.1647013120196969
           ],
           "y": [
            0.2389960735675761,
            -0.004917336663142341
           ],
           "z": [
            -1.3236151945074397,
            -1.332595825528498
           ]
          },
          {
           "line": {
            "color": "lime",
            "width": 2
           },
           "mode": "lines",
           "type": "scatter3d",
           "x": [
            0.1647013120196969,
            0.1871604776643343
           ],
           "y": [
            -0.004917336663142341,
            -0.2393906416475027
           ],
           "z": [
            -1.332595825528498,
            -1.3440341990110838
           ]
          },
          {
           "line": {
            "color": "lime",
            "width": 2
           },
           "mode": "lines",
           "type": "scatter3d",
           "x": [
            -0.1780385697373179,
            0.14068884997093267
           ],
           "y": [
            0.22554454212143793,
            0.2389960735675761
           ],
           "z": [
            -1.2534873465614922,
            -1.3236151945074397
           ]
          }
         ],
         "name": "6"
        },
        {
         "data": [
          {
           "marker": {
            "color": "blue",
            "size": 6
           },
           "mode": "markers",
           "type": "scatter3d",
           "x": [
            -0.04543885,
            -0.17002411,
            -0.19331875,
            0.13614458,
            0.17638431,
            0.19434579
           ],
           "y": [
            0.0008290979,
            -0.0036068729,
            0.22065777,
            0.23499207,
            -0.0003229792,
            -0.20033635
           ],
           "z": [
            -0.9884547,
            -1.1692284,
            -1.2157098,
            -1.2305131,
            -1.2770967,
            -1.2484788
           ]
          },
          {
           "marker": {
            "color": "green",
            "size": 6
           },
           "mode": "markers",
           "type": "scatter3d",
           "x": [
            0.07058263287004063,
            -0.10197027794246338,
            -0.1780385697373179,
            0.14068884997093267,
            0.1647013120196969,
            0.1871604776643343
           ],
           "y": [
            0.01216101918923701,
            -0.0074789830761859966,
            0.22554454212143793,
            0.2389960735675761,
            -0.004917336663142341,
            -0.2393906416475027
           ],
           "z": [
            -1.0902892308979144,
            -1.2454464428998406,
            -1.2534873465614922,
            -1.3236151945074397,
            -1.332595825528498,
            -1.3440341990110838
           ]
          },
          {
           "line": {
            "color": "red",
            "width": 2
           },
           "mode": "lines",
           "type": "scatter3d",
           "x": [
            -0.045438848435878754,
            -0.170024111866951
           ],
           "y": [
            0.0008290978730656207,
            -0.0036068728659301996
           ],
           "z": [
            -0.9884546995162964,
            -1.169228434562683
           ]
          },
          {
           "line": {
            "color": "red",
            "width": 2
           },
           "mode": "lines",
           "type": "scatter3d",
           "x": [
            -0.170024111866951,
            -0.19331875443458557
           ],
           "y": [
            -0.0036068728659301996,
            0.22065776586532593
           ],
           "z": [
            -1.169228434562683,
            -1.2157098054885864
           ]
          },
          {
           "line": {
            "color": "red",
            "width": 2
           },
           "mode": "lines",
           "type": "scatter3d",
           "x": [
            0.13614457845687866,
            0.1763843148946762
           ],
           "y": [
            0.23499207198619843,
            -0.0003229792055208236
           ],
           "z": [
            -1.230513095855713,
            -1.2770967483520508
           ]
          },
          {
           "line": {
            "color": "red",
            "width": 2
           },
           "mode": "lines",
           "type": "scatter3d",
           "x": [
            0.1763843148946762,
            0.19434578716754913
           ],
           "y": [
            -0.0003229792055208236,
            -0.20033635199069977
           ],
           "z": [
            -1.2770967483520508,
            -1.2484787702560425
           ]
          },
          {
           "line": {
            "color": "red",
            "width": 2
           },
           "mode": "lines",
           "type": "scatter3d",
           "x": [
            -0.19331875443458557,
            0.13614457845687866
           ],
           "y": [
            0.22065776586532593,
            0.23499207198619843
           ],
           "z": [
            -1.2157098054885864,
            -1.230513095855713
           ]
          },
          {
           "line": {
            "color": "lime",
            "width": 2
           },
           "mode": "lines",
           "type": "scatter3d",
           "x": [
            0.07058263287004063,
            -0.10197027794246338
           ],
           "y": [
            0.01216101918923701,
            -0.0074789830761859966
           ],
           "z": [
            -1.0902892308979144,
            -1.2454464428998406
           ]
          },
          {
           "line": {
            "color": "lime",
            "width": 2
           },
           "mode": "lines",
           "type": "scatter3d",
           "x": [
            -0.10197027794246338,
            -0.1780385697373179
           ],
           "y": [
            -0.0074789830761859966,
            0.22554454212143793
           ],
           "z": [
            -1.2454464428998406,
            -1.2534873465614922
           ]
          },
          {
           "line": {
            "color": "lime",
            "width": 2
           },
           "mode": "lines",
           "type": "scatter3d",
           "x": [
            0.14068884997093267,
            0.1647013120196969
           ],
           "y": [
            0.2389960735675761,
            -0.004917336663142341
           ],
           "z": [
            -1.3236151945074397,
            -1.332595825528498
           ]
          },
          {
           "line": {
            "color": "lime",
            "width": 2
           },
           "mode": "lines",
           "type": "scatter3d",
           "x": [
            0.1647013120196969,
            0.1871604776643343
           ],
           "y": [
            -0.004917336663142341,
            -0.2393906416475027
           ],
           "z": [
            -1.332595825528498,
            -1.3440341990110838
           ]
          },
          {
           "line": {
            "color": "lime",
            "width": 2
           },
           "mode": "lines",
           "type": "scatter3d",
           "x": [
            -0.1780385697373179,
            0.14068884997093267
           ],
           "y": [
            0.22554454212143793,
            0.2389960735675761
           ],
           "z": [
            -1.2534873465614922,
            -1.3236151945074397
           ]
          }
         ],
         "name": "7"
        },
        {
         "data": [
          {
           "marker": {
            "color": "blue",
            "size": 6
           },
           "mode": "markers",
           "type": "scatter3d",
           "x": [
            -0.04543885,
            -0.17002411,
            -0.19331875,
            0.13614458,
            0.17638431,
            0.19434579
           ],
           "y": [
            0.0008290979,
            -0.0036068729,
            0.22065777,
            0.23499207,
            -0.0003229792,
            -0.20033635
           ],
           "z": [
            -0.9884547,
            -1.1692284,
            -1.2157098,
            -1.2305131,
            -1.2770967,
            -1.2484788
           ]
          },
          {
           "marker": {
            "color": "green",
            "size": 6
           },
           "mode": "markers",
           "type": "scatter3d",
           "x": [
            0.07058263287004063,
            -0.10197027794246338,
            -0.1780385697373179,
            0.14068884997093267,
            0.1647013120196969,
            0.1871604776643343
           ],
           "y": [
            0.01216101918923701,
            -0.0074789830761859966,
            0.22554454212143793,
            0.2389960735675761,
            -0.004917336663142341,
            -0.2393906416475027
           ],
           "z": [
            -1.0902892308979144,
            -1.2454464428998406,
            -1.2534873465614922,
            -1.3236151945074397,
            -1.332595825528498,
            -1.3440341990110838
           ]
          },
          {
           "line": {
            "color": "red",
            "width": 2
           },
           "mode": "lines",
           "type": "scatter3d",
           "x": [
            -0.045438848435878754,
            -0.170024111866951
           ],
           "y": [
            0.0008290978730656207,
            -0.0036068728659301996
           ],
           "z": [
            -0.9884546995162964,
            -1.169228434562683
           ]
          },
          {
           "line": {
            "color": "red",
            "width": 2
           },
           "mode": "lines",
           "type": "scatter3d",
           "x": [
            -0.170024111866951,
            -0.19331875443458557
           ],
           "y": [
            -0.0036068728659301996,
            0.22065776586532593
           ],
           "z": [
            -1.169228434562683,
            -1.2157098054885864
           ]
          },
          {
           "line": {
            "color": "red",
            "width": 2
           },
           "mode": "lines",
           "type": "scatter3d",
           "x": [
            0.13614457845687866,
            0.1763843148946762
           ],
           "y": [
            0.23499207198619843,
            -0.0003229792055208236
           ],
           "z": [
            -1.230513095855713,
            -1.2770967483520508
           ]
          },
          {
           "line": {
            "color": "red",
            "width": 2
           },
           "mode": "lines",
           "type": "scatter3d",
           "x": [
            0.1763843148946762,
            0.19434578716754913
           ],
           "y": [
            -0.0003229792055208236,
            -0.20033635199069977
           ],
           "z": [
            -1.2770967483520508,
            -1.2484787702560425
           ]
          },
          {
           "line": {
            "color": "red",
            "width": 2
           },
           "mode": "lines",
           "type": "scatter3d",
           "x": [
            -0.19331875443458557,
            0.13614457845687866
           ],
           "y": [
            0.22065776586532593,
            0.23499207198619843
           ],
           "z": [
            -1.2157098054885864,
            -1.230513095855713
           ]
          },
          {
           "line": {
            "color": "lime",
            "width": 2
           },
           "mode": "lines",
           "type": "scatter3d",
           "x": [
            0.07058263287004063,
            -0.10197027794246338
           ],
           "y": [
            0.01216101918923701,
            -0.0074789830761859966
           ],
           "z": [
            -1.0902892308979144,
            -1.2454464428998406
           ]
          },
          {
           "line": {
            "color": "lime",
            "width": 2
           },
           "mode": "lines",
           "type": "scatter3d",
           "x": [
            -0.10197027794246338,
            -0.1780385697373179
           ],
           "y": [
            -0.0074789830761859966,
            0.22554454212143793
           ],
           "z": [
            -1.2454464428998406,
            -1.2534873465614922
           ]
          },
          {
           "line": {
            "color": "lime",
            "width": 2
           },
           "mode": "lines",
           "type": "scatter3d",
           "x": [
            0.14068884997093267,
            0.1647013120196969
           ],
           "y": [
            0.2389960735675761,
            -0.004917336663142341
           ],
           "z": [
            -1.3236151945074397,
            -1.332595825528498
           ]
          },
          {
           "line": {
            "color": "lime",
            "width": 2
           },
           "mode": "lines",
           "type": "scatter3d",
           "x": [
            0.1647013120196969,
            0.1871604776643343
           ],
           "y": [
            -0.004917336663142341,
            -0.2393906416475027
           ],
           "z": [
            -1.332595825528498,
            -1.3440341990110838
           ]
          },
          {
           "line": {
            "color": "lime",
            "width": 2
           },
           "mode": "lines",
           "type": "scatter3d",
           "x": [
            -0.1780385697373179,
            0.14068884997093267
           ],
           "y": [
            0.22554454212143793,
            0.2389960735675761
           ],
           "z": [
            -1.2534873465614922,
            -1.3236151945074397
           ]
          }
         ],
         "name": "8"
        },
        {
         "data": [
          {
           "marker": {
            "color": "blue",
            "size": 6
           },
           "mode": "markers",
           "type": "scatter3d",
           "x": [
            -0.04543885,
            -0.17002411,
            -0.19331875,
            0.13614458,
            0.17638431,
            0.19434579
           ],
           "y": [
            0.0008290979,
            -0.0036068729,
            0.22065777,
            0.23499207,
            -0.0003229792,
            -0.20033635
           ],
           "z": [
            -0.9884547,
            -1.1692284,
            -1.2157098,
            -1.2305131,
            -1.2770967,
            -1.2484788
           ]
          },
          {
           "marker": {
            "color": "green",
            "size": 6
           },
           "mode": "markers",
           "type": "scatter3d",
           "x": [
            0.07058263287004063,
            -0.10197027794246338,
            -0.1780385697373179,
            0.14068884997093267,
            0.1647013120196969,
            0.1871604776643343
           ],
           "y": [
            0.01216101918923701,
            -0.0074789830761859966,
            0.22554454212143793,
            0.2389960735675761,
            -0.004917336663142341,
            -0.2393906416475027
           ],
           "z": [
            -1.0902892308979144,
            -1.2454464428998406,
            -1.2534873465614922,
            -1.3236151945074397,
            -1.332595825528498,
            -1.3440341990110838
           ]
          },
          {
           "line": {
            "color": "red",
            "width": 2
           },
           "mode": "lines",
           "type": "scatter3d",
           "x": [
            -0.045438848435878754,
            -0.170024111866951
           ],
           "y": [
            0.0008290978730656207,
            -0.0036068728659301996
           ],
           "z": [
            -0.9884546995162964,
            -1.169228434562683
           ]
          },
          {
           "line": {
            "color": "red",
            "width": 2
           },
           "mode": "lines",
           "type": "scatter3d",
           "x": [
            -0.170024111866951,
            -0.19331875443458557
           ],
           "y": [
            -0.0036068728659301996,
            0.22065776586532593
           ],
           "z": [
            -1.169228434562683,
            -1.2157098054885864
           ]
          },
          {
           "line": {
            "color": "red",
            "width": 2
           },
           "mode": "lines",
           "type": "scatter3d",
           "x": [
            0.13614457845687866,
            0.1763843148946762
           ],
           "y": [
            0.23499207198619843,
            -0.0003229792055208236
           ],
           "z": [
            -1.230513095855713,
            -1.2770967483520508
           ]
          },
          {
           "line": {
            "color": "red",
            "width": 2
           },
           "mode": "lines",
           "type": "scatter3d",
           "x": [
            0.1763843148946762,
            0.19434578716754913
           ],
           "y": [
            -0.0003229792055208236,
            -0.20033635199069977
           ],
           "z": [
            -1.2770967483520508,
            -1.2484787702560425
           ]
          },
          {
           "line": {
            "color": "red",
            "width": 2
           },
           "mode": "lines",
           "type": "scatter3d",
           "x": [
            -0.19331875443458557,
            0.13614457845687866
           ],
           "y": [
            0.22065776586532593,
            0.23499207198619843
           ],
           "z": [
            -1.2157098054885864,
            -1.230513095855713
           ]
          },
          {
           "line": {
            "color": "lime",
            "width": 2
           },
           "mode": "lines",
           "type": "scatter3d",
           "x": [
            0.07058263287004063,
            -0.10197027794246338
           ],
           "y": [
            0.01216101918923701,
            -0.0074789830761859966
           ],
           "z": [
            -1.0902892308979144,
            -1.2454464428998406
           ]
          },
          {
           "line": {
            "color": "lime",
            "width": 2
           },
           "mode": "lines",
           "type": "scatter3d",
           "x": [
            -0.10197027794246338,
            -0.1780385697373179
           ],
           "y": [
            -0.0074789830761859966,
            0.22554454212143793
           ],
           "z": [
            -1.2454464428998406,
            -1.2534873465614922
           ]
          },
          {
           "line": {
            "color": "lime",
            "width": 2
           },
           "mode": "lines",
           "type": "scatter3d",
           "x": [
            0.14068884997093267,
            0.1647013120196969
           ],
           "y": [
            0.2389960735675761,
            -0.004917336663142341
           ],
           "z": [
            -1.3236151945074397,
            -1.332595825528498
           ]
          },
          {
           "line": {
            "color": "lime",
            "width": 2
           },
           "mode": "lines",
           "type": "scatter3d",
           "x": [
            0.1647013120196969,
            0.1871604776643343
           ],
           "y": [
            -0.004917336663142341,
            -0.2393906416475027
           ],
           "z": [
            -1.332595825528498,
            -1.3440341990110838
           ]
          },
          {
           "line": {
            "color": "lime",
            "width": 2
           },
           "mode": "lines",
           "type": "scatter3d",
           "x": [
            -0.1780385697373179,
            0.14068884997093267
           ],
           "y": [
            0.22554454212143793,
            0.2389960735675761
           ],
           "z": [
            -1.2534873465614922,
            -1.3236151945074397
           ]
          }
         ],
         "name": "9"
        },
        {
         "data": [
          {
           "marker": {
            "color": "blue",
            "size": 6
           },
           "mode": "markers",
           "type": "scatter3d",
           "x": [
            -0.04543885,
            -0.17002411,
            -0.19331875,
            0.13614458,
            0.17638431,
            0.19434579
           ],
           "y": [
            0.0008290979,
            -0.0036068729,
            0.22065777,
            0.23499207,
            -0.0003229792,
            -0.20033635
           ],
           "z": [
            -0.9884547,
            -1.1692284,
            -1.2157098,
            -1.2305131,
            -1.2770967,
            -1.2484788
           ]
          },
          {
           "marker": {
            "color": "green",
            "size": 6
           },
           "mode": "markers",
           "type": "scatter3d",
           "x": [
            0.07058263287004063,
            -0.10197027794246338,
            -0.1780385697373179,
            0.14068884997093267,
            0.1647013120196969,
            0.1871604776643343
           ],
           "y": [
            0.01216101918923701,
            -0.0074789830761859966,
            0.22554454212143793,
            0.2389960735675761,
            -0.004917336663142341,
            -0.2393906416475027
           ],
           "z": [
            -1.0902892308979144,
            -1.2454464428998406,
            -1.2534873465614922,
            -1.3236151945074397,
            -1.332595825528498,
            -1.3440341990110838
           ]
          },
          {
           "line": {
            "color": "red",
            "width": 2
           },
           "mode": "lines",
           "type": "scatter3d",
           "x": [
            -0.045438848435878754,
            -0.170024111866951
           ],
           "y": [
            0.0008290978730656207,
            -0.0036068728659301996
           ],
           "z": [
            -0.9884546995162964,
            -1.169228434562683
           ]
          },
          {
           "line": {
            "color": "red",
            "width": 2
           },
           "mode": "lines",
           "type": "scatter3d",
           "x": [
            -0.170024111866951,
            -0.19331875443458557
           ],
           "y": [
            -0.0036068728659301996,
            0.22065776586532593
           ],
           "z": [
            -1.169228434562683,
            -1.2157098054885864
           ]
          },
          {
           "line": {
            "color": "red",
            "width": 2
           },
           "mode": "lines",
           "type": "scatter3d",
           "x": [
            0.13614457845687866,
            0.1763843148946762
           ],
           "y": [
            0.23499207198619843,
            -0.0003229792055208236
           ],
           "z": [
            -1.230513095855713,
            -1.2770967483520508
           ]
          },
          {
           "line": {
            "color": "red",
            "width": 2
           },
           "mode": "lines",
           "type": "scatter3d",
           "x": [
            0.1763843148946762,
            0.19434578716754913
           ],
           "y": [
            -0.0003229792055208236,
            -0.20033635199069977
           ],
           "z": [
            -1.2770967483520508,
            -1.2484787702560425
           ]
          },
          {
           "line": {
            "color": "red",
            "width": 2
           },
           "mode": "lines",
           "type": "scatter3d",
           "x": [
            -0.19331875443458557,
            0.13614457845687866
           ],
           "y": [
            0.22065776586532593,
            0.23499207198619843
           ],
           "z": [
            -1.2157098054885864,
            -1.230513095855713
           ]
          },
          {
           "line": {
            "color": "lime",
            "width": 2
           },
           "mode": "lines",
           "type": "scatter3d",
           "x": [
            0.07058263287004063,
            -0.10197027794246338
           ],
           "y": [
            0.01216101918923701,
            -0.0074789830761859966
           ],
           "z": [
            -1.0902892308979144,
            -1.2454464428998406
           ]
          },
          {
           "line": {
            "color": "lime",
            "width": 2
           },
           "mode": "lines",
           "type": "scatter3d",
           "x": [
            -0.10197027794246338,
            -0.1780385697373179
           ],
           "y": [
            -0.0074789830761859966,
            0.22554454212143793
           ],
           "z": [
            -1.2454464428998406,
            -1.2534873465614922
           ]
          },
          {
           "line": {
            "color": "lime",
            "width": 2
           },
           "mode": "lines",
           "type": "scatter3d",
           "x": [
            0.14068884997093267,
            0.1647013120196969
           ],
           "y": [
            0.2389960735675761,
            -0.004917336663142341
           ],
           "z": [
            -1.3236151945074397,
            -1.332595825528498
           ]
          },
          {
           "line": {
            "color": "lime",
            "width": 2
           },
           "mode": "lines",
           "type": "scatter3d",
           "x": [
            0.1647013120196969,
            0.1871604776643343
           ],
           "y": [
            -0.004917336663142341,
            -0.2393906416475027
           ],
           "z": [
            -1.332595825528498,
            -1.3440341990110838
           ]
          },
          {
           "line": {
            "color": "lime",
            "width": 2
           },
           "mode": "lines",
           "type": "scatter3d",
           "x": [
            -0.1780385697373179,
            0.14068884997093267
           ],
           "y": [
            0.22554454212143793,
            0.2389960735675761
           ],
           "z": [
            -1.2534873465614922,
            -1.3236151945074397
           ]
          }
         ],
         "name": "10"
        },
        {
         "data": [
          {
           "marker": {
            "color": "blue",
            "size": 6
           },
           "mode": "markers",
           "type": "scatter3d",
           "x": [
            -0.04543885,
            -0.17002411,
            -0.19331875,
            0.13614458,
            0.17638431,
            0.19434579
           ],
           "y": [
            0.0008290979,
            -0.0036068729,
            0.22065777,
            0.23499207,
            -0.0003229792,
            -0.20033635
           ],
           "z": [
            -0.9884547,
            -1.1692284,
            -1.2157098,
            -1.2305131,
            -1.2770967,
            -1.2484788
           ]
          },
          {
           "marker": {
            "color": "green",
            "size": 6
           },
           "mode": "markers",
           "type": "scatter3d",
           "x": [
            0.07058263287004063,
            -0.10197027794246338,
            -0.1780385697373179,
            0.14068884997093267,
            0.1647013120196969,
            0.1871604776643343
           ],
           "y": [
            0.01216101918923701,
            -0.0074789830761859966,
            0.22554454212143793,
            0.2389960735675761,
            -0.004917336663142341,
            -0.2393906416475027
           ],
           "z": [
            -1.0902892308979144,
            -1.2454464428998406,
            -1.2534873465614922,
            -1.3236151945074397,
            -1.332595825528498,
            -1.3440341990110838
           ]
          },
          {
           "line": {
            "color": "red",
            "width": 2
           },
           "mode": "lines",
           "type": "scatter3d",
           "x": [
            -0.045438848435878754,
            -0.170024111866951
           ],
           "y": [
            0.0008290978730656207,
            -0.0036068728659301996
           ],
           "z": [
            -0.9884546995162964,
            -1.169228434562683
           ]
          },
          {
           "line": {
            "color": "red",
            "width": 2
           },
           "mode": "lines",
           "type": "scatter3d",
           "x": [
            -0.170024111866951,
            -0.19331875443458557
           ],
           "y": [
            -0.0036068728659301996,
            0.22065776586532593
           ],
           "z": [
            -1.169228434562683,
            -1.2157098054885864
           ]
          },
          {
           "line": {
            "color": "red",
            "width": 2
           },
           "mode": "lines",
           "type": "scatter3d",
           "x": [
            0.13614457845687866,
            0.1763843148946762
           ],
           "y": [
            0.23499207198619843,
            -0.0003229792055208236
           ],
           "z": [
            -1.230513095855713,
            -1.2770967483520508
           ]
          },
          {
           "line": {
            "color": "red",
            "width": 2
           },
           "mode": "lines",
           "type": "scatter3d",
           "x": [
            0.1763843148946762,
            0.19434578716754913
           ],
           "y": [
            -0.0003229792055208236,
            -0.20033635199069977
           ],
           "z": [
            -1.2770967483520508,
            -1.2484787702560425
           ]
          },
          {
           "line": {
            "color": "red",
            "width": 2
           },
           "mode": "lines",
           "type": "scatter3d",
           "x": [
            -0.19331875443458557,
            0.13614457845687866
           ],
           "y": [
            0.22065776586532593,
            0.23499207198619843
           ],
           "z": [
            -1.2157098054885864,
            -1.230513095855713
           ]
          },
          {
           "line": {
            "color": "lime",
            "width": 2
           },
           "mode": "lines",
           "type": "scatter3d",
           "x": [
            0.07058263287004063,
            -0.10197027794246338
           ],
           "y": [
            0.01216101918923701,
            -0.0074789830761859966
           ],
           "z": [
            -1.0902892308979144,
            -1.2454464428998406
           ]
          },
          {
           "line": {
            "color": "lime",
            "width": 2
           },
           "mode": "lines",
           "type": "scatter3d",
           "x": [
            -0.10197027794246338,
            -0.1780385697373179
           ],
           "y": [
            -0.0074789830761859966,
            0.22554454212143793
           ],
           "z": [
            -1.2454464428998406,
            -1.2534873465614922
           ]
          },
          {
           "line": {
            "color": "lime",
            "width": 2
           },
           "mode": "lines",
           "type": "scatter3d",
           "x": [
            0.14068884997093267,
            0.1647013120196969
           ],
           "y": [
            0.2389960735675761,
            -0.004917336663142341
           ],
           "z": [
            -1.3236151945074397,
            -1.332595825528498
           ]
          },
          {
           "line": {
            "color": "lime",
            "width": 2
           },
           "mode": "lines",
           "type": "scatter3d",
           "x": [
            0.1647013120196969,
            0.1871604776643343
           ],
           "y": [
            -0.004917336663142341,
            -0.2393906416475027
           ],
           "z": [
            -1.332595825528498,
            -1.3440341990110838
           ]
          },
          {
           "line": {
            "color": "lime",
            "width": 2
           },
           "mode": "lines",
           "type": "scatter3d",
           "x": [
            -0.1780385697373179,
            0.14068884997093267
           ],
           "y": [
            0.22554454212143793,
            0.2389960735675761
           ],
           "z": [
            -1.2534873465614922,
            -1.3236151945074397
           ]
          }
         ],
         "name": "11"
        },
        {
         "data": [
          {
           "marker": {
            "color": "blue",
            "size": 6
           },
           "mode": "markers",
           "type": "scatter3d",
           "x": [
            -0.04543885,
            -0.17002411,
            -0.19331875,
            0.13614458,
            0.17638431,
            0.19434579
           ],
           "y": [
            0.0008290979,
            -0.0036068729,
            0.22065777,
            0.23499207,
            -0.0003229792,
            -0.20033635
           ],
           "z": [
            -0.9884547,
            -1.1692284,
            -1.2157098,
            -1.2305131,
            -1.2770967,
            -1.2484788
           ]
          },
          {
           "marker": {
            "color": "green",
            "size": 6
           },
           "mode": "markers",
           "type": "scatter3d",
           "x": [
            0.07058263287004063,
            -0.10197027794246338,
            -0.1780385697373179,
            0.14068884997093267,
            0.1647013120196969,
            0.1871604776643343
           ],
           "y": [
            0.01216101918923701,
            -0.0074789830761859966,
            0.22554454212143793,
            0.2389960735675761,
            -0.004917336663142341,
            -0.2393906416475027
           ],
           "z": [
            -1.0902892308979144,
            -1.2454464428998406,
            -1.2534873465614922,
            -1.3236151945074397,
            -1.332595825528498,
            -1.3440341990110838
           ]
          },
          {
           "line": {
            "color": "red",
            "width": 2
           },
           "mode": "lines",
           "type": "scatter3d",
           "x": [
            -0.045438848435878754,
            -0.170024111866951
           ],
           "y": [
            0.0008290978730656207,
            -0.0036068728659301996
           ],
           "z": [
            -0.9884546995162964,
            -1.169228434562683
           ]
          },
          {
           "line": {
            "color": "red",
            "width": 2
           },
           "mode": "lines",
           "type": "scatter3d",
           "x": [
            -0.170024111866951,
            -0.19331875443458557
           ],
           "y": [
            -0.0036068728659301996,
            0.22065776586532593
           ],
           "z": [
            -1.169228434562683,
            -1.2157098054885864
           ]
          },
          {
           "line": {
            "color": "red",
            "width": 2
           },
           "mode": "lines",
           "type": "scatter3d",
           "x": [
            0.13614457845687866,
            0.1763843148946762
           ],
           "y": [
            0.23499207198619843,
            -0.0003229792055208236
           ],
           "z": [
            -1.230513095855713,
            -1.2770967483520508
           ]
          },
          {
           "line": {
            "color": "red",
            "width": 2
           },
           "mode": "lines",
           "type": "scatter3d",
           "x": [
            0.1763843148946762,
            0.19434578716754913
           ],
           "y": [
            -0.0003229792055208236,
            -0.20033635199069977
           ],
           "z": [
            -1.2770967483520508,
            -1.2484787702560425
           ]
          },
          {
           "line": {
            "color": "red",
            "width": 2
           },
           "mode": "lines",
           "type": "scatter3d",
           "x": [
            -0.19331875443458557,
            0.13614457845687866
           ],
           "y": [
            0.22065776586532593,
            0.23499207198619843
           ],
           "z": [
            -1.2157098054885864,
            -1.230513095855713
           ]
          },
          {
           "line": {
            "color": "lime",
            "width": 2
           },
           "mode": "lines",
           "type": "scatter3d",
           "x": [
            0.07058263287004063,
            -0.10197027794246338
           ],
           "y": [
            0.01216101918923701,
            -0.0074789830761859966
           ],
           "z": [
            -1.0902892308979144,
            -1.2454464428998406
           ]
          },
          {
           "line": {
            "color": "lime",
            "width": 2
           },
           "mode": "lines",
           "type": "scatter3d",
           "x": [
            -0.10197027794246338,
            -0.1780385697373179
           ],
           "y": [
            -0.0074789830761859966,
            0.22554454212143793
           ],
           "z": [
            -1.2454464428998406,
            -1.2534873465614922
           ]
          },
          {
           "line": {
            "color": "lime",
            "width": 2
           },
           "mode": "lines",
           "type": "scatter3d",
           "x": [
            0.14068884997093267,
            0.1647013120196969
           ],
           "y": [
            0.2389960735675761,
            -0.004917336663142341
           ],
           "z": [
            -1.3236151945074397,
            -1.332595825528498
           ]
          },
          {
           "line": {
            "color": "lime",
            "width": 2
           },
           "mode": "lines",
           "type": "scatter3d",
           "x": [
            0.1647013120196969,
            0.1871604776643343
           ],
           "y": [
            -0.004917336663142341,
            -0.2393906416475027
           ],
           "z": [
            -1.332595825528498,
            -1.3440341990110838
           ]
          },
          {
           "line": {
            "color": "lime",
            "width": 2
           },
           "mode": "lines",
           "type": "scatter3d",
           "x": [
            -0.1780385697373179,
            0.14068884997093267
           ],
           "y": [
            0.22554454212143793,
            0.2389960735675761
           ],
           "z": [
            -1.2534873465614922,
            -1.3236151945074397
           ]
          }
         ],
         "name": "12"
        },
        {
         "data": [
          {
           "marker": {
            "color": "blue",
            "size": 6
           },
           "mode": "markers",
           "type": "scatter3d",
           "x": [
            -0.04543885,
            -0.17002411,
            -0.19331875,
            0.13614458,
            0.17638431,
            0.19434579
           ],
           "y": [
            0.0008290979,
            -0.0036068729,
            0.22065777,
            0.23499207,
            -0.0003229792,
            -0.20033635
           ],
           "z": [
            -0.9884547,
            -1.1692284,
            -1.2157098,
            -1.2305131,
            -1.2770967,
            -1.2484788
           ]
          },
          {
           "marker": {
            "color": "green",
            "size": 6
           },
           "mode": "markers",
           "type": "scatter3d",
           "x": [
            0.07058263287004063,
            -0.10197027794246338,
            -0.1780385697373179,
            0.14068884997093267,
            0.1647013120196969,
            0.1871604776643343
           ],
           "y": [
            0.01216101918923701,
            -0.0074789830761859966,
            0.22554454212143793,
            0.2389960735675761,
            -0.004917336663142341,
            -0.2393906416475027
           ],
           "z": [
            -1.0902892308979144,
            -1.2454464428998406,
            -1.2534873465614922,
            -1.3236151945074397,
            -1.332595825528498,
            -1.3440341990110838
           ]
          },
          {
           "line": {
            "color": "red",
            "width": 2
           },
           "mode": "lines",
           "type": "scatter3d",
           "x": [
            -0.045438848435878754,
            -0.170024111866951
           ],
           "y": [
            0.0008290978730656207,
            -0.0036068728659301996
           ],
           "z": [
            -0.9884546995162964,
            -1.169228434562683
           ]
          },
          {
           "line": {
            "color": "red",
            "width": 2
           },
           "mode": "lines",
           "type": "scatter3d",
           "x": [
            -0.170024111866951,
            -0.19331875443458557
           ],
           "y": [
            -0.0036068728659301996,
            0.22065776586532593
           ],
           "z": [
            -1.169228434562683,
            -1.2157098054885864
           ]
          },
          {
           "line": {
            "color": "red",
            "width": 2
           },
           "mode": "lines",
           "type": "scatter3d",
           "x": [
            0.13614457845687866,
            0.1763843148946762
           ],
           "y": [
            0.23499207198619843,
            -0.0003229792055208236
           ],
           "z": [
            -1.230513095855713,
            -1.2770967483520508
           ]
          },
          {
           "line": {
            "color": "red",
            "width": 2
           },
           "mode": "lines",
           "type": "scatter3d",
           "x": [
            0.1763843148946762,
            0.19434578716754913
           ],
           "y": [
            -0.0003229792055208236,
            -0.20033635199069977
           ],
           "z": [
            -1.2770967483520508,
            -1.2484787702560425
           ]
          },
          {
           "line": {
            "color": "red",
            "width": 2
           },
           "mode": "lines",
           "type": "scatter3d",
           "x": [
            -0.19331875443458557,
            0.13614457845687866
           ],
           "y": [
            0.22065776586532593,
            0.23499207198619843
           ],
           "z": [
            -1.2157098054885864,
            -1.230513095855713
           ]
          },
          {
           "line": {
            "color": "lime",
            "width": 2
           },
           "mode": "lines",
           "type": "scatter3d",
           "x": [
            0.07058263287004063,
            -0.10197027794246338
           ],
           "y": [
            0.01216101918923701,
            -0.0074789830761859966
           ],
           "z": [
            -1.0902892308979144,
            -1.2454464428998406
           ]
          },
          {
           "line": {
            "color": "lime",
            "width": 2
           },
           "mode": "lines",
           "type": "scatter3d",
           "x": [
            -0.10197027794246338,
            -0.1780385697373179
           ],
           "y": [
            -0.0074789830761859966,
            0.22554454212143793
           ],
           "z": [
            -1.2454464428998406,
            -1.2534873465614922
           ]
          },
          {
           "line": {
            "color": "lime",
            "width": 2
           },
           "mode": "lines",
           "type": "scatter3d",
           "x": [
            0.14068884997093267,
            0.1647013120196969
           ],
           "y": [
            0.2389960735675761,
            -0.004917336663142341
           ],
           "z": [
            -1.3236151945074397,
            -1.332595825528498
           ]
          },
          {
           "line": {
            "color": "lime",
            "width": 2
           },
           "mode": "lines",
           "type": "scatter3d",
           "x": [
            0.1647013120196969,
            0.1871604776643343
           ],
           "y": [
            -0.004917336663142341,
            -0.2393906416475027
           ],
           "z": [
            -1.332595825528498,
            -1.3440341990110838
           ]
          },
          {
           "line": {
            "color": "lime",
            "width": 2
           },
           "mode": "lines",
           "type": "scatter3d",
           "x": [
            -0.1780385697373179,
            0.14068884997093267
           ],
           "y": [
            0.22554454212143793,
            0.2389960735675761
           ],
           "z": [
            -1.2534873465614922,
            -1.3236151945074397
           ]
          }
         ],
         "name": "13"
        },
        {
         "data": [
          {
           "marker": {
            "color": "blue",
            "size": 6
           },
           "mode": "markers",
           "type": "scatter3d",
           "x": [
            -0.04543885,
            -0.17002411,
            -0.19331875,
            0.13614458,
            0.17638431,
            0.19434579
           ],
           "y": [
            0.0008290979,
            -0.0036068729,
            0.22065777,
            0.23499207,
            -0.0003229792,
            -0.20033635
           ],
           "z": [
            -0.9884547,
            -1.1692284,
            -1.2157098,
            -1.2305131,
            -1.2770967,
            -1.2484788
           ]
          },
          {
           "marker": {
            "color": "green",
            "size": 6
           },
           "mode": "markers",
           "type": "scatter3d",
           "x": [
            0.07058263287004063,
            -0.10197027794246338,
            -0.1780385697373179,
            0.14068884997093267,
            0.1647013120196969,
            0.1871604776643343
           ],
           "y": [
            0.01216101918923701,
            -0.0074789830761859966,
            0.22554454212143793,
            0.2389960735675761,
            -0.004917336663142341,
            -0.2393906416475027
           ],
           "z": [
            -1.0902892308979144,
            -1.2454464428998406,
            -1.2534873465614922,
            -1.3236151945074397,
            -1.332595825528498,
            -1.3440341990110838
           ]
          },
          {
           "line": {
            "color": "red",
            "width": 2
           },
           "mode": "lines",
           "type": "scatter3d",
           "x": [
            -0.045438848435878754,
            -0.170024111866951
           ],
           "y": [
            0.0008290978730656207,
            -0.0036068728659301996
           ],
           "z": [
            -0.9884546995162964,
            -1.169228434562683
           ]
          },
          {
           "line": {
            "color": "red",
            "width": 2
           },
           "mode": "lines",
           "type": "scatter3d",
           "x": [
            -0.170024111866951,
            -0.19331875443458557
           ],
           "y": [
            -0.0036068728659301996,
            0.22065776586532593
           ],
           "z": [
            -1.169228434562683,
            -1.2157098054885864
           ]
          },
          {
           "line": {
            "color": "red",
            "width": 2
           },
           "mode": "lines",
           "type": "scatter3d",
           "x": [
            0.13614457845687866,
            0.1763843148946762
           ],
           "y": [
            0.23499207198619843,
            -0.0003229792055208236
           ],
           "z": [
            -1.230513095855713,
            -1.2770967483520508
           ]
          },
          {
           "line": {
            "color": "red",
            "width": 2
           },
           "mode": "lines",
           "type": "scatter3d",
           "x": [
            0.1763843148946762,
            0.19434578716754913
           ],
           "y": [
            -0.0003229792055208236,
            -0.20033635199069977
           ],
           "z": [
            -1.2770967483520508,
            -1.2484787702560425
           ]
          },
          {
           "line": {
            "color": "red",
            "width": 2
           },
           "mode": "lines",
           "type": "scatter3d",
           "x": [
            -0.19331875443458557,
            0.13614457845687866
           ],
           "y": [
            0.22065776586532593,
            0.23499207198619843
           ],
           "z": [
            -1.2157098054885864,
            -1.230513095855713
           ]
          },
          {
           "line": {
            "color": "lime",
            "width": 2
           },
           "mode": "lines",
           "type": "scatter3d",
           "x": [
            0.07058263287004063,
            -0.10197027794246338
           ],
           "y": [
            0.01216101918923701,
            -0.0074789830761859966
           ],
           "z": [
            -1.0902892308979144,
            -1.2454464428998406
           ]
          },
          {
           "line": {
            "color": "lime",
            "width": 2
           },
           "mode": "lines",
           "type": "scatter3d",
           "x": [
            -0.10197027794246338,
            -0.1780385697373179
           ],
           "y": [
            -0.0074789830761859966,
            0.22554454212143793
           ],
           "z": [
            -1.2454464428998406,
            -1.2534873465614922
           ]
          },
          {
           "line": {
            "color": "lime",
            "width": 2
           },
           "mode": "lines",
           "type": "scatter3d",
           "x": [
            0.14068884997093267,
            0.1647013120196969
           ],
           "y": [
            0.2389960735675761,
            -0.004917336663142341
           ],
           "z": [
            -1.3236151945074397,
            -1.332595825528498
           ]
          },
          {
           "line": {
            "color": "lime",
            "width": 2
           },
           "mode": "lines",
           "type": "scatter3d",
           "x": [
            0.1647013120196969,
            0.1871604776643343
           ],
           "y": [
            -0.004917336663142341,
            -0.2393906416475027
           ],
           "z": [
            -1.332595825528498,
            -1.3440341990110838
           ]
          },
          {
           "line": {
            "color": "lime",
            "width": 2
           },
           "mode": "lines",
           "type": "scatter3d",
           "x": [
            -0.1780385697373179,
            0.14068884997093267
           ],
           "y": [
            0.22554454212143793,
            0.2389960735675761
           ],
           "z": [
            -1.2534873465614922,
            -1.3236151945074397
           ]
          }
         ],
         "name": "14"
        }
       ],
       "layout": {
        "height": 700,
        "scene": {
         "aspectmode": "cube",
         "aspectratio": {
          "x": 1,
          "y": 1,
          "z": 1
         },
         "camera": {
          "eye": {
           "x": 1.5,
           "y": 1.5,
           "z": 1.5
          },
          "up": {
           "x": 0,
           "y": 1,
           "z": 0
          }
         },
         "xaxis": {
          "autorange": false,
          "range": [
           -0.29958435595035554,
           0.24025594890117646
          ],
          "title": {
           "text": "X"
          },
          "type": "linear"
         },
         "yaxis": {
          "autorange": false,
          "range": [
           -0.28984520708312633,
           0.2875810354720373
          ],
          "title": {
           "text": "Y"
          },
          "type": "linear"
         },
         "zaxis": {
          "autorange": false,
          "range": [
           -1.4078232692193176,
           -0.6853798569466925
          ],
          "title": {
           "text": "Z"
          },
          "type": "linear"
         }
        },
        "template": {
         "data": {
          "bar": [
           {
            "error_x": {
             "color": "#2a3f5f"
            },
            "error_y": {
             "color": "#2a3f5f"
            },
            "marker": {
             "line": {
              "color": "#E5ECF6",
              "width": 0.5
             },
             "pattern": {
              "fillmode": "overlay",
              "size": 10,
              "solidity": 0.2
             }
            },
            "type": "bar"
           }
          ],
          "barpolar": [
           {
            "marker": {
             "line": {
              "color": "#E5ECF6",
              "width": 0.5
             },
             "pattern": {
              "fillmode": "overlay",
              "size": 10,
              "solidity": 0.2
             }
            },
            "type": "barpolar"
           }
          ],
          "carpet": [
           {
            "aaxis": {
             "endlinecolor": "#2a3f5f",
             "gridcolor": "white",
             "linecolor": "white",
             "minorgridcolor": "white",
             "startlinecolor": "#2a3f5f"
            },
            "baxis": {
             "endlinecolor": "#2a3f5f",
             "gridcolor": "white",
             "linecolor": "white",
             "minorgridcolor": "white",
             "startlinecolor": "#2a3f5f"
            },
            "type": "carpet"
           }
          ],
          "choropleth": [
           {
            "colorbar": {
             "outlinewidth": 0,
             "ticks": ""
            },
            "type": "choropleth"
           }
          ],
          "contour": [
           {
            "colorbar": {
             "outlinewidth": 0,
             "ticks": ""
            },
            "colorscale": [
             [
              0,
              "#0d0887"
             ],
             [
              0.1111111111111111,
              "#46039f"
             ],
             [
              0.2222222222222222,
              "#7201a8"
             ],
             [
              0.3333333333333333,
              "#9c179e"
             ],
             [
              0.4444444444444444,
              "#bd3786"
             ],
             [
              0.5555555555555556,
              "#d8576b"
             ],
             [
              0.6666666666666666,
              "#ed7953"
             ],
             [
              0.7777777777777778,
              "#fb9f3a"
             ],
             [
              0.8888888888888888,
              "#fdca26"
             ],
             [
              1,
              "#f0f921"
             ]
            ],
            "type": "contour"
           }
          ],
          "contourcarpet": [
           {
            "colorbar": {
             "outlinewidth": 0,
             "ticks": ""
            },
            "type": "contourcarpet"
           }
          ],
          "heatmap": [
           {
            "colorbar": {
             "outlinewidth": 0,
             "ticks": ""
            },
            "colorscale": [
             [
              0,
              "#0d0887"
             ],
             [
              0.1111111111111111,
              "#46039f"
             ],
             [
              0.2222222222222222,
              "#7201a8"
             ],
             [
              0.3333333333333333,
              "#9c179e"
             ],
             [
              0.4444444444444444,
              "#bd3786"
             ],
             [
              0.5555555555555556,
              "#d8576b"
             ],
             [
              0.6666666666666666,
              "#ed7953"
             ],
             [
              0.7777777777777778,
              "#fb9f3a"
             ],
             [
              0.8888888888888888,
              "#fdca26"
             ],
             [
              1,
              "#f0f921"
             ]
            ],
            "type": "heatmap"
           }
          ],
          "heatmapgl": [
           {
            "colorbar": {
             "outlinewidth": 0,
             "ticks": ""
            },
            "colorscale": [
             [
              0,
              "#0d0887"
             ],
             [
              0.1111111111111111,
              "#46039f"
             ],
             [
              0.2222222222222222,
              "#7201a8"
             ],
             [
              0.3333333333333333,
              "#9c179e"
             ],
             [
              0.4444444444444444,
              "#bd3786"
             ],
             [
              0.5555555555555556,
              "#d8576b"
             ],
             [
              0.6666666666666666,
              "#ed7953"
             ],
             [
              0.7777777777777778,
              "#fb9f3a"
             ],
             [
              0.8888888888888888,
              "#fdca26"
             ],
             [
              1,
              "#f0f921"
             ]
            ],
            "type": "heatmapgl"
           }
          ],
          "histogram": [
           {
            "marker": {
             "pattern": {
              "fillmode": "overlay",
              "size": 10,
              "solidity": 0.2
             }
            },
            "type": "histogram"
           }
          ],
          "histogram2d": [
           {
            "colorbar": {
             "outlinewidth": 0,
             "ticks": ""
            },
            "colorscale": [
             [
              0,
              "#0d0887"
             ],
             [
              0.1111111111111111,
              "#46039f"
             ],
             [
              0.2222222222222222,
              "#7201a8"
             ],
             [
              0.3333333333333333,
              "#9c179e"
             ],
             [
              0.4444444444444444,
              "#bd3786"
             ],
             [
              0.5555555555555556,
              "#d8576b"
             ],
             [
              0.6666666666666666,
              "#ed7953"
             ],
             [
              0.7777777777777778,
              "#fb9f3a"
             ],
             [
              0.8888888888888888,
              "#fdca26"
             ],
             [
              1,
              "#f0f921"
             ]
            ],
            "type": "histogram2d"
           }
          ],
          "histogram2dcontour": [
           {
            "colorbar": {
             "outlinewidth": 0,
             "ticks": ""
            },
            "colorscale": [
             [
              0,
              "#0d0887"
             ],
             [
              0.1111111111111111,
              "#46039f"
             ],
             [
              0.2222222222222222,
              "#7201a8"
             ],
             [
              0.3333333333333333,
              "#9c179e"
             ],
             [
              0.4444444444444444,
              "#bd3786"
             ],
             [
              0.5555555555555556,
              "#d8576b"
             ],
             [
              0.6666666666666666,
              "#ed7953"
             ],
             [
              0.7777777777777778,
              "#fb9f3a"
             ],
             [
              0.8888888888888888,
              "#fdca26"
             ],
             [
              1,
              "#f0f921"
             ]
            ],
            "type": "histogram2dcontour"
           }
          ],
          "mesh3d": [
           {
            "colorbar": {
             "outlinewidth": 0,
             "ticks": ""
            },
            "type": "mesh3d"
           }
          ],
          "parcoords": [
           {
            "line": {
             "colorbar": {
              "outlinewidth": 0,
              "ticks": ""
             }
            },
            "type": "parcoords"
           }
          ],
          "pie": [
           {
            "automargin": true,
            "type": "pie"
           }
          ],
          "scatter": [
           {
            "fillpattern": {
             "fillmode": "overlay",
             "size": 10,
             "solidity": 0.2
            },
            "type": "scatter"
           }
          ],
          "scatter3d": [
           {
            "line": {
             "colorbar": {
              "outlinewidth": 0,
              "ticks": ""
             }
            },
            "marker": {
             "colorbar": {
              "outlinewidth": 0,
              "ticks": ""
             }
            },
            "type": "scatter3d"
           }
          ],
          "scattercarpet": [
           {
            "marker": {
             "colorbar": {
              "outlinewidth": 0,
              "ticks": ""
             }
            },
            "type": "scattercarpet"
           }
          ],
          "scattergeo": [
           {
            "marker": {
             "colorbar": {
              "outlinewidth": 0,
              "ticks": ""
             }
            },
            "type": "scattergeo"
           }
          ],
          "scattergl": [
           {
            "marker": {
             "colorbar": {
              "outlinewidth": 0,
              "ticks": ""
             }
            },
            "type": "scattergl"
           }
          ],
          "scattermapbox": [
           {
            "marker": {
             "colorbar": {
              "outlinewidth": 0,
              "ticks": ""
             }
            },
            "type": "scattermapbox"
           }
          ],
          "scatterpolar": [
           {
            "marker": {
             "colorbar": {
              "outlinewidth": 0,
              "ticks": ""
             }
            },
            "type": "scatterpolar"
           }
          ],
          "scatterpolargl": [
           {
            "marker": {
             "colorbar": {
              "outlinewidth": 0,
              "ticks": ""
             }
            },
            "type": "scatterpolargl"
           }
          ],
          "scatterternary": [
           {
            "marker": {
             "colorbar": {
              "outlinewidth": 0,
              "ticks": ""
             }
            },
            "type": "scatterternary"
           }
          ],
          "surface": [
           {
            "colorbar": {
             "outlinewidth": 0,
             "ticks": ""
            },
            "colorscale": [
             [
              0,
              "#0d0887"
             ],
             [
              0.1111111111111111,
              "#46039f"
             ],
             [
              0.2222222222222222,
              "#7201a8"
             ],
             [
              0.3333333333333333,
              "#9c179e"
             ],
             [
              0.4444444444444444,
              "#bd3786"
             ],
             [
              0.5555555555555556,
              "#d8576b"
             ],
             [
              0.6666666666666666,
              "#ed7953"
             ],
             [
              0.7777777777777778,
              "#fb9f3a"
             ],
             [
              0.8888888888888888,
              "#fdca26"
             ],
             [
              1,
              "#f0f921"
             ]
            ],
            "type": "surface"
           }
          ],
          "table": [
           {
            "cells": {
             "fill": {
              "color": "#EBF0F8"
             },
             "line": {
              "color": "white"
             }
            },
            "header": {
             "fill": {
              "color": "#C8D4E3"
             },
             "line": {
              "color": "white"
             }
            },
            "type": "table"
           }
          ]
         },
         "layout": {
          "annotationdefaults": {
           "arrowcolor": "#2a3f5f",
           "arrowhead": 0,
           "arrowwidth": 1
          },
          "autotypenumbers": "strict",
          "coloraxis": {
           "colorbar": {
            "outlinewidth": 0,
            "ticks": ""
           }
          },
          "colorscale": {
           "diverging": [
            [
             0,
             "#8e0152"
            ],
            [
             0.1,
             "#c51b7d"
            ],
            [
             0.2,
             "#de77ae"
            ],
            [
             0.3,
             "#f1b6da"
            ],
            [
             0.4,
             "#fde0ef"
            ],
            [
             0.5,
             "#f7f7f7"
            ],
            [
             0.6,
             "#e6f5d0"
            ],
            [
             0.7,
             "#b8e186"
            ],
            [
             0.8,
             "#7fbc41"
            ],
            [
             0.9,
             "#4d9221"
            ],
            [
             1,
             "#276419"
            ]
           ],
           "sequential": [
            [
             0,
             "#0d0887"
            ],
            [
             0.1111111111111111,
             "#46039f"
            ],
            [
             0.2222222222222222,
             "#7201a8"
            ],
            [
             0.3333333333333333,
             "#9c179e"
            ],
            [
             0.4444444444444444,
             "#bd3786"
            ],
            [
             0.5555555555555556,
             "#d8576b"
            ],
            [
             0.6666666666666666,
             "#ed7953"
            ],
            [
             0.7777777777777778,
             "#fb9f3a"
            ],
            [
             0.8888888888888888,
             "#fdca26"
            ],
            [
             1,
             "#f0f921"
            ]
           ],
           "sequentialminus": [
            [
             0,
             "#0d0887"
            ],
            [
             0.1111111111111111,
             "#46039f"
            ],
            [
             0.2222222222222222,
             "#7201a8"
            ],
            [
             0.3333333333333333,
             "#9c179e"
            ],
            [
             0.4444444444444444,
             "#bd3786"
            ],
            [
             0.5555555555555556,
             "#d8576b"
            ],
            [
             0.6666666666666666,
             "#ed7953"
            ],
            [
             0.7777777777777778,
             "#fb9f3a"
            ],
            [
             0.8888888888888888,
             "#fdca26"
            ],
            [
             1,
             "#f0f921"
            ]
           ]
          },
          "colorway": [
           "#636efa",
           "#EF553B",
           "#00cc96",
           "#ab63fa",
           "#FFA15A",
           "#19d3f3",
           "#FF6692",
           "#B6E880",
           "#FF97FF",
           "#FECB52"
          ],
          "font": {
           "color": "#2a3f5f"
          },
          "geo": {
           "bgcolor": "white",
           "lakecolor": "white",
           "landcolor": "#E5ECF6",
           "showlakes": true,
           "showland": true,
           "subunitcolor": "white"
          },
          "hoverlabel": {
           "align": "left"
          },
          "hovermode": "closest",
          "mapbox": {
           "style": "light"
          },
          "paper_bgcolor": "white",
          "plot_bgcolor": "#E5ECF6",
          "polar": {
           "angularaxis": {
            "gridcolor": "white",
            "linecolor": "white",
            "ticks": ""
           },
           "bgcolor": "#E5ECF6",
           "radialaxis": {
            "gridcolor": "white",
            "linecolor": "white",
            "ticks": ""
           }
          },
          "scene": {
           "xaxis": {
            "backgroundcolor": "#E5ECF6",
            "gridcolor": "white",
            "gridwidth": 2,
            "linecolor": "white",
            "showbackground": true,
            "ticks": "",
            "zerolinecolor": "white"
           },
           "yaxis": {
            "backgroundcolor": "#E5ECF6",
            "gridcolor": "white",
            "gridwidth": 2,
            "linecolor": "white",
            "showbackground": true,
            "ticks": "",
            "zerolinecolor": "white"
           },
           "zaxis": {
            "backgroundcolor": "#E5ECF6",
            "gridcolor": "white",
            "gridwidth": 2,
            "linecolor": "white",
            "showbackground": true,
            "ticks": "",
            "zerolinecolor": "white"
           }
          },
          "shapedefaults": {
           "line": {
            "color": "#2a3f5f"
           }
          },
          "ternary": {
           "aaxis": {
            "gridcolor": "white",
            "linecolor": "white",
            "ticks": ""
           },
           "baxis": {
            "gridcolor": "white",
            "linecolor": "white",
            "ticks": ""
           },
           "bgcolor": "#E5ECF6",
           "caxis": {
            "gridcolor": "white",
            "linecolor": "white",
            "ticks": ""
           }
          },
          "title": {
           "x": 0.05
          },
          "xaxis": {
           "automargin": true,
           "gridcolor": "white",
           "linecolor": "white",
           "ticks": "",
           "title": {
            "standoff": 15
           },
           "zerolinecolor": "white",
           "zerolinewidth": 2
          },
          "yaxis": {
           "automargin": true,
           "gridcolor": "white",
           "linecolor": "white",
           "ticks": "",
           "title": {
            "standoff": 15
           },
           "zerolinecolor": "white",
           "zerolinewidth": 2
          }
         }
        },
        "updatemenus": [
         {
          "buttons": [
           {
            "args": [
             null,
             {
              "frame": {
               "duration": 500,
               "redraw": true
              },
              "fromcurrent": true,
              "mode": "immediate"
             }
            ],
            "label": "Play",
            "method": "animate"
           }
          ],
          "showactive": false,
          "type": "buttons"
         }
        ],
        "width": 700
       }
      },
      "text/html": [
       "<div>                            <div id=\"b4469249-c7b6-4b47-9c6d-e3330977edb6\" class=\"plotly-graph-div\" style=\"height:700px; width:700px;\"></div>            <script type=\"text/javascript\">                require([\"plotly\"], function(Plotly) {                    window.PLOTLYENV=window.PLOTLYENV || {};                                    if (document.getElementById(\"b4469249-c7b6-4b47-9c6d-e3330977edb6\")) {                    Plotly.newPlot(                        \"b4469249-c7b6-4b47-9c6d-e3330977edb6\",                        [{\"marker\":{\"color\":\"blue\",\"size\":6},\"mode\":\"markers\",\"name\":\"Prediction\",\"x\":[0],\"y\":[0],\"z\":[0],\"type\":\"scatter3d\"},{\"marker\":{\"color\":\"green\",\"size\":6},\"mode\":\"markers\",\"name\":\"Ground Truth\",\"x\":[0],\"y\":[0],\"z\":[0],\"type\":\"scatter3d\"},{\"line\":{\"color\":\"red\",\"width\":2},\"mode\":\"lines\",\"name\":\"Prediction\",\"x\":[0,0],\"y\":[0,0],\"z\":[0,0],\"type\":\"scatter3d\"},{\"line\":{\"color\":\"lime\",\"width\":2},\"mode\":\"lines\",\"name\":\"Ground Truth\",\"x\":[0,0],\"y\":[0,0],\"z\":[0,0],\"type\":\"scatter3d\"},{\"line\":{\"color\":\"red\",\"width\":2},\"mode\":\"lines\",\"name\":\"Prediction\",\"x\":[0,0],\"y\":[0,0],\"z\":[0,0],\"type\":\"scatter3d\"},{\"line\":{\"color\":\"lime\",\"width\":2},\"mode\":\"lines\",\"name\":\"Ground Truth\",\"x\":[0,0],\"y\":[0,0],\"z\":[0,0],\"type\":\"scatter3d\"},{\"line\":{\"color\":\"red\",\"width\":2},\"mode\":\"lines\",\"name\":\"Prediction\",\"x\":[0,0],\"y\":[0,0],\"z\":[0,0],\"type\":\"scatter3d\"},{\"line\":{\"color\":\"lime\",\"width\":2},\"mode\":\"lines\",\"name\":\"Ground Truth\",\"x\":[0,0],\"y\":[0,0],\"z\":[0,0],\"type\":\"scatter3d\"},{\"line\":{\"color\":\"red\",\"width\":2},\"mode\":\"lines\",\"name\":\"Prediction\",\"x\":[0,0],\"y\":[0,0],\"z\":[0,0],\"type\":\"scatter3d\"},{\"line\":{\"color\":\"lime\",\"width\":2},\"mode\":\"lines\",\"name\":\"Ground Truth\",\"x\":[0,0],\"y\":[0,0],\"z\":[0,0],\"type\":\"scatter3d\"},{\"line\":{\"color\":\"red\",\"width\":2},\"mode\":\"lines\",\"name\":\"Prediction\",\"x\":[0,0],\"y\":[0,0],\"z\":[0,0],\"type\":\"scatter3d\"},{\"line\":{\"color\":\"lime\",\"width\":2},\"mode\":\"lines\",\"name\":\"Ground Truth\",\"x\":[0,0],\"y\":[0,0],\"z\":[0,0],\"type\":\"scatter3d\"}],                        {\"template\":{\"data\":{\"histogram2dcontour\":[{\"type\":\"histogram2dcontour\",\"colorbar\":{\"outlinewidth\":0,\"ticks\":\"\"},\"colorscale\":[[0.0,\"#0d0887\"],[0.1111111111111111,\"#46039f\"],[0.2222222222222222,\"#7201a8\"],[0.3333333333333333,\"#9c179e\"],[0.4444444444444444,\"#bd3786\"],[0.5555555555555556,\"#d8576b\"],[0.6666666666666666,\"#ed7953\"],[0.7777777777777778,\"#fb9f3a\"],[0.8888888888888888,\"#fdca26\"],[1.0,\"#f0f921\"]]}],\"choropleth\":[{\"type\":\"choropleth\",\"colorbar\":{\"outlinewidth\":0,\"ticks\":\"\"}}],\"histogram2d\":[{\"type\":\"histogram2d\",\"colorbar\":{\"outlinewidth\":0,\"ticks\":\"\"},\"colorscale\":[[0.0,\"#0d0887\"],[0.1111111111111111,\"#46039f\"],[0.2222222222222222,\"#7201a8\"],[0.3333333333333333,\"#9c179e\"],[0.4444444444444444,\"#bd3786\"],[0.5555555555555556,\"#d8576b\"],[0.6666666666666666,\"#ed7953\"],[0.7777777777777778,\"#fb9f3a\"],[0.8888888888888888,\"#fdca26\"],[1.0,\"#f0f921\"]]}],\"heatmap\":[{\"type\":\"heatmap\",\"colorbar\":{\"outlinewidth\":0,\"ticks\":\"\"},\"colorscale\":[[0.0,\"#0d0887\"],[0.1111111111111111,\"#46039f\"],[0.2222222222222222,\"#7201a8\"],[0.3333333333333333,\"#9c179e\"],[0.4444444444444444,\"#bd3786\"],[0.5555555555555556,\"#d8576b\"],[0.6666666666666666,\"#ed7953\"],[0.7777777777777778,\"#fb9f3a\"],[0.8888888888888888,\"#fdca26\"],[1.0,\"#f0f921\"]]}],\"heatmapgl\":[{\"type\":\"heatmapgl\",\"colorbar\":{\"outlinewidth\":0,\"ticks\":\"\"},\"colorscale\":[[0.0,\"#0d0887\"],[0.1111111111111111,\"#46039f\"],[0.2222222222222222,\"#7201a8\"],[0.3333333333333333,\"#9c179e\"],[0.4444444444444444,\"#bd3786\"],[0.5555555555555556,\"#d8576b\"],[0.6666666666666666,\"#ed7953\"],[0.7777777777777778,\"#fb9f3a\"],[0.8888888888888888,\"#fdca26\"],[1.0,\"#f0f921\"]]}],\"contourcarpet\":[{\"type\":\"contourcarpet\",\"colorbar\":{\"outlinewidth\":0,\"ticks\":\"\"}}],\"contour\":[{\"type\":\"contour\",\"colorbar\":{\"outlinewidth\":0,\"ticks\":\"\"},\"colorscale\":[[0.0,\"#0d0887\"],[0.1111111111111111,\"#46039f\"],[0.2222222222222222,\"#7201a8\"],[0.3333333333333333,\"#9c179e\"],[0.4444444444444444,\"#bd3786\"],[0.5555555555555556,\"#d8576b\"],[0.6666666666666666,\"#ed7953\"],[0.7777777777777778,\"#fb9f3a\"],[0.8888888888888888,\"#fdca26\"],[1.0,\"#f0f921\"]]}],\"surface\":[{\"type\":\"surface\",\"colorbar\":{\"outlinewidth\":0,\"ticks\":\"\"},\"colorscale\":[[0.0,\"#0d0887\"],[0.1111111111111111,\"#46039f\"],[0.2222222222222222,\"#7201a8\"],[0.3333333333333333,\"#9c179e\"],[0.4444444444444444,\"#bd3786\"],[0.5555555555555556,\"#d8576b\"],[0.6666666666666666,\"#ed7953\"],[0.7777777777777778,\"#fb9f3a\"],[0.8888888888888888,\"#fdca26\"],[1.0,\"#f0f921\"]]}],\"mesh3d\":[{\"type\":\"mesh3d\",\"colorbar\":{\"outlinewidth\":0,\"ticks\":\"\"}}],\"scatter\":[{\"fillpattern\":{\"fillmode\":\"overlay\",\"size\":10,\"solidity\":0.2},\"type\":\"scatter\"}],\"parcoords\":[{\"type\":\"parcoords\",\"line\":{\"colorbar\":{\"outlinewidth\":0,\"ticks\":\"\"}}}],\"scatterpolargl\":[{\"type\":\"scatterpolargl\",\"marker\":{\"colorbar\":{\"outlinewidth\":0,\"ticks\":\"\"}}}],\"bar\":[{\"error_x\":{\"color\":\"#2a3f5f\"},\"error_y\":{\"color\":\"#2a3f5f\"},\"marker\":{\"line\":{\"color\":\"#E5ECF6\",\"width\":0.5},\"pattern\":{\"fillmode\":\"overlay\",\"size\":10,\"solidity\":0.2}},\"type\":\"bar\"}],\"scattergeo\":[{\"type\":\"scattergeo\",\"marker\":{\"colorbar\":{\"outlinewidth\":0,\"ticks\":\"\"}}}],\"scatterpolar\":[{\"type\":\"scatterpolar\",\"marker\":{\"colorbar\":{\"outlinewidth\":0,\"ticks\":\"\"}}}],\"histogram\":[{\"marker\":{\"pattern\":{\"fillmode\":\"overlay\",\"size\":10,\"solidity\":0.2}},\"type\":\"histogram\"}],\"scattergl\":[{\"type\":\"scattergl\",\"marker\":{\"colorbar\":{\"outlinewidth\":0,\"ticks\":\"\"}}}],\"scatter3d\":[{\"type\":\"scatter3d\",\"line\":{\"colorbar\":{\"outlinewidth\":0,\"ticks\":\"\"}},\"marker\":{\"colorbar\":{\"outlinewidth\":0,\"ticks\":\"\"}}}],\"scattermapbox\":[{\"type\":\"scattermapbox\",\"marker\":{\"colorbar\":{\"outlinewidth\":0,\"ticks\":\"\"}}}],\"scatterternary\":[{\"type\":\"scatterternary\",\"marker\":{\"colorbar\":{\"outlinewidth\":0,\"ticks\":\"\"}}}],\"scattercarpet\":[{\"type\":\"scattercarpet\",\"marker\":{\"colorbar\":{\"outlinewidth\":0,\"ticks\":\"\"}}}],\"carpet\":[{\"aaxis\":{\"endlinecolor\":\"#2a3f5f\",\"gridcolor\":\"white\",\"linecolor\":\"white\",\"minorgridcolor\":\"white\",\"startlinecolor\":\"#2a3f5f\"},\"baxis\":{\"endlinecolor\":\"#2a3f5f\",\"gridcolor\":\"white\",\"linecolor\":\"white\",\"minorgridcolor\":\"white\",\"startlinecolor\":\"#2a3f5f\"},\"type\":\"carpet\"}],\"table\":[{\"cells\":{\"fill\":{\"color\":\"#EBF0F8\"},\"line\":{\"color\":\"white\"}},\"header\":{\"fill\":{\"color\":\"#C8D4E3\"},\"line\":{\"color\":\"white\"}},\"type\":\"table\"}],\"barpolar\":[{\"marker\":{\"line\":{\"color\":\"#E5ECF6\",\"width\":0.5},\"pattern\":{\"fillmode\":\"overlay\",\"size\":10,\"solidity\":0.2}},\"type\":\"barpolar\"}],\"pie\":[{\"automargin\":true,\"type\":\"pie\"}]},\"layout\":{\"autotypenumbers\":\"strict\",\"colorway\":[\"#636efa\",\"#EF553B\",\"#00cc96\",\"#ab63fa\",\"#FFA15A\",\"#19d3f3\",\"#FF6692\",\"#B6E880\",\"#FF97FF\",\"#FECB52\"],\"font\":{\"color\":\"#2a3f5f\"},\"hovermode\":\"closest\",\"hoverlabel\":{\"align\":\"left\"},\"paper_bgcolor\":\"white\",\"plot_bgcolor\":\"#E5ECF6\",\"polar\":{\"bgcolor\":\"#E5ECF6\",\"angularaxis\":{\"gridcolor\":\"white\",\"linecolor\":\"white\",\"ticks\":\"\"},\"radialaxis\":{\"gridcolor\":\"white\",\"linecolor\":\"white\",\"ticks\":\"\"}},\"ternary\":{\"bgcolor\":\"#E5ECF6\",\"aaxis\":{\"gridcolor\":\"white\",\"linecolor\":\"white\",\"ticks\":\"\"},\"baxis\":{\"gridcolor\":\"white\",\"linecolor\":\"white\",\"ticks\":\"\"},\"caxis\":{\"gridcolor\":\"white\",\"linecolor\":\"white\",\"ticks\":\"\"}},\"coloraxis\":{\"colorbar\":{\"outlinewidth\":0,\"ticks\":\"\"}},\"colorscale\":{\"sequential\":[[0.0,\"#0d0887\"],[0.1111111111111111,\"#46039f\"],[0.2222222222222222,\"#7201a8\"],[0.3333333333333333,\"#9c179e\"],[0.4444444444444444,\"#bd3786\"],[0.5555555555555556,\"#d8576b\"],[0.6666666666666666,\"#ed7953\"],[0.7777777777777778,\"#fb9f3a\"],[0.8888888888888888,\"#fdca26\"],[1.0,\"#f0f921\"]],\"sequentialminus\":[[0.0,\"#0d0887\"],[0.1111111111111111,\"#46039f\"],[0.2222222222222222,\"#7201a8\"],[0.3333333333333333,\"#9c179e\"],[0.4444444444444444,\"#bd3786\"],[0.5555555555555556,\"#d8576b\"],[0.6666666666666666,\"#ed7953\"],[0.7777777777777778,\"#fb9f3a\"],[0.8888888888888888,\"#fdca26\"],[1.0,\"#f0f921\"]],\"diverging\":[[0,\"#8e0152\"],[0.1,\"#c51b7d\"],[0.2,\"#de77ae\"],[0.3,\"#f1b6da\"],[0.4,\"#fde0ef\"],[0.5,\"#f7f7f7\"],[0.6,\"#e6f5d0\"],[0.7,\"#b8e186\"],[0.8,\"#7fbc41\"],[0.9,\"#4d9221\"],[1,\"#276419\"]]},\"xaxis\":{\"gridcolor\":\"white\",\"linecolor\":\"white\",\"ticks\":\"\",\"title\":{\"standoff\":15},\"zerolinecolor\":\"white\",\"automargin\":true,\"zerolinewidth\":2},\"yaxis\":{\"gridcolor\":\"white\",\"linecolor\":\"white\",\"ticks\":\"\",\"title\":{\"standoff\":15},\"zerolinecolor\":\"white\",\"automargin\":true,\"zerolinewidth\":2},\"scene\":{\"xaxis\":{\"backgroundcolor\":\"#E5ECF6\",\"gridcolor\":\"white\",\"linecolor\":\"white\",\"showbackground\":true,\"ticks\":\"\",\"zerolinecolor\":\"white\",\"gridwidth\":2},\"yaxis\":{\"backgroundcolor\":\"#E5ECF6\",\"gridcolor\":\"white\",\"linecolor\":\"white\",\"showbackground\":true,\"ticks\":\"\",\"zerolinecolor\":\"white\",\"gridwidth\":2},\"zaxis\":{\"backgroundcolor\":\"#E5ECF6\",\"gridcolor\":\"white\",\"linecolor\":\"white\",\"showbackground\":true,\"ticks\":\"\",\"zerolinecolor\":\"white\",\"gridwidth\":2}},\"shapedefaults\":{\"line\":{\"color\":\"#2a3f5f\"}},\"annotationdefaults\":{\"arrowcolor\":\"#2a3f5f\",\"arrowhead\":0,\"arrowwidth\":1},\"geo\":{\"bgcolor\":\"white\",\"landcolor\":\"#E5ECF6\",\"subunitcolor\":\"white\",\"showland\":true,\"showlakes\":true,\"lakecolor\":\"white\"},\"title\":{\"x\":0.05},\"mapbox\":{\"style\":\"light\"}}},\"scene\":{\"xaxis\":{\"title\":{\"text\":\"X\"},\"range\":[-0.29958435595035554,0.24025594890117646],\"autorange\":false},\"yaxis\":{\"title\":{\"text\":\"Y\"},\"range\":[-0.28984520708312633,0.2875810354720373],\"autorange\":false},\"zaxis\":{\"title\":{\"text\":\"Z\"},\"range\":[-1.4078232692193176,-0.6853798569466925],\"autorange\":false},\"camera\":{\"eye\":{\"x\":1.5,\"y\":1.5,\"z\":1.5},\"up\":{\"x\":0,\"y\":1,\"z\":0}},\"aspectmode\":\"cube\"},\"updatemenus\":[{\"buttons\":[{\"args\":[null,{\"frame\":{\"duration\":500,\"redraw\":true},\"fromcurrent\":true,\"mode\":\"immediate\"}],\"label\":\"Play\",\"method\":\"animate\"}],\"showactive\":false,\"type\":\"buttons\"}],\"height\":700,\"width\":700},                        {\"responsive\": true}                    ).then(function(){\n",
       "                            Plotly.addFrames('b4469249-c7b6-4b47-9c6d-e3330977edb6', [{\"data\":[{\"marker\":{\"color\":\"blue\",\"size\":6},\"mode\":\"markers\",\"x\":[-0.04543885,-0.17002411,-0.19331875,0.13614458,0.17638431,0.19434579],\"y\":[0.0008290979,-0.0036068729,0.22065777,0.23499207,-0.0003229792,-0.20033635],\"z\":[-0.9884547,-1.1692284,-1.2157098,-1.2305131,-1.2770967,-1.2484788],\"type\":\"scatter3d\"},{\"marker\":{\"color\":\"green\",\"size\":6},\"mode\":\"markers\",\"x\":[0.07058263287004063,-0.10197027794246338,-0.1780385697373179,0.14068884997093267,0.1647013120196969,0.1871604776643343],\"y\":[0.01216101918923701,-0.0074789830761859966,0.22554454212143793,0.2389960735675761,-0.004917336663142341,-0.2393906416475027],\"z\":[-1.0902892308979144,-1.2454464428998406,-1.2534873465614922,-1.3236151945074397,-1.332595825528498,-1.3440341990110838],\"type\":\"scatter3d\"},{\"line\":{\"color\":\"red\",\"width\":2},\"mode\":\"lines\",\"x\":[-0.045438848435878754,-0.170024111866951],\"y\":[0.0008290978730656207,-0.0036068728659301996],\"z\":[-0.9884546995162964,-1.169228434562683],\"type\":\"scatter3d\"},{\"line\":{\"color\":\"red\",\"width\":2},\"mode\":\"lines\",\"x\":[-0.170024111866951,-0.19331875443458557],\"y\":[-0.0036068728659301996,0.22065776586532593],\"z\":[-1.169228434562683,-1.2157098054885864],\"type\":\"scatter3d\"},{\"line\":{\"color\":\"red\",\"width\":2},\"mode\":\"lines\",\"x\":[0.13614457845687866,0.1763843148946762],\"y\":[0.23499207198619843,-0.0003229792055208236],\"z\":[-1.230513095855713,-1.2770967483520508],\"type\":\"scatter3d\"},{\"line\":{\"color\":\"red\",\"width\":2},\"mode\":\"lines\",\"x\":[0.1763843148946762,0.19434578716754913],\"y\":[-0.0003229792055208236,-0.20033635199069977],\"z\":[-1.2770967483520508,-1.2484787702560425],\"type\":\"scatter3d\"},{\"line\":{\"color\":\"red\",\"width\":2},\"mode\":\"lines\",\"x\":[-0.19331875443458557,0.13614457845687866],\"y\":[0.22065776586532593,0.23499207198619843],\"z\":[-1.2157098054885864,-1.230513095855713],\"type\":\"scatter3d\"},{\"line\":{\"color\":\"lime\",\"width\":2},\"mode\":\"lines\",\"x\":[0.07058263287004063,-0.10197027794246338],\"y\":[0.01216101918923701,-0.0074789830761859966],\"z\":[-1.0902892308979144,-1.2454464428998406],\"type\":\"scatter3d\"},{\"line\":{\"color\":\"lime\",\"width\":2},\"mode\":\"lines\",\"x\":[-0.10197027794246338,-0.1780385697373179],\"y\":[-0.0074789830761859966,0.22554454212143793],\"z\":[-1.2454464428998406,-1.2534873465614922],\"type\":\"scatter3d\"},{\"line\":{\"color\":\"lime\",\"width\":2},\"mode\":\"lines\",\"x\":[0.14068884997093267,0.1647013120196969],\"y\":[0.2389960735675761,-0.004917336663142341],\"z\":[-1.3236151945074397,-1.332595825528498],\"type\":\"scatter3d\"},{\"line\":{\"color\":\"lime\",\"width\":2},\"mode\":\"lines\",\"x\":[0.1647013120196969,0.1871604776643343],\"y\":[-0.004917336663142341,-0.2393906416475027],\"z\":[-1.332595825528498,-1.3440341990110838],\"type\":\"scatter3d\"},{\"line\":{\"color\":\"lime\",\"width\":2},\"mode\":\"lines\",\"x\":[-0.1780385697373179,0.14068884997093267],\"y\":[0.22554454212143793,0.2389960735675761],\"z\":[-1.2534873465614922,-1.3236151945074397],\"type\":\"scatter3d\"}],\"name\":\"0\"},{\"data\":[{\"marker\":{\"color\":\"blue\",\"size\":6},\"mode\":\"markers\",\"x\":[-0.04543885,-0.17002411,-0.19331875,0.13614458,0.17638431,0.19434579],\"y\":[0.0008290979,-0.0036068729,0.22065777,0.23499207,-0.0003229792,-0.20033635],\"z\":[-0.9884547,-1.1692284,-1.2157098,-1.2305131,-1.2770967,-1.2484788],\"type\":\"scatter3d\"},{\"marker\":{\"color\":\"green\",\"size\":6},\"mode\":\"markers\",\"x\":[0.07058263287004063,-0.10197027794246338,-0.1780385697373179,0.14068884997093267,0.1647013120196969,0.1871604776643343],\"y\":[0.01216101918923701,-0.0074789830761859966,0.22554454212143793,0.2389960735675761,-0.004917336663142341,-0.2393906416475027],\"z\":[-1.0902892308979144,-1.2454464428998406,-1.2534873465614922,-1.3236151945074397,-1.332595825528498,-1.3440341990110838],\"type\":\"scatter3d\"},{\"line\":{\"color\":\"red\",\"width\":2},\"mode\":\"lines\",\"x\":[-0.045438848435878754,-0.170024111866951],\"y\":[0.0008290978730656207,-0.0036068728659301996],\"z\":[-0.9884546995162964,-1.169228434562683],\"type\":\"scatter3d\"},{\"line\":{\"color\":\"red\",\"width\":2},\"mode\":\"lines\",\"x\":[-0.170024111866951,-0.19331875443458557],\"y\":[-0.0036068728659301996,0.22065776586532593],\"z\":[-1.169228434562683,-1.2157098054885864],\"type\":\"scatter3d\"},{\"line\":{\"color\":\"red\",\"width\":2},\"mode\":\"lines\",\"x\":[0.13614457845687866,0.1763843148946762],\"y\":[0.23499207198619843,-0.0003229792055208236],\"z\":[-1.230513095855713,-1.2770967483520508],\"type\":\"scatter3d\"},{\"line\":{\"color\":\"red\",\"width\":2},\"mode\":\"lines\",\"x\":[0.1763843148946762,0.19434578716754913],\"y\":[-0.0003229792055208236,-0.20033635199069977],\"z\":[-1.2770967483520508,-1.2484787702560425],\"type\":\"scatter3d\"},{\"line\":{\"color\":\"red\",\"width\":2},\"mode\":\"lines\",\"x\":[-0.19331875443458557,0.13614457845687866],\"y\":[0.22065776586532593,0.23499207198619843],\"z\":[-1.2157098054885864,-1.230513095855713],\"type\":\"scatter3d\"},{\"line\":{\"color\":\"lime\",\"width\":2},\"mode\":\"lines\",\"x\":[0.07058263287004063,-0.10197027794246338],\"y\":[0.01216101918923701,-0.0074789830761859966],\"z\":[-1.0902892308979144,-1.2454464428998406],\"type\":\"scatter3d\"},{\"line\":{\"color\":\"lime\",\"width\":2},\"mode\":\"lines\",\"x\":[-0.10197027794246338,-0.1780385697373179],\"y\":[-0.0074789830761859966,0.22554454212143793],\"z\":[-1.2454464428998406,-1.2534873465614922],\"type\":\"scatter3d\"},{\"line\":{\"color\":\"lime\",\"width\":2},\"mode\":\"lines\",\"x\":[0.14068884997093267,0.1647013120196969],\"y\":[0.2389960735675761,-0.004917336663142341],\"z\":[-1.3236151945074397,-1.332595825528498],\"type\":\"scatter3d\"},{\"line\":{\"color\":\"lime\",\"width\":2},\"mode\":\"lines\",\"x\":[0.1647013120196969,0.1871604776643343],\"y\":[-0.004917336663142341,-0.2393906416475027],\"z\":[-1.332595825528498,-1.3440341990110838],\"type\":\"scatter3d\"},{\"line\":{\"color\":\"lime\",\"width\":2},\"mode\":\"lines\",\"x\":[-0.1780385697373179,0.14068884997093267],\"y\":[0.22554454212143793,0.2389960735675761],\"z\":[-1.2534873465614922,-1.3236151945074397],\"type\":\"scatter3d\"}],\"name\":\"1\"},{\"data\":[{\"marker\":{\"color\":\"blue\",\"size\":6},\"mode\":\"markers\",\"x\":[-0.04543885,-0.17002411,-0.19331875,0.13614458,0.17638431,0.19434579],\"y\":[0.0008290979,-0.0036068729,0.22065777,0.23499207,-0.0003229792,-0.20033635],\"z\":[-0.9884547,-1.1692284,-1.2157098,-1.2305131,-1.2770967,-1.2484788],\"type\":\"scatter3d\"},{\"marker\":{\"color\":\"green\",\"size\":6},\"mode\":\"markers\",\"x\":[0.07058263287004063,-0.10197027794246338,-0.1780385697373179,0.14068884997093267,0.1647013120196969,0.1871604776643343],\"y\":[0.01216101918923701,-0.0074789830761859966,0.22554454212143793,0.2389960735675761,-0.004917336663142341,-0.2393906416475027],\"z\":[-1.0902892308979144,-1.2454464428998406,-1.2534873465614922,-1.3236151945074397,-1.332595825528498,-1.3440341990110838],\"type\":\"scatter3d\"},{\"line\":{\"color\":\"red\",\"width\":2},\"mode\":\"lines\",\"x\":[-0.045438848435878754,-0.170024111866951],\"y\":[0.0008290978730656207,-0.0036068728659301996],\"z\":[-0.9884546995162964,-1.169228434562683],\"type\":\"scatter3d\"},{\"line\":{\"color\":\"red\",\"width\":2},\"mode\":\"lines\",\"x\":[-0.170024111866951,-0.19331875443458557],\"y\":[-0.0036068728659301996,0.22065776586532593],\"z\":[-1.169228434562683,-1.2157098054885864],\"type\":\"scatter3d\"},{\"line\":{\"color\":\"red\",\"width\":2},\"mode\":\"lines\",\"x\":[0.13614457845687866,0.1763843148946762],\"y\":[0.23499207198619843,-0.0003229792055208236],\"z\":[-1.230513095855713,-1.2770967483520508],\"type\":\"scatter3d\"},{\"line\":{\"color\":\"red\",\"width\":2},\"mode\":\"lines\",\"x\":[0.1763843148946762,0.19434578716754913],\"y\":[-0.0003229792055208236,-0.20033635199069977],\"z\":[-1.2770967483520508,-1.2484787702560425],\"type\":\"scatter3d\"},{\"line\":{\"color\":\"red\",\"width\":2},\"mode\":\"lines\",\"x\":[-0.19331875443458557,0.13614457845687866],\"y\":[0.22065776586532593,0.23499207198619843],\"z\":[-1.2157098054885864,-1.230513095855713],\"type\":\"scatter3d\"},{\"line\":{\"color\":\"lime\",\"width\":2},\"mode\":\"lines\",\"x\":[0.07058263287004063,-0.10197027794246338],\"y\":[0.01216101918923701,-0.0074789830761859966],\"z\":[-1.0902892308979144,-1.2454464428998406],\"type\":\"scatter3d\"},{\"line\":{\"color\":\"lime\",\"width\":2},\"mode\":\"lines\",\"x\":[-0.10197027794246338,-0.1780385697373179],\"y\":[-0.0074789830761859966,0.22554454212143793],\"z\":[-1.2454464428998406,-1.2534873465614922],\"type\":\"scatter3d\"},{\"line\":{\"color\":\"lime\",\"width\":2},\"mode\":\"lines\",\"x\":[0.14068884997093267,0.1647013120196969],\"y\":[0.2389960735675761,-0.004917336663142341],\"z\":[-1.3236151945074397,-1.332595825528498],\"type\":\"scatter3d\"},{\"line\":{\"color\":\"lime\",\"width\":2},\"mode\":\"lines\",\"x\":[0.1647013120196969,0.1871604776643343],\"y\":[-0.004917336663142341,-0.2393906416475027],\"z\":[-1.332595825528498,-1.3440341990110838],\"type\":\"scatter3d\"},{\"line\":{\"color\":\"lime\",\"width\":2},\"mode\":\"lines\",\"x\":[-0.1780385697373179,0.14068884997093267],\"y\":[0.22554454212143793,0.2389960735675761],\"z\":[-1.2534873465614922,-1.3236151945074397],\"type\":\"scatter3d\"}],\"name\":\"2\"},{\"data\":[{\"marker\":{\"color\":\"blue\",\"size\":6},\"mode\":\"markers\",\"x\":[-0.04543885,-0.17002411,-0.19331875,0.13614458,0.17638431,0.19434579],\"y\":[0.0008290979,-0.0036068729,0.22065777,0.23499207,-0.0003229792,-0.20033635],\"z\":[-0.9884547,-1.1692284,-1.2157098,-1.2305131,-1.2770967,-1.2484788],\"type\":\"scatter3d\"},{\"marker\":{\"color\":\"green\",\"size\":6},\"mode\":\"markers\",\"x\":[0.07058263287004063,-0.10197027794246338,-0.1780385697373179,0.14068884997093267,0.1647013120196969,0.1871604776643343],\"y\":[0.01216101918923701,-0.0074789830761859966,0.22554454212143793,0.2389960735675761,-0.004917336663142341,-0.2393906416475027],\"z\":[-1.0902892308979144,-1.2454464428998406,-1.2534873465614922,-1.3236151945074397,-1.332595825528498,-1.3440341990110838],\"type\":\"scatter3d\"},{\"line\":{\"color\":\"red\",\"width\":2},\"mode\":\"lines\",\"x\":[-0.045438848435878754,-0.170024111866951],\"y\":[0.0008290978730656207,-0.0036068728659301996],\"z\":[-0.9884546995162964,-1.169228434562683],\"type\":\"scatter3d\"},{\"line\":{\"color\":\"red\",\"width\":2},\"mode\":\"lines\",\"x\":[-0.170024111866951,-0.19331875443458557],\"y\":[-0.0036068728659301996,0.22065776586532593],\"z\":[-1.169228434562683,-1.2157098054885864],\"type\":\"scatter3d\"},{\"line\":{\"color\":\"red\",\"width\":2},\"mode\":\"lines\",\"x\":[0.13614457845687866,0.1763843148946762],\"y\":[0.23499207198619843,-0.0003229792055208236],\"z\":[-1.230513095855713,-1.2770967483520508],\"type\":\"scatter3d\"},{\"line\":{\"color\":\"red\",\"width\":2},\"mode\":\"lines\",\"x\":[0.1763843148946762,0.19434578716754913],\"y\":[-0.0003229792055208236,-0.20033635199069977],\"z\":[-1.2770967483520508,-1.2484787702560425],\"type\":\"scatter3d\"},{\"line\":{\"color\":\"red\",\"width\":2},\"mode\":\"lines\",\"x\":[-0.19331875443458557,0.13614457845687866],\"y\":[0.22065776586532593,0.23499207198619843],\"z\":[-1.2157098054885864,-1.230513095855713],\"type\":\"scatter3d\"},{\"line\":{\"color\":\"lime\",\"width\":2},\"mode\":\"lines\",\"x\":[0.07058263287004063,-0.10197027794246338],\"y\":[0.01216101918923701,-0.0074789830761859966],\"z\":[-1.0902892308979144,-1.2454464428998406],\"type\":\"scatter3d\"},{\"line\":{\"color\":\"lime\",\"width\":2},\"mode\":\"lines\",\"x\":[-0.10197027794246338,-0.1780385697373179],\"y\":[-0.0074789830761859966,0.22554454212143793],\"z\":[-1.2454464428998406,-1.2534873465614922],\"type\":\"scatter3d\"},{\"line\":{\"color\":\"lime\",\"width\":2},\"mode\":\"lines\",\"x\":[0.14068884997093267,0.1647013120196969],\"y\":[0.2389960735675761,-0.004917336663142341],\"z\":[-1.3236151945074397,-1.332595825528498],\"type\":\"scatter3d\"},{\"line\":{\"color\":\"lime\",\"width\":2},\"mode\":\"lines\",\"x\":[0.1647013120196969,0.1871604776643343],\"y\":[-0.004917336663142341,-0.2393906416475027],\"z\":[-1.332595825528498,-1.3440341990110838],\"type\":\"scatter3d\"},{\"line\":{\"color\":\"lime\",\"width\":2},\"mode\":\"lines\",\"x\":[-0.1780385697373179,0.14068884997093267],\"y\":[0.22554454212143793,0.2389960735675761],\"z\":[-1.2534873465614922,-1.3236151945074397],\"type\":\"scatter3d\"}],\"name\":\"3\"},{\"data\":[{\"marker\":{\"color\":\"blue\",\"size\":6},\"mode\":\"markers\",\"x\":[-0.04543885,-0.17002411,-0.19331875,0.13614458,0.17638431,0.19434579],\"y\":[0.0008290979,-0.0036068729,0.22065777,0.23499207,-0.0003229792,-0.20033635],\"z\":[-0.9884547,-1.1692284,-1.2157098,-1.2305131,-1.2770967,-1.2484788],\"type\":\"scatter3d\"},{\"marker\":{\"color\":\"green\",\"size\":6},\"mode\":\"markers\",\"x\":[0.07058263287004063,-0.10197027794246338,-0.1780385697373179,0.14068884997093267,0.1647013120196969,0.1871604776643343],\"y\":[0.01216101918923701,-0.0074789830761859966,0.22554454212143793,0.2389960735675761,-0.004917336663142341,-0.2393906416475027],\"z\":[-1.0902892308979144,-1.2454464428998406,-1.2534873465614922,-1.3236151945074397,-1.332595825528498,-1.3440341990110838],\"type\":\"scatter3d\"},{\"line\":{\"color\":\"red\",\"width\":2},\"mode\":\"lines\",\"x\":[-0.045438848435878754,-0.170024111866951],\"y\":[0.0008290978730656207,-0.0036068728659301996],\"z\":[-0.9884546995162964,-1.169228434562683],\"type\":\"scatter3d\"},{\"line\":{\"color\":\"red\",\"width\":2},\"mode\":\"lines\",\"x\":[-0.170024111866951,-0.19331875443458557],\"y\":[-0.0036068728659301996,0.22065776586532593],\"z\":[-1.169228434562683,-1.2157098054885864],\"type\":\"scatter3d\"},{\"line\":{\"color\":\"red\",\"width\":2},\"mode\":\"lines\",\"x\":[0.13614457845687866,0.1763843148946762],\"y\":[0.23499207198619843,-0.0003229792055208236],\"z\":[-1.230513095855713,-1.2770967483520508],\"type\":\"scatter3d\"},{\"line\":{\"color\":\"red\",\"width\":2},\"mode\":\"lines\",\"x\":[0.1763843148946762,0.19434578716754913],\"y\":[-0.0003229792055208236,-0.20033635199069977],\"z\":[-1.2770967483520508,-1.2484787702560425],\"type\":\"scatter3d\"},{\"line\":{\"color\":\"red\",\"width\":2},\"mode\":\"lines\",\"x\":[-0.19331875443458557,0.13614457845687866],\"y\":[0.22065776586532593,0.23499207198619843],\"z\":[-1.2157098054885864,-1.230513095855713],\"type\":\"scatter3d\"},{\"line\":{\"color\":\"lime\",\"width\":2},\"mode\":\"lines\",\"x\":[0.07058263287004063,-0.10197027794246338],\"y\":[0.01216101918923701,-0.0074789830761859966],\"z\":[-1.0902892308979144,-1.2454464428998406],\"type\":\"scatter3d\"},{\"line\":{\"color\":\"lime\",\"width\":2},\"mode\":\"lines\",\"x\":[-0.10197027794246338,-0.1780385697373179],\"y\":[-0.0074789830761859966,0.22554454212143793],\"z\":[-1.2454464428998406,-1.2534873465614922],\"type\":\"scatter3d\"},{\"line\":{\"color\":\"lime\",\"width\":2},\"mode\":\"lines\",\"x\":[0.14068884997093267,0.1647013120196969],\"y\":[0.2389960735675761,-0.004917336663142341],\"z\":[-1.3236151945074397,-1.332595825528498],\"type\":\"scatter3d\"},{\"line\":{\"color\":\"lime\",\"width\":2},\"mode\":\"lines\",\"x\":[0.1647013120196969,0.1871604776643343],\"y\":[-0.004917336663142341,-0.2393906416475027],\"z\":[-1.332595825528498,-1.3440341990110838],\"type\":\"scatter3d\"},{\"line\":{\"color\":\"lime\",\"width\":2},\"mode\":\"lines\",\"x\":[-0.1780385697373179,0.14068884997093267],\"y\":[0.22554454212143793,0.2389960735675761],\"z\":[-1.2534873465614922,-1.3236151945074397],\"type\":\"scatter3d\"}],\"name\":\"4\"},{\"data\":[{\"marker\":{\"color\":\"blue\",\"size\":6},\"mode\":\"markers\",\"x\":[-0.04543885,-0.17002411,-0.19331875,0.13614458,0.17638431,0.19434579],\"y\":[0.0008290979,-0.0036068729,0.22065777,0.23499207,-0.0003229792,-0.20033635],\"z\":[-0.9884547,-1.1692284,-1.2157098,-1.2305131,-1.2770967,-1.2484788],\"type\":\"scatter3d\"},{\"marker\":{\"color\":\"green\",\"size\":6},\"mode\":\"markers\",\"x\":[0.07058263287004063,-0.10197027794246338,-0.1780385697373179,0.14068884997093267,0.1647013120196969,0.1871604776643343],\"y\":[0.01216101918923701,-0.0074789830761859966,0.22554454212143793,0.2389960735675761,-0.004917336663142341,-0.2393906416475027],\"z\":[-1.0902892308979144,-1.2454464428998406,-1.2534873465614922,-1.3236151945074397,-1.332595825528498,-1.3440341990110838],\"type\":\"scatter3d\"},{\"line\":{\"color\":\"red\",\"width\":2},\"mode\":\"lines\",\"x\":[-0.045438848435878754,-0.170024111866951],\"y\":[0.0008290978730656207,-0.0036068728659301996],\"z\":[-0.9884546995162964,-1.169228434562683],\"type\":\"scatter3d\"},{\"line\":{\"color\":\"red\",\"width\":2},\"mode\":\"lines\",\"x\":[-0.170024111866951,-0.19331875443458557],\"y\":[-0.0036068728659301996,0.22065776586532593],\"z\":[-1.169228434562683,-1.2157098054885864],\"type\":\"scatter3d\"},{\"line\":{\"color\":\"red\",\"width\":2},\"mode\":\"lines\",\"x\":[0.13614457845687866,0.1763843148946762],\"y\":[0.23499207198619843,-0.0003229792055208236],\"z\":[-1.230513095855713,-1.2770967483520508],\"type\":\"scatter3d\"},{\"line\":{\"color\":\"red\",\"width\":2},\"mode\":\"lines\",\"x\":[0.1763843148946762,0.19434578716754913],\"y\":[-0.0003229792055208236,-0.20033635199069977],\"z\":[-1.2770967483520508,-1.2484787702560425],\"type\":\"scatter3d\"},{\"line\":{\"color\":\"red\",\"width\":2},\"mode\":\"lines\",\"x\":[-0.19331875443458557,0.13614457845687866],\"y\":[0.22065776586532593,0.23499207198619843],\"z\":[-1.2157098054885864,-1.230513095855713],\"type\":\"scatter3d\"},{\"line\":{\"color\":\"lime\",\"width\":2},\"mode\":\"lines\",\"x\":[0.07058263287004063,-0.10197027794246338],\"y\":[0.01216101918923701,-0.0074789830761859966],\"z\":[-1.0902892308979144,-1.2454464428998406],\"type\":\"scatter3d\"},{\"line\":{\"color\":\"lime\",\"width\":2},\"mode\":\"lines\",\"x\":[-0.10197027794246338,-0.1780385697373179],\"y\":[-0.0074789830761859966,0.22554454212143793],\"z\":[-1.2454464428998406,-1.2534873465614922],\"type\":\"scatter3d\"},{\"line\":{\"color\":\"lime\",\"width\":2},\"mode\":\"lines\",\"x\":[0.14068884997093267,0.1647013120196969],\"y\":[0.2389960735675761,-0.004917336663142341],\"z\":[-1.3236151945074397,-1.332595825528498],\"type\":\"scatter3d\"},{\"line\":{\"color\":\"lime\",\"width\":2},\"mode\":\"lines\",\"x\":[0.1647013120196969,0.1871604776643343],\"y\":[-0.004917336663142341,-0.2393906416475027],\"z\":[-1.332595825528498,-1.3440341990110838],\"type\":\"scatter3d\"},{\"line\":{\"color\":\"lime\",\"width\":2},\"mode\":\"lines\",\"x\":[-0.1780385697373179,0.14068884997093267],\"y\":[0.22554454212143793,0.2389960735675761],\"z\":[-1.2534873465614922,-1.3236151945074397],\"type\":\"scatter3d\"}],\"name\":\"5\"},{\"data\":[{\"marker\":{\"color\":\"blue\",\"size\":6},\"mode\":\"markers\",\"x\":[-0.04543885,-0.17002411,-0.19331875,0.13614458,0.17638431,0.19434579],\"y\":[0.0008290979,-0.0036068729,0.22065777,0.23499207,-0.0003229792,-0.20033635],\"z\":[-0.9884547,-1.1692284,-1.2157098,-1.2305131,-1.2770967,-1.2484788],\"type\":\"scatter3d\"},{\"marker\":{\"color\":\"green\",\"size\":6},\"mode\":\"markers\",\"x\":[0.07058263287004063,-0.10197027794246338,-0.1780385697373179,0.14068884997093267,0.1647013120196969,0.1871604776643343],\"y\":[0.01216101918923701,-0.0074789830761859966,0.22554454212143793,0.2389960735675761,-0.004917336663142341,-0.2393906416475027],\"z\":[-1.0902892308979144,-1.2454464428998406,-1.2534873465614922,-1.3236151945074397,-1.332595825528498,-1.3440341990110838],\"type\":\"scatter3d\"},{\"line\":{\"color\":\"red\",\"width\":2},\"mode\":\"lines\",\"x\":[-0.045438848435878754,-0.170024111866951],\"y\":[0.0008290978730656207,-0.0036068728659301996],\"z\":[-0.9884546995162964,-1.169228434562683],\"type\":\"scatter3d\"},{\"line\":{\"color\":\"red\",\"width\":2},\"mode\":\"lines\",\"x\":[-0.170024111866951,-0.19331875443458557],\"y\":[-0.0036068728659301996,0.22065776586532593],\"z\":[-1.169228434562683,-1.2157098054885864],\"type\":\"scatter3d\"},{\"line\":{\"color\":\"red\",\"width\":2},\"mode\":\"lines\",\"x\":[0.13614457845687866,0.1763843148946762],\"y\":[0.23499207198619843,-0.0003229792055208236],\"z\":[-1.230513095855713,-1.2770967483520508],\"type\":\"scatter3d\"},{\"line\":{\"color\":\"red\",\"width\":2},\"mode\":\"lines\",\"x\":[0.1763843148946762,0.19434578716754913],\"y\":[-0.0003229792055208236,-0.20033635199069977],\"z\":[-1.2770967483520508,-1.2484787702560425],\"type\":\"scatter3d\"},{\"line\":{\"color\":\"red\",\"width\":2},\"mode\":\"lines\",\"x\":[-0.19331875443458557,0.13614457845687866],\"y\":[0.22065776586532593,0.23499207198619843],\"z\":[-1.2157098054885864,-1.230513095855713],\"type\":\"scatter3d\"},{\"line\":{\"color\":\"lime\",\"width\":2},\"mode\":\"lines\",\"x\":[0.07058263287004063,-0.10197027794246338],\"y\":[0.01216101918923701,-0.0074789830761859966],\"z\":[-1.0902892308979144,-1.2454464428998406],\"type\":\"scatter3d\"},{\"line\":{\"color\":\"lime\",\"width\":2},\"mode\":\"lines\",\"x\":[-0.10197027794246338,-0.1780385697373179],\"y\":[-0.0074789830761859966,0.22554454212143793],\"z\":[-1.2454464428998406,-1.2534873465614922],\"type\":\"scatter3d\"},{\"line\":{\"color\":\"lime\",\"width\":2},\"mode\":\"lines\",\"x\":[0.14068884997093267,0.1647013120196969],\"y\":[0.2389960735675761,-0.004917336663142341],\"z\":[-1.3236151945074397,-1.332595825528498],\"type\":\"scatter3d\"},{\"line\":{\"color\":\"lime\",\"width\":2},\"mode\":\"lines\",\"x\":[0.1647013120196969,0.1871604776643343],\"y\":[-0.004917336663142341,-0.2393906416475027],\"z\":[-1.332595825528498,-1.3440341990110838],\"type\":\"scatter3d\"},{\"line\":{\"color\":\"lime\",\"width\":2},\"mode\":\"lines\",\"x\":[-0.1780385697373179,0.14068884997093267],\"y\":[0.22554454212143793,0.2389960735675761],\"z\":[-1.2534873465614922,-1.3236151945074397],\"type\":\"scatter3d\"}],\"name\":\"6\"},{\"data\":[{\"marker\":{\"color\":\"blue\",\"size\":6},\"mode\":\"markers\",\"x\":[-0.04543885,-0.17002411,-0.19331875,0.13614458,0.17638431,0.19434579],\"y\":[0.0008290979,-0.0036068729,0.22065777,0.23499207,-0.0003229792,-0.20033635],\"z\":[-0.9884547,-1.1692284,-1.2157098,-1.2305131,-1.2770967,-1.2484788],\"type\":\"scatter3d\"},{\"marker\":{\"color\":\"green\",\"size\":6},\"mode\":\"markers\",\"x\":[0.07058263287004063,-0.10197027794246338,-0.1780385697373179,0.14068884997093267,0.1647013120196969,0.1871604776643343],\"y\":[0.01216101918923701,-0.0074789830761859966,0.22554454212143793,0.2389960735675761,-0.004917336663142341,-0.2393906416475027],\"z\":[-1.0902892308979144,-1.2454464428998406,-1.2534873465614922,-1.3236151945074397,-1.332595825528498,-1.3440341990110838],\"type\":\"scatter3d\"},{\"line\":{\"color\":\"red\",\"width\":2},\"mode\":\"lines\",\"x\":[-0.045438848435878754,-0.170024111866951],\"y\":[0.0008290978730656207,-0.0036068728659301996],\"z\":[-0.9884546995162964,-1.169228434562683],\"type\":\"scatter3d\"},{\"line\":{\"color\":\"red\",\"width\":2},\"mode\":\"lines\",\"x\":[-0.170024111866951,-0.19331875443458557],\"y\":[-0.0036068728659301996,0.22065776586532593],\"z\":[-1.169228434562683,-1.2157098054885864],\"type\":\"scatter3d\"},{\"line\":{\"color\":\"red\",\"width\":2},\"mode\":\"lines\",\"x\":[0.13614457845687866,0.1763843148946762],\"y\":[0.23499207198619843,-0.0003229792055208236],\"z\":[-1.230513095855713,-1.2770967483520508],\"type\":\"scatter3d\"},{\"line\":{\"color\":\"red\",\"width\":2},\"mode\":\"lines\",\"x\":[0.1763843148946762,0.19434578716754913],\"y\":[-0.0003229792055208236,-0.20033635199069977],\"z\":[-1.2770967483520508,-1.2484787702560425],\"type\":\"scatter3d\"},{\"line\":{\"color\":\"red\",\"width\":2},\"mode\":\"lines\",\"x\":[-0.19331875443458557,0.13614457845687866],\"y\":[0.22065776586532593,0.23499207198619843],\"z\":[-1.2157098054885864,-1.230513095855713],\"type\":\"scatter3d\"},{\"line\":{\"color\":\"lime\",\"width\":2},\"mode\":\"lines\",\"x\":[0.07058263287004063,-0.10197027794246338],\"y\":[0.01216101918923701,-0.0074789830761859966],\"z\":[-1.0902892308979144,-1.2454464428998406],\"type\":\"scatter3d\"},{\"line\":{\"color\":\"lime\",\"width\":2},\"mode\":\"lines\",\"x\":[-0.10197027794246338,-0.1780385697373179],\"y\":[-0.0074789830761859966,0.22554454212143793],\"z\":[-1.2454464428998406,-1.2534873465614922],\"type\":\"scatter3d\"},{\"line\":{\"color\":\"lime\",\"width\":2},\"mode\":\"lines\",\"x\":[0.14068884997093267,0.1647013120196969],\"y\":[0.2389960735675761,-0.004917336663142341],\"z\":[-1.3236151945074397,-1.332595825528498],\"type\":\"scatter3d\"},{\"line\":{\"color\":\"lime\",\"width\":2},\"mode\":\"lines\",\"x\":[0.1647013120196969,0.1871604776643343],\"y\":[-0.004917336663142341,-0.2393906416475027],\"z\":[-1.332595825528498,-1.3440341990110838],\"type\":\"scatter3d\"},{\"line\":{\"color\":\"lime\",\"width\":2},\"mode\":\"lines\",\"x\":[-0.1780385697373179,0.14068884997093267],\"y\":[0.22554454212143793,0.2389960735675761],\"z\":[-1.2534873465614922,-1.3236151945074397],\"type\":\"scatter3d\"}],\"name\":\"7\"},{\"data\":[{\"marker\":{\"color\":\"blue\",\"size\":6},\"mode\":\"markers\",\"x\":[-0.04543885,-0.17002411,-0.19331875,0.13614458,0.17638431,0.19434579],\"y\":[0.0008290979,-0.0036068729,0.22065777,0.23499207,-0.0003229792,-0.20033635],\"z\":[-0.9884547,-1.1692284,-1.2157098,-1.2305131,-1.2770967,-1.2484788],\"type\":\"scatter3d\"},{\"marker\":{\"color\":\"green\",\"size\":6},\"mode\":\"markers\",\"x\":[0.07058263287004063,-0.10197027794246338,-0.1780385697373179,0.14068884997093267,0.1647013120196969,0.1871604776643343],\"y\":[0.01216101918923701,-0.0074789830761859966,0.22554454212143793,0.2389960735675761,-0.004917336663142341,-0.2393906416475027],\"z\":[-1.0902892308979144,-1.2454464428998406,-1.2534873465614922,-1.3236151945074397,-1.332595825528498,-1.3440341990110838],\"type\":\"scatter3d\"},{\"line\":{\"color\":\"red\",\"width\":2},\"mode\":\"lines\",\"x\":[-0.045438848435878754,-0.170024111866951],\"y\":[0.0008290978730656207,-0.0036068728659301996],\"z\":[-0.9884546995162964,-1.169228434562683],\"type\":\"scatter3d\"},{\"line\":{\"color\":\"red\",\"width\":2},\"mode\":\"lines\",\"x\":[-0.170024111866951,-0.19331875443458557],\"y\":[-0.0036068728659301996,0.22065776586532593],\"z\":[-1.169228434562683,-1.2157098054885864],\"type\":\"scatter3d\"},{\"line\":{\"color\":\"red\",\"width\":2},\"mode\":\"lines\",\"x\":[0.13614457845687866,0.1763843148946762],\"y\":[0.23499207198619843,-0.0003229792055208236],\"z\":[-1.230513095855713,-1.2770967483520508],\"type\":\"scatter3d\"},{\"line\":{\"color\":\"red\",\"width\":2},\"mode\":\"lines\",\"x\":[0.1763843148946762,0.19434578716754913],\"y\":[-0.0003229792055208236,-0.20033635199069977],\"z\":[-1.2770967483520508,-1.2484787702560425],\"type\":\"scatter3d\"},{\"line\":{\"color\":\"red\",\"width\":2},\"mode\":\"lines\",\"x\":[-0.19331875443458557,0.13614457845687866],\"y\":[0.22065776586532593,0.23499207198619843],\"z\":[-1.2157098054885864,-1.230513095855713],\"type\":\"scatter3d\"},{\"line\":{\"color\":\"lime\",\"width\":2},\"mode\":\"lines\",\"x\":[0.07058263287004063,-0.10197027794246338],\"y\":[0.01216101918923701,-0.0074789830761859966],\"z\":[-1.0902892308979144,-1.2454464428998406],\"type\":\"scatter3d\"},{\"line\":{\"color\":\"lime\",\"width\":2},\"mode\":\"lines\",\"x\":[-0.10197027794246338,-0.1780385697373179],\"y\":[-0.0074789830761859966,0.22554454212143793],\"z\":[-1.2454464428998406,-1.2534873465614922],\"type\":\"scatter3d\"},{\"line\":{\"color\":\"lime\",\"width\":2},\"mode\":\"lines\",\"x\":[0.14068884997093267,0.1647013120196969],\"y\":[0.2389960735675761,-0.004917336663142341],\"z\":[-1.3236151945074397,-1.332595825528498],\"type\":\"scatter3d\"},{\"line\":{\"color\":\"lime\",\"width\":2},\"mode\":\"lines\",\"x\":[0.1647013120196969,0.1871604776643343],\"y\":[-0.004917336663142341,-0.2393906416475027],\"z\":[-1.332595825528498,-1.3440341990110838],\"type\":\"scatter3d\"},{\"line\":{\"color\":\"lime\",\"width\":2},\"mode\":\"lines\",\"x\":[-0.1780385697373179,0.14068884997093267],\"y\":[0.22554454212143793,0.2389960735675761],\"z\":[-1.2534873465614922,-1.3236151945074397],\"type\":\"scatter3d\"}],\"name\":\"8\"},{\"data\":[{\"marker\":{\"color\":\"blue\",\"size\":6},\"mode\":\"markers\",\"x\":[-0.04543885,-0.17002411,-0.19331875,0.13614458,0.17638431,0.19434579],\"y\":[0.0008290979,-0.0036068729,0.22065777,0.23499207,-0.0003229792,-0.20033635],\"z\":[-0.9884547,-1.1692284,-1.2157098,-1.2305131,-1.2770967,-1.2484788],\"type\":\"scatter3d\"},{\"marker\":{\"color\":\"green\",\"size\":6},\"mode\":\"markers\",\"x\":[0.07058263287004063,-0.10197027794246338,-0.1780385697373179,0.14068884997093267,0.1647013120196969,0.1871604776643343],\"y\":[0.01216101918923701,-0.0074789830761859966,0.22554454212143793,0.2389960735675761,-0.004917336663142341,-0.2393906416475027],\"z\":[-1.0902892308979144,-1.2454464428998406,-1.2534873465614922,-1.3236151945074397,-1.332595825528498,-1.3440341990110838],\"type\":\"scatter3d\"},{\"line\":{\"color\":\"red\",\"width\":2},\"mode\":\"lines\",\"x\":[-0.045438848435878754,-0.170024111866951],\"y\":[0.0008290978730656207,-0.0036068728659301996],\"z\":[-0.9884546995162964,-1.169228434562683],\"type\":\"scatter3d\"},{\"line\":{\"color\":\"red\",\"width\":2},\"mode\":\"lines\",\"x\":[-0.170024111866951,-0.19331875443458557],\"y\":[-0.0036068728659301996,0.22065776586532593],\"z\":[-1.169228434562683,-1.2157098054885864],\"type\":\"scatter3d\"},{\"line\":{\"color\":\"red\",\"width\":2},\"mode\":\"lines\",\"x\":[0.13614457845687866,0.1763843148946762],\"y\":[0.23499207198619843,-0.0003229792055208236],\"z\":[-1.230513095855713,-1.2770967483520508],\"type\":\"scatter3d\"},{\"line\":{\"color\":\"red\",\"width\":2},\"mode\":\"lines\",\"x\":[0.1763843148946762,0.19434578716754913],\"y\":[-0.0003229792055208236,-0.20033635199069977],\"z\":[-1.2770967483520508,-1.2484787702560425],\"type\":\"scatter3d\"},{\"line\":{\"color\":\"red\",\"width\":2},\"mode\":\"lines\",\"x\":[-0.19331875443458557,0.13614457845687866],\"y\":[0.22065776586532593,0.23499207198619843],\"z\":[-1.2157098054885864,-1.230513095855713],\"type\":\"scatter3d\"},{\"line\":{\"color\":\"lime\",\"width\":2},\"mode\":\"lines\",\"x\":[0.07058263287004063,-0.10197027794246338],\"y\":[0.01216101918923701,-0.0074789830761859966],\"z\":[-1.0902892308979144,-1.2454464428998406],\"type\":\"scatter3d\"},{\"line\":{\"color\":\"lime\",\"width\":2},\"mode\":\"lines\",\"x\":[-0.10197027794246338,-0.1780385697373179],\"y\":[-0.0074789830761859966,0.22554454212143793],\"z\":[-1.2454464428998406,-1.2534873465614922],\"type\":\"scatter3d\"},{\"line\":{\"color\":\"lime\",\"width\":2},\"mode\":\"lines\",\"x\":[0.14068884997093267,0.1647013120196969],\"y\":[0.2389960735675761,-0.004917336663142341],\"z\":[-1.3236151945074397,-1.332595825528498],\"type\":\"scatter3d\"},{\"line\":{\"color\":\"lime\",\"width\":2},\"mode\":\"lines\",\"x\":[0.1647013120196969,0.1871604776643343],\"y\":[-0.004917336663142341,-0.2393906416475027],\"z\":[-1.332595825528498,-1.3440341990110838],\"type\":\"scatter3d\"},{\"line\":{\"color\":\"lime\",\"width\":2},\"mode\":\"lines\",\"x\":[-0.1780385697373179,0.14068884997093267],\"y\":[0.22554454212143793,0.2389960735675761],\"z\":[-1.2534873465614922,-1.3236151945074397],\"type\":\"scatter3d\"}],\"name\":\"9\"},{\"data\":[{\"marker\":{\"color\":\"blue\",\"size\":6},\"mode\":\"markers\",\"x\":[-0.04543885,-0.17002411,-0.19331875,0.13614458,0.17638431,0.19434579],\"y\":[0.0008290979,-0.0036068729,0.22065777,0.23499207,-0.0003229792,-0.20033635],\"z\":[-0.9884547,-1.1692284,-1.2157098,-1.2305131,-1.2770967,-1.2484788],\"type\":\"scatter3d\"},{\"marker\":{\"color\":\"green\",\"size\":6},\"mode\":\"markers\",\"x\":[0.07058263287004063,-0.10197027794246338,-0.1780385697373179,0.14068884997093267,0.1647013120196969,0.1871604776643343],\"y\":[0.01216101918923701,-0.0074789830761859966,0.22554454212143793,0.2389960735675761,-0.004917336663142341,-0.2393906416475027],\"z\":[-1.0902892308979144,-1.2454464428998406,-1.2534873465614922,-1.3236151945074397,-1.332595825528498,-1.3440341990110838],\"type\":\"scatter3d\"},{\"line\":{\"color\":\"red\",\"width\":2},\"mode\":\"lines\",\"x\":[-0.045438848435878754,-0.170024111866951],\"y\":[0.0008290978730656207,-0.0036068728659301996],\"z\":[-0.9884546995162964,-1.169228434562683],\"type\":\"scatter3d\"},{\"line\":{\"color\":\"red\",\"width\":2},\"mode\":\"lines\",\"x\":[-0.170024111866951,-0.19331875443458557],\"y\":[-0.0036068728659301996,0.22065776586532593],\"z\":[-1.169228434562683,-1.2157098054885864],\"type\":\"scatter3d\"},{\"line\":{\"color\":\"red\",\"width\":2},\"mode\":\"lines\",\"x\":[0.13614457845687866,0.1763843148946762],\"y\":[0.23499207198619843,-0.0003229792055208236],\"z\":[-1.230513095855713,-1.2770967483520508],\"type\":\"scatter3d\"},{\"line\":{\"color\":\"red\",\"width\":2},\"mode\":\"lines\",\"x\":[0.1763843148946762,0.19434578716754913],\"y\":[-0.0003229792055208236,-0.20033635199069977],\"z\":[-1.2770967483520508,-1.2484787702560425],\"type\":\"scatter3d\"},{\"line\":{\"color\":\"red\",\"width\":2},\"mode\":\"lines\",\"x\":[-0.19331875443458557,0.13614457845687866],\"y\":[0.22065776586532593,0.23499207198619843],\"z\":[-1.2157098054885864,-1.230513095855713],\"type\":\"scatter3d\"},{\"line\":{\"color\":\"lime\",\"width\":2},\"mode\":\"lines\",\"x\":[0.07058263287004063,-0.10197027794246338],\"y\":[0.01216101918923701,-0.0074789830761859966],\"z\":[-1.0902892308979144,-1.2454464428998406],\"type\":\"scatter3d\"},{\"line\":{\"color\":\"lime\",\"width\":2},\"mode\":\"lines\",\"x\":[-0.10197027794246338,-0.1780385697373179],\"y\":[-0.0074789830761859966,0.22554454212143793],\"z\":[-1.2454464428998406,-1.2534873465614922],\"type\":\"scatter3d\"},{\"line\":{\"color\":\"lime\",\"width\":2},\"mode\":\"lines\",\"x\":[0.14068884997093267,0.1647013120196969],\"y\":[0.2389960735675761,-0.004917336663142341],\"z\":[-1.3236151945074397,-1.332595825528498],\"type\":\"scatter3d\"},{\"line\":{\"color\":\"lime\",\"width\":2},\"mode\":\"lines\",\"x\":[0.1647013120196969,0.1871604776643343],\"y\":[-0.004917336663142341,-0.2393906416475027],\"z\":[-1.332595825528498,-1.3440341990110838],\"type\":\"scatter3d\"},{\"line\":{\"color\":\"lime\",\"width\":2},\"mode\":\"lines\",\"x\":[-0.1780385697373179,0.14068884997093267],\"y\":[0.22554454212143793,0.2389960735675761],\"z\":[-1.2534873465614922,-1.3236151945074397],\"type\":\"scatter3d\"}],\"name\":\"10\"},{\"data\":[{\"marker\":{\"color\":\"blue\",\"size\":6},\"mode\":\"markers\",\"x\":[-0.04543885,-0.17002411,-0.19331875,0.13614458,0.17638431,0.19434579],\"y\":[0.0008290979,-0.0036068729,0.22065777,0.23499207,-0.0003229792,-0.20033635],\"z\":[-0.9884547,-1.1692284,-1.2157098,-1.2305131,-1.2770967,-1.2484788],\"type\":\"scatter3d\"},{\"marker\":{\"color\":\"green\",\"size\":6},\"mode\":\"markers\",\"x\":[0.07058263287004063,-0.10197027794246338,-0.1780385697373179,0.14068884997093267,0.1647013120196969,0.1871604776643343],\"y\":[0.01216101918923701,-0.0074789830761859966,0.22554454212143793,0.2389960735675761,-0.004917336663142341,-0.2393906416475027],\"z\":[-1.0902892308979144,-1.2454464428998406,-1.2534873465614922,-1.3236151945074397,-1.332595825528498,-1.3440341990110838],\"type\":\"scatter3d\"},{\"line\":{\"color\":\"red\",\"width\":2},\"mode\":\"lines\",\"x\":[-0.045438848435878754,-0.170024111866951],\"y\":[0.0008290978730656207,-0.0036068728659301996],\"z\":[-0.9884546995162964,-1.169228434562683],\"type\":\"scatter3d\"},{\"line\":{\"color\":\"red\",\"width\":2},\"mode\":\"lines\",\"x\":[-0.170024111866951,-0.19331875443458557],\"y\":[-0.0036068728659301996,0.22065776586532593],\"z\":[-1.169228434562683,-1.2157098054885864],\"type\":\"scatter3d\"},{\"line\":{\"color\":\"red\",\"width\":2},\"mode\":\"lines\",\"x\":[0.13614457845687866,0.1763843148946762],\"y\":[0.23499207198619843,-0.0003229792055208236],\"z\":[-1.230513095855713,-1.2770967483520508],\"type\":\"scatter3d\"},{\"line\":{\"color\":\"red\",\"width\":2},\"mode\":\"lines\",\"x\":[0.1763843148946762,0.19434578716754913],\"y\":[-0.0003229792055208236,-0.20033635199069977],\"z\":[-1.2770967483520508,-1.2484787702560425],\"type\":\"scatter3d\"},{\"line\":{\"color\":\"red\",\"width\":2},\"mode\":\"lines\",\"x\":[-0.19331875443458557,0.13614457845687866],\"y\":[0.22065776586532593,0.23499207198619843],\"z\":[-1.2157098054885864,-1.230513095855713],\"type\":\"scatter3d\"},{\"line\":{\"color\":\"lime\",\"width\":2},\"mode\":\"lines\",\"x\":[0.07058263287004063,-0.10197027794246338],\"y\":[0.01216101918923701,-0.0074789830761859966],\"z\":[-1.0902892308979144,-1.2454464428998406],\"type\":\"scatter3d\"},{\"line\":{\"color\":\"lime\",\"width\":2},\"mode\":\"lines\",\"x\":[-0.10197027794246338,-0.1780385697373179],\"y\":[-0.0074789830761859966,0.22554454212143793],\"z\":[-1.2454464428998406,-1.2534873465614922],\"type\":\"scatter3d\"},{\"line\":{\"color\":\"lime\",\"width\":2},\"mode\":\"lines\",\"x\":[0.14068884997093267,0.1647013120196969],\"y\":[0.2389960735675761,-0.004917336663142341],\"z\":[-1.3236151945074397,-1.332595825528498],\"type\":\"scatter3d\"},{\"line\":{\"color\":\"lime\",\"width\":2},\"mode\":\"lines\",\"x\":[0.1647013120196969,0.1871604776643343],\"y\":[-0.004917336663142341,-0.2393906416475027],\"z\":[-1.332595825528498,-1.3440341990110838],\"type\":\"scatter3d\"},{\"line\":{\"color\":\"lime\",\"width\":2},\"mode\":\"lines\",\"x\":[-0.1780385697373179,0.14068884997093267],\"y\":[0.22554454212143793,0.2389960735675761],\"z\":[-1.2534873465614922,-1.3236151945074397],\"type\":\"scatter3d\"}],\"name\":\"11\"},{\"data\":[{\"marker\":{\"color\":\"blue\",\"size\":6},\"mode\":\"markers\",\"x\":[-0.04543885,-0.17002411,-0.19331875,0.13614458,0.17638431,0.19434579],\"y\":[0.0008290979,-0.0036068729,0.22065777,0.23499207,-0.0003229792,-0.20033635],\"z\":[-0.9884547,-1.1692284,-1.2157098,-1.2305131,-1.2770967,-1.2484788],\"type\":\"scatter3d\"},{\"marker\":{\"color\":\"green\",\"size\":6},\"mode\":\"markers\",\"x\":[0.07058263287004063,-0.10197027794246338,-0.1780385697373179,0.14068884997093267,0.1647013120196969,0.1871604776643343],\"y\":[0.01216101918923701,-0.0074789830761859966,0.22554454212143793,0.2389960735675761,-0.004917336663142341,-0.2393906416475027],\"z\":[-1.0902892308979144,-1.2454464428998406,-1.2534873465614922,-1.3236151945074397,-1.332595825528498,-1.3440341990110838],\"type\":\"scatter3d\"},{\"line\":{\"color\":\"red\",\"width\":2},\"mode\":\"lines\",\"x\":[-0.045438848435878754,-0.170024111866951],\"y\":[0.0008290978730656207,-0.0036068728659301996],\"z\":[-0.9884546995162964,-1.169228434562683],\"type\":\"scatter3d\"},{\"line\":{\"color\":\"red\",\"width\":2},\"mode\":\"lines\",\"x\":[-0.170024111866951,-0.19331875443458557],\"y\":[-0.0036068728659301996,0.22065776586532593],\"z\":[-1.169228434562683,-1.2157098054885864],\"type\":\"scatter3d\"},{\"line\":{\"color\":\"red\",\"width\":2},\"mode\":\"lines\",\"x\":[0.13614457845687866,0.1763843148946762],\"y\":[0.23499207198619843,-0.0003229792055208236],\"z\":[-1.230513095855713,-1.2770967483520508],\"type\":\"scatter3d\"},{\"line\":{\"color\":\"red\",\"width\":2},\"mode\":\"lines\",\"x\":[0.1763843148946762,0.19434578716754913],\"y\":[-0.0003229792055208236,-0.20033635199069977],\"z\":[-1.2770967483520508,-1.2484787702560425],\"type\":\"scatter3d\"},{\"line\":{\"color\":\"red\",\"width\":2},\"mode\":\"lines\",\"x\":[-0.19331875443458557,0.13614457845687866],\"y\":[0.22065776586532593,0.23499207198619843],\"z\":[-1.2157098054885864,-1.230513095855713],\"type\":\"scatter3d\"},{\"line\":{\"color\":\"lime\",\"width\":2},\"mode\":\"lines\",\"x\":[0.07058263287004063,-0.10197027794246338],\"y\":[0.01216101918923701,-0.0074789830761859966],\"z\":[-1.0902892308979144,-1.2454464428998406],\"type\":\"scatter3d\"},{\"line\":{\"color\":\"lime\",\"width\":2},\"mode\":\"lines\",\"x\":[-0.10197027794246338,-0.1780385697373179],\"y\":[-0.0074789830761859966,0.22554454212143793],\"z\":[-1.2454464428998406,-1.2534873465614922],\"type\":\"scatter3d\"},{\"line\":{\"color\":\"lime\",\"width\":2},\"mode\":\"lines\",\"x\":[0.14068884997093267,0.1647013120196969],\"y\":[0.2389960735675761,-0.004917336663142341],\"z\":[-1.3236151945074397,-1.332595825528498],\"type\":\"scatter3d\"},{\"line\":{\"color\":\"lime\",\"width\":2},\"mode\":\"lines\",\"x\":[0.1647013120196969,0.1871604776643343],\"y\":[-0.004917336663142341,-0.2393906416475027],\"z\":[-1.332595825528498,-1.3440341990110838],\"type\":\"scatter3d\"},{\"line\":{\"color\":\"lime\",\"width\":2},\"mode\":\"lines\",\"x\":[-0.1780385697373179,0.14068884997093267],\"y\":[0.22554454212143793,0.2389960735675761],\"z\":[-1.2534873465614922,-1.3236151945074397],\"type\":\"scatter3d\"}],\"name\":\"12\"},{\"data\":[{\"marker\":{\"color\":\"blue\",\"size\":6},\"mode\":\"markers\",\"x\":[-0.04543885,-0.17002411,-0.19331875,0.13614458,0.17638431,0.19434579],\"y\":[0.0008290979,-0.0036068729,0.22065777,0.23499207,-0.0003229792,-0.20033635],\"z\":[-0.9884547,-1.1692284,-1.2157098,-1.2305131,-1.2770967,-1.2484788],\"type\":\"scatter3d\"},{\"marker\":{\"color\":\"green\",\"size\":6},\"mode\":\"markers\",\"x\":[0.07058263287004063,-0.10197027794246338,-0.1780385697373179,0.14068884997093267,0.1647013120196969,0.1871604776643343],\"y\":[0.01216101918923701,-0.0074789830761859966,0.22554454212143793,0.2389960735675761,-0.004917336663142341,-0.2393906416475027],\"z\":[-1.0902892308979144,-1.2454464428998406,-1.2534873465614922,-1.3236151945074397,-1.332595825528498,-1.3440341990110838],\"type\":\"scatter3d\"},{\"line\":{\"color\":\"red\",\"width\":2},\"mode\":\"lines\",\"x\":[-0.045438848435878754,-0.170024111866951],\"y\":[0.0008290978730656207,-0.0036068728659301996],\"z\":[-0.9884546995162964,-1.169228434562683],\"type\":\"scatter3d\"},{\"line\":{\"color\":\"red\",\"width\":2},\"mode\":\"lines\",\"x\":[-0.170024111866951,-0.19331875443458557],\"y\":[-0.0036068728659301996,0.22065776586532593],\"z\":[-1.169228434562683,-1.2157098054885864],\"type\":\"scatter3d\"},{\"line\":{\"color\":\"red\",\"width\":2},\"mode\":\"lines\",\"x\":[0.13614457845687866,0.1763843148946762],\"y\":[0.23499207198619843,-0.0003229792055208236],\"z\":[-1.230513095855713,-1.2770967483520508],\"type\":\"scatter3d\"},{\"line\":{\"color\":\"red\",\"width\":2},\"mode\":\"lines\",\"x\":[0.1763843148946762,0.19434578716754913],\"y\":[-0.0003229792055208236,-0.20033635199069977],\"z\":[-1.2770967483520508,-1.2484787702560425],\"type\":\"scatter3d\"},{\"line\":{\"color\":\"red\",\"width\":2},\"mode\":\"lines\",\"x\":[-0.19331875443458557,0.13614457845687866],\"y\":[0.22065776586532593,0.23499207198619843],\"z\":[-1.2157098054885864,-1.230513095855713],\"type\":\"scatter3d\"},{\"line\":{\"color\":\"lime\",\"width\":2},\"mode\":\"lines\",\"x\":[0.07058263287004063,-0.10197027794246338],\"y\":[0.01216101918923701,-0.0074789830761859966],\"z\":[-1.0902892308979144,-1.2454464428998406],\"type\":\"scatter3d\"},{\"line\":{\"color\":\"lime\",\"width\":2},\"mode\":\"lines\",\"x\":[-0.10197027794246338,-0.1780385697373179],\"y\":[-0.0074789830761859966,0.22554454212143793],\"z\":[-1.2454464428998406,-1.2534873465614922],\"type\":\"scatter3d\"},{\"line\":{\"color\":\"lime\",\"width\":2},\"mode\":\"lines\",\"x\":[0.14068884997093267,0.1647013120196969],\"y\":[0.2389960735675761,-0.004917336663142341],\"z\":[-1.3236151945074397,-1.332595825528498],\"type\":\"scatter3d\"},{\"line\":{\"color\":\"lime\",\"width\":2},\"mode\":\"lines\",\"x\":[0.1647013120196969,0.1871604776643343],\"y\":[-0.004917336663142341,-0.2393906416475027],\"z\":[-1.332595825528498,-1.3440341990110838],\"type\":\"scatter3d\"},{\"line\":{\"color\":\"lime\",\"width\":2},\"mode\":\"lines\",\"x\":[-0.1780385697373179,0.14068884997093267],\"y\":[0.22554454212143793,0.2389960735675761],\"z\":[-1.2534873465614922,-1.3236151945074397],\"type\":\"scatter3d\"}],\"name\":\"13\"},{\"data\":[{\"marker\":{\"color\":\"blue\",\"size\":6},\"mode\":\"markers\",\"x\":[-0.04543885,-0.17002411,-0.19331875,0.13614458,0.17638431,0.19434579],\"y\":[0.0008290979,-0.0036068729,0.22065777,0.23499207,-0.0003229792,-0.20033635],\"z\":[-0.9884547,-1.1692284,-1.2157098,-1.2305131,-1.2770967,-1.2484788],\"type\":\"scatter3d\"},{\"marker\":{\"color\":\"green\",\"size\":6},\"mode\":\"markers\",\"x\":[0.07058263287004063,-0.10197027794246338,-0.1780385697373179,0.14068884997093267,0.1647013120196969,0.1871604776643343],\"y\":[0.01216101918923701,-0.0074789830761859966,0.22554454212143793,0.2389960735675761,-0.004917336663142341,-0.2393906416475027],\"z\":[-1.0902892308979144,-1.2454464428998406,-1.2534873465614922,-1.3236151945074397,-1.332595825528498,-1.3440341990110838],\"type\":\"scatter3d\"},{\"line\":{\"color\":\"red\",\"width\":2},\"mode\":\"lines\",\"x\":[-0.045438848435878754,-0.170024111866951],\"y\":[0.0008290978730656207,-0.0036068728659301996],\"z\":[-0.9884546995162964,-1.169228434562683],\"type\":\"scatter3d\"},{\"line\":{\"color\":\"red\",\"width\":2},\"mode\":\"lines\",\"x\":[-0.170024111866951,-0.19331875443458557],\"y\":[-0.0036068728659301996,0.22065776586532593],\"z\":[-1.169228434562683,-1.2157098054885864],\"type\":\"scatter3d\"},{\"line\":{\"color\":\"red\",\"width\":2},\"mode\":\"lines\",\"x\":[0.13614457845687866,0.1763843148946762],\"y\":[0.23499207198619843,-0.0003229792055208236],\"z\":[-1.230513095855713,-1.2770967483520508],\"type\":\"scatter3d\"},{\"line\":{\"color\":\"red\",\"width\":2},\"mode\":\"lines\",\"x\":[0.1763843148946762,0.19434578716754913],\"y\":[-0.0003229792055208236,-0.20033635199069977],\"z\":[-1.2770967483520508,-1.2484787702560425],\"type\":\"scatter3d\"},{\"line\":{\"color\":\"red\",\"width\":2},\"mode\":\"lines\",\"x\":[-0.19331875443458557,0.13614457845687866],\"y\":[0.22065776586532593,0.23499207198619843],\"z\":[-1.2157098054885864,-1.230513095855713],\"type\":\"scatter3d\"},{\"line\":{\"color\":\"lime\",\"width\":2},\"mode\":\"lines\",\"x\":[0.07058263287004063,-0.10197027794246338],\"y\":[0.01216101918923701,-0.0074789830761859966],\"z\":[-1.0902892308979144,-1.2454464428998406],\"type\":\"scatter3d\"},{\"line\":{\"color\":\"lime\",\"width\":2},\"mode\":\"lines\",\"x\":[-0.10197027794246338,-0.1780385697373179],\"y\":[-0.0074789830761859966,0.22554454212143793],\"z\":[-1.2454464428998406,-1.2534873465614922],\"type\":\"scatter3d\"},{\"line\":{\"color\":\"lime\",\"width\":2},\"mode\":\"lines\",\"x\":[0.14068884997093267,0.1647013120196969],\"y\":[0.2389960735675761,-0.004917336663142341],\"z\":[-1.3236151945074397,-1.332595825528498],\"type\":\"scatter3d\"},{\"line\":{\"color\":\"lime\",\"width\":2},\"mode\":\"lines\",\"x\":[0.1647013120196969,0.1871604776643343],\"y\":[-0.004917336663142341,-0.2393906416475027],\"z\":[-1.332595825528498,-1.3440341990110838],\"type\":\"scatter3d\"},{\"line\":{\"color\":\"lime\",\"width\":2},\"mode\":\"lines\",\"x\":[-0.1780385697373179,0.14068884997093267],\"y\":[0.22554454212143793,0.2389960735675761],\"z\":[-1.2534873465614922,-1.3236151945074397],\"type\":\"scatter3d\"}],\"name\":\"14\"}]);\n",
       "                        }).then(function(){\n",
       "                            \n",
       "var gd = document.getElementById('b4469249-c7b6-4b47-9c6d-e3330977edb6');\n",
       "var x = new MutationObserver(function (mutations, observer) {{\n",
       "        var display = window.getComputedStyle(gd).display;\n",
       "        if (!display || display === 'none') {{\n",
       "            console.log([gd, 'removed!']);\n",
       "            Plotly.purge(gd);\n",
       "            observer.disconnect();\n",
       "        }}\n",
       "}});\n",
       "\n",
       "// Listen for the removal of the full notebook cells\n",
       "var notebookContainer = gd.closest('#notebook-container');\n",
       "if (notebookContainer) {{\n",
       "    x.observe(notebookContainer, {childList: true});\n",
       "}}\n",
       "\n",
       "// Listen for the clearing of the current output cell\n",
       "var outputEl = gd.closest('.output');\n",
       "if (outputEl) {{\n",
       "    x.observe(outputEl, {childList: true});\n",
       "}}\n",
       "\n",
       "                        })                };                });            </script>        </div>"
      ]
     },
     "metadata": {},
     "output_type": "display_data"
    }
   ],
   "source": [
    "import numpy as np\n",
    "import plotly.graph_objects as go\n",
    "from ipywidgets import interactive, IntSlider\n",
    "from IPython.display import display\n",
    "\n",
    "updated_connections = [\n",
    "    (0, 1), (1, 2),  # Right arm\n",
    "    (3, 4), (4, 5),  # Left arm\n",
    "    (2, 3),  # Connection between arms\n",
    "]\n",
    "\n",
    "def update_plot(pred):\n",
    "    # First dataset processing\n",
    "    data = hf.reverse_normalization(predicted_positions[-1], medians_pos, iqrs_pos)\n",
    "    #data = predicted_positions[pred]\n",
    "\n",
    "\n",
    "    if len(data.shape) == 1:\n",
    "        print(\"Data is a scalar or has unexpected shape.\")\n",
    "        return np.zeros((1, 3)), [], np.zeros((1, 3)), []\n",
    "    else:\n",
    "        valid_keypoints = ~np.isnan(data[:, :3]).any(axis=1)\n",
    "        filtered_data = data[valid_keypoints]\n",
    "\n",
    "        # Create mapping from old indices to new indices after NaN removal\n",
    "        index_mapping = {old_index: new_index for new_index, old_index in enumerate(np.where(valid_keypoints)[0])}\n",
    "        # Create new connections for the first dataset\n",
    "        new_connections = [(index_mapping[start], index_mapping[end])\n",
    "                           for start, end in updated_connections\n",
    "                           if start in index_mapping and end in index_mapping]\n",
    "\n",
    "    # Second dataset processing\n",
    "    data_y = hf.reverse_normalization(combined_Y_pos[batchnum][-1], medians_pos, iqrs_pos)\n",
    "    #data_y = combined_Y_pos[batchnum][pred]\n",
    "\n",
    "\n",
    "    if len(data_y.shape) == 1:\n",
    "        print(\"Data_y is a scalar or has unexpected shape.\")\n",
    "        return np.zeros((1, 3)), [], np.zeros((1, 3)), []\n",
    "    else:\n",
    "        valid_keypoints_y = ~np.isnan(data_y[:, :3]).any(axis=1)\n",
    "        filtered_data_y = data_y[valid_keypoints_y]\n",
    "\n",
    "        # Create mapping from old indices to new indices for the second dataset\n",
    "        index_mapping_y = {old_index: new_index for new_index, old_index in enumerate(np.where(valid_keypoints_y)[0])}\n",
    "        # Create new connections for the second dataset\n",
    "        new_connections_y = [(index_mapping_y[start], index_mapping_y[end])\n",
    "                             for start, end in updated_connections\n",
    "                             if start in index_mapping_y and end in index_mapping_y]\n",
    "\n",
    "    return filtered_data, new_connections, filtered_data_y, new_connections_y\n",
    "\n",
    "# Calculate overall axis limits\n",
    "# all_data = np.vstack([hf.reverse_normalization(pos, medians_pos, iqrs_pos) for pos in predicted_positions] +\n",
    "#                      [hf.reverse_normalization(combined_Y_pos[batchnum][i], medians_pos, iqrs_pos) for i in range(len(predicted_positions))])\n",
    "\n",
    "all_data = np.vstack([hf.reverse_normalization(pos, medians_pos, iqrs_pos) for pos in predicted_positions] +\n",
    "                     [hf.reverse_normalization(combined_Y_pos[batchnum][i], medians_pos, iqrs_pos) for i in range(len(predicted_positions))])\n",
    "\n",
    "# Ensure all_data is 3D\n",
    "if all_data.ndim < 3:\n",
    "    print(f\"Warning: all_data has unexpected shape: {all_data.shape}\")\n",
    "    all_data = all_data.reshape(-1, 1, 3)  # Reshape to 3D\n",
    "\n",
    "# Calculate min and max values for each axis\n",
    "x_min, y_min, z_min = np.nanmin(all_data, axis=(0, 1))\n",
    "x_max, y_max, z_max = np.nanmax(all_data, axis=(0, 1))\n",
    "\n",
    "# Check if any of the values are NaN and replace with default values if necessary\n",
    "if np.isnan(x_min) or np.isnan(x_max):\n",
    "    print(\"Warning: X-axis limits contain NaN. Using default values.\")\n",
    "    x_min, x_max = -1, 1\n",
    "if np.isnan(y_min) or np.isnan(y_max):\n",
    "    print(\"Warning: Y-axis limits contain NaN. Using default values.\")\n",
    "    y_min, y_max = -1, 1\n",
    "if np.isnan(z_min) or np.isnan(z_max):\n",
    "    print(\"Warning: Z-axis limits contain NaN. Using default values.\")\n",
    "    z_min, z_max = -1, 1\n",
    "\n",
    "# Add padding\n",
    "padding = 0.1\n",
    "x_range = x_max - x_min\n",
    "y_range = y_max - y_min\n",
    "z_range = z_max - z_min\n",
    "x_min -= x_range * padding\n",
    "x_max += x_range * padding\n",
    "y_min -= y_range * padding\n",
    "y_max += y_range * padding\n",
    "z_min -= z_range * padding\n",
    "z_max += z_range * padding\n",
    "\n",
    "# Initialize the plot\n",
    "fig = go.Figure()\n",
    "\n",
    "# Add initial traces (these will be updated later)\n",
    "scatter = fig.add_trace(go.Scatter3d(x=[0], y=[0], z=[0], mode='markers', marker=dict(size=6, color='blue'), name='Prediction'))\n",
    "scatter_y = fig.add_trace(go.Scatter3d(x=[0], y=[0], z=[0], mode='markers', marker=dict(size=6, color='green'), name='Ground Truth'))\n",
    "\n",
    "for _ in range(len(updated_connections)):\n",
    "    fig.add_trace(go.Scatter3d(x=[0, 0], y=[0, 0], z=[0, 0], mode='lines', line=dict(color='red', width=2), name='Prediction'))\n",
    "    fig.add_trace(go.Scatter3d(x=[0, 0], y=[0, 0], z=[0, 0], mode='lines', line=dict(color='lime', width=2), name='Ground Truth'))\n",
    "\n",
    "# Set layout\n",
    "fig.update_layout(\n",
    "    scene=dict(\n",
    "        xaxis=dict(title='X', range=[x_min, x_max], autorange=False),\n",
    "        yaxis=dict(title='Y', range=[y_min, y_max], autorange=False),\n",
    "        zaxis=dict(title='Z', range=[z_min, z_max], autorange=False),\n",
    "        aspectmode='cube',\n",
    "        camera=dict(\n",
    "            eye=dict(x=1.5, y=1.5, z=1.5),  # Adjust camera position\n",
    "                up=dict(x=0, y=1, z=0)  # Set up direction to positive z-axis\n",
    "        )\n",
    "    ),\n",
    "    updatemenus=[dict(\n",
    "        type='buttons',\n",
    "        showactive=False,\n",
    "        buttons=[dict(label='Play',\n",
    "                      method='animate',\n",
    "                      args=[None, dict(frame=dict(duration=500, redraw=True), fromcurrent=True, mode='immediate')])]\n",
    "    )],\n",
    "    height=700,\n",
    "    width=700\n",
    ")\n",
    "\n",
    "# Create frames for animation\n",
    "frames = []\n",
    "for pred in range(len(predicted_positions)):\n",
    "    filtered_data, new_connections, filtered_data_y, new_connections_y = update_plot(pred)\n",
    "    \n",
    "    frame = go.Frame(\n",
    "        data=[\n",
    "            go.Scatter3d(x=filtered_data[:, 0], y=filtered_data[:, 1], z=filtered_data[:, 2], mode='markers', marker=dict(size=6, color='blue')),\n",
    "            go.Scatter3d(x=filtered_data_y[:, 0], y=filtered_data_y[:, 1], z=filtered_data_y[:, 2], mode='markers', marker=dict(size=6, color='green'))\n",
    "        ] +\n",
    "        [go.Scatter3d(x=[filtered_data[start, 0], filtered_data[end, 0]], \n",
    "                      y=[filtered_data[start, 1], filtered_data[end, 1]], \n",
    "                      z=[filtered_data[start, 2], filtered_data[end, 2]], \n",
    "                      mode='lines', line=dict(color='red', width=2))\n",
    "         for start, end in new_connections] +\n",
    "        [go.Scatter3d(x=[filtered_data_y[start, 0], filtered_data_y[end, 0]], \n",
    "                      y=[filtered_data_y[start, 1], filtered_data_y[end, 1]], \n",
    "                      z=[filtered_data_y[start, 2], filtered_data_y[end, 2]], \n",
    "                      mode='lines', line=dict(color='lime', width=2))\n",
    "         for start, end in new_connections_y],\n",
    "        name=str(pred)\n",
    "    )\n",
    "    frames.append(frame)\n",
    "\n",
    "fig.frames = frames\n",
    "\n",
    "# Add slider\n",
    "# sliders = [dict(\n",
    "#     steps=[dict(method='animate',\n",
    "#                 args=[[str(i)], dict(mode='immediate', frame=dict(duration=500, redraw=True), transition=dict(duration=0))],\n",
    "#                 label=str(i)) for i in range(len(predicted_positions))],\n",
    "#     transition=dict(duration=0),\n",
    "#     x=0,\n",
    "#     y=0, \n",
    "#     currentvalue=dict(font=dict(size=12), prefix='Frame: ', visible=True, xanchor='center'),\n",
    "#     len=1.0\n",
    "# )]\n",
    "\n",
    "# fig.update_layout(sliders=sliders)\n",
    "\n",
    "# Show the figure\n",
    "fig.show()"
   ]
  },
  {
   "cell_type": "code",
   "execution_count": 7,
   "id": "9b372154",
   "metadata": {},
   "outputs": [
    {
     "data": {
      "image/png": "[encoded data removed]",
      "text/plain": [
       "<Figure size 1000x600 with 1 Axes>"
      ]
     },
     "metadata": {},
     "output_type": "display_data"
    }
   ],
   "source": [
    "import matplotlib.pyplot as plt\n",
    "\n",
    "# First set of error values\n",
    "errors_first_set = [\n",
    "    0.3571, 0.3716, 0.4279, 0.5543, 0.5699, 0.7271,\n",
    "    0.8781, 0.9333, 1.1531, 1.6589\n",
    "]\n",
    "\n",
    "# Second set of error values\n",
    "errors_second_set = [\n",
    "    0.0135, 0.0668, 0.0971, 0.1059, 0.1099, 0.1166,\n",
    "    0.1282, 0.1546, 0.1960, 0.1988\n",
    "]\n",
    "\n",
    "errors_third_set = [\n",
    "    0.0090, 0.0329, 0.0358, 0.0358, 0.0330, 0.0299,\n",
    "    0.0287, 0.0387, 0.0435, 0.0504\n",
    "]\n",
    "\n",
    "errors_new_Set = [0.0339,0.0396,0.0135,0.0280,0.0144,0.0545,0.0617,0.0530,0.0487,0.0139]\n",
    "\n",
    "\n",
    "# Generate x values for plotting\n",
    "x_values_first = list(range(len(errors_first_set)))\n",
    "x_values_second = list(range(len(errors_second_set)))\n",
    "x_values_third = list(range(len(errors_third_set)))\n",
    "x_values_fourth= list(range(len(errors_new_Set)))\n",
    "\n",
    "# Create the scatter plot\n",
    "plt.figure(figsize=(10, 6))\n",
    "\n",
    "plt.scatter(x_values_first, errors_first_set, color='blue', label='First Set of Errors')\n",
    "plt.scatter(x_values_second, errors_second_set, color='red', label='Second Set of Errors')\n",
    "plt.scatter(x_values_third, errors_third_set, color='green', label='third Set of Errors')\n",
    "plt.scatter(x_values_fourth, errors_new_Set, color='purple', label='third Set of Errors')\n",
    "\n",
    "plt.xlabel('Index')\n",
    "plt.ylabel('Error Value')\n",
    "plt.title('Comparison of Three Sets of Error Values')\n",
    "plt.legend()\n",
    "plt.grid(True)\n",
    "plt.show()\n"
   ]
  },
  {
   "cell_type": "code",
   "execution_count": null,
   "id": "14aafb27",
   "metadata": {},
   "outputs": [],
   "source": []
  }
 ],
 "metadata": {
  "kernelspec": {
   "display_name": "Python 3 (ipykernel)",
   "language": "python",
   "name": "python3"
  },
  "language_info": {
   "codemirror_mode": {
    "name": "ipython",
    "version": 3
   },
   "file_extension": ".py",
   "mimetype": "text/x-python",
   "name": "python",
   "nbconvert_exporter": "python",
   "pygments_lexer": "ipython3",
   "version": "3.8.10"
  }
 },
 "nbformat": 4,
 "nbformat_minor": 5
}
